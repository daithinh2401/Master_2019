{
 "cells": [
  {
   "cell_type": "markdown",
   "metadata": {},
   "source": [
    "## Importing Libraries"
   ]
  },
  {
   "cell_type": "code",
   "execution_count": null,
   "metadata": {},
   "outputs": [],
   "source": [
    "# Predicting stock and stock price index movement using ANN Prediction Model and technical indicators (Cont. data)"
   ]
  },
  {
   "cell_type": "code",
   "execution_count": null,
   "metadata": {},
   "outputs": [],
   "source": [
    "import pandas as pd\n",
    "import pandas_datareader.data as web\n",
    "import datetime\n",
    "import numpy as np\n",
    "from talib.abstract import *\n",
    "from sklearn.model_selection import train_test_split\n",
    " from sklearn.neural_network import MLPClassifier\n",
    "from sklearn.metrics import f1_score\n",
    "import matplotlib.pyplot as plt\n"
   ]
  },
  {
   "cell_type": "markdown",
   "metadata": {},
   "source": [
    "### Research Data used in this experiment consists of 3 stock price indices (S&P 500, Dow Jones & NASDAQ-100) and 3 stocks (Apple, Amazon & Google)"
   ]
  },
  {
   "cell_type": "code",
   "execution_count": null,
   "metadata": {},
   "outputs": [],
   "source": [
    "stock = ['AAPL','AMZN','GOOG']\n",
    "index = ['GSPC','NDX','DJI']"
   ]
  },
  {
   "cell_type": "markdown",
   "metadata": {},
   "source": [
    "## Loading of datasets"
   ]
  },
  {
   "cell_type": "code",
   "execution_count": null,
   "metadata": {},
   "outputs": [],
   "source": [
    "stocks = {}\n",
    "indices = {}\n",
    "for i in stock:\n",
    "    stocks[i] = pd.read_csv('Datasets/Stocks/'+i+'.csv')\n",
    "for i in index:\n",
    "    indices[i]  = pd.read_csv('Datasets/Stock Indices/'+i+'.csv')"
   ]
  },
  {
   "cell_type": "code",
   "execution_count": null,
   "metadata": {},
   "outputs": [],
   "source": [
    "stocks['AAPL'].head()"
   ]
  },
  {
   "cell_type": "code",
   "execution_count": null,
   "metadata": {},
   "outputs": [],
   "source": [
    "stocks['AMZN'].head()"
   ]
  },
  {
   "cell_type": "code",
   "execution_count": null,
   "metadata": {},
   "outputs": [],
   "source": [
    "stocks['GOOG'].head()"
   ]
  },
  {
   "cell_type": "code",
   "execution_count": null,
   "metadata": {},
   "outputs": [],
   "source": [
    "indices['NDX'].head()"
   ]
  },
  {
   "cell_type": "code",
   "execution_count": null,
   "metadata": {},
   "outputs": [],
   "source": [
    "indices['GSPC'].head()"
   ]
  },
  {
   "cell_type": "code",
   "execution_count": null,
   "metadata": {},
   "outputs": [],
   "source": [
    "indices['DJI'].head()"
   ]
  },
  {
   "cell_type": "code",
   "execution_count": null,
   "metadata": {},
   "outputs": [],
   "source": [
    "len(stocks['AMZN'])"
   ]
  },
  {
   "cell_type": "code",
   "execution_count": null,
   "metadata": {},
   "outputs": [],
   "source": [
    "len(stocks['GOOG'])"
   ]
  },
  {
   "cell_type": "code",
   "execution_count": null,
   "metadata": {},
   "outputs": [],
   "source": [
    "len(stocks['AAPL'])"
   ]
  },
  {
   "cell_type": "code",
   "execution_count": null,
   "metadata": {},
   "outputs": [],
   "source": [
    "len(indices['GSPC'])"
   ]
  },
  {
   "cell_type": "code",
   "execution_count": null,
   "metadata": {},
   "outputs": [],
   "source": [
    "len(indices['NDX'])"
   ]
  },
  {
   "cell_type": "code",
   "execution_count": null,
   "metadata": {},
   "outputs": [],
   "source": [
    "len(indices['DJI'])"
   ]
  },
  {
   "cell_type": "markdown",
   "metadata": {},
   "source": [
    "## Data Refining\n"
   ]
  },
  {
   "cell_type": "code",
   "execution_count": null,
   "metadata": {},
   "outputs": [],
   "source": [
    "for i,j in enumerate(stocks):\n",
    "    stocks[j].columns = [s.lower() for s in stocks[j].columns]\n",
    "    stocks[j].volume = stocks[j].volume.apply(lambda x: float(x))\n",
    "for i,j in enumerate(indices):\n",
    "    indices[j].columns = [s.lower() for s in indices[j].columns]\n",
    "    indices[j].volume = indices[j].volume.apply(lambda x: float(x))"
   ]
  },
  {
   "cell_type": "markdown",
   "metadata": {},
   "source": [
    "## Calculation of Technical Indicators "
   ]
  },
  {
   "cell_type": "code",
   "execution_count": null,
   "metadata": {},
   "outputs": [],
   "source": [
    "def get_stocks_indicators(stocks, period):\n",
    "    stocks_indicators = {}\n",
    "    for i in stocks:\n",
    "        features = pd.DataFrame(SMA(stocks[i], timeperiod=10))\n",
    "        features.columns = ['sma_10']\n",
    "        features['mom_10'] = pd.DataFrame(MOM(stocks[i],10))\n",
    "        features['wma_10'] = pd.DataFrame(WMA(stocks[i],10))\n",
    "        features = pd.concat([features,STOCHF(stocks[i], \n",
    "                                          fastk_period=14, \n",
    "                                          fastd_period=3)],\n",
    "                             axis=1)\n",
    "        features['macd'] = pd.DataFrame(MACD(stocks[i], fastperiod=12, slowperiod=26)['macd'])\n",
    "        features['rsi'] = pd.DataFrame(RSI(stocks[i], timeperiod=14))\n",
    "        features['willr'] = pd.DataFrame(WILLR(stocks[i], timeperiod=14))\n",
    "        features['cci'] = pd.DataFrame(CCI(stocks[i], timeperiod=14))\n",
    "        features['adosc'] = pd.DataFrame(ADOSC(stocks[i], fastperiod=3, slowperiod=10))\n",
    "        features['pct_change'] = ROC(stocks[i], timeperiod=period)\n",
    "        features['pct_change'] = features['pct_change'].shift(-period)\n",
    "        features['pct_change'] = features['pct_change'].apply(lambda x: '1' if x > 0 else '0' if x <= 0 else np.nan)\n",
    "        features = features.dropna()\n",
    "        #features = features.iloc[np.where(features.index=='1998-5-5')[0][0]:np.where(features.index=='2015-5-5')[0][0]]\n",
    "        stocks_indicators[i] = features\n",
    "    return stocks_indicators\n",
    "\n",
    "def get_indices_indicators(indices, period):\n",
    "    indices_indicators = {}\n",
    "    for i in indices:\n",
    "        features = pd.DataFrame(SMA(indices[i], timeperiod=10))\n",
    "        features.columns = ['sma_10']\n",
    "        features['mom_10'] = pd.DataFrame(MOM(indices[i],10))\n",
    "        features['wma_10'] = pd.DataFrame(WMA(indices[i],10))\n",
    "        features = pd.concat([features,STOCHF(indices[i], \n",
    "                                          fastk_period=14, \n",
    "                                          fastd_period=3)],\n",
    "                             axis=1)\n",
    "        features['macd'] = pd.DataFrame(MACD(indices[i], fastperiod=12, slowperiod=26)['macd'])\n",
    "        features['rsi'] = pd.DataFrame(RSI(indices[i], timeperiod=14))\n",
    "        features['willr'] = pd.DataFrame(WILLR(indices[i], timeperiod=14))\n",
    "        features['cci'] = pd.DataFrame(CCI(indices[i], timeperiod=14))\n",
    "        features['adosc'] = pd.DataFrame(ADOSC(indices[i], fastperiod=3, slowperiod=10))\n",
    "        features['pct_change'] = ROC(indices[i], timeperiod=period)\n",
    "        features['pct_change'] = features['pct_change'].shift(-period)\n",
    "        features['pct_change'] = features['pct_change'].apply(lambda x: '1' if x > 0 else '0' if x <= 0 else np.nan)\n",
    "        features = features.dropna()\n",
    "        #features = features.iloc[np.where(features.index=='1998-5-5')[0][0]:np.where(features.index=='2015-5-5')[0][0]]\n",
    "        indices_indicators[i] = features\n",
    "    return indices_indicators"
   ]
  },
  {
   "cell_type": "code",
   "execution_count": null,
   "metadata": {},
   "outputs": [],
   "source": [
    "stocks_indicators = get_stocks_indicators(stocks, 1)\n",
    "indices_indicators = get_indices_indicators(indices, 1)"
   ]
  },
  {
   "cell_type": "code",
   "execution_count": null,
   "metadata": {},
   "outputs": [],
   "source": [
    "stocks_indicators['AAPL'].head()"
   ]
  },
  {
   "cell_type": "code",
   "execution_count": null,
   "metadata": {},
   "outputs": [],
   "source": [
    "stocks_indicators['AMZN'].head()"
   ]
  },
  {
   "cell_type": "code",
   "execution_count": null,
   "metadata": {},
   "outputs": [],
   "source": [
    "indices_indicators['GSPC'].head()"
   ]
  },
  {
   "cell_type": "code",
   "execution_count": null,
   "metadata": {},
   "outputs": [],
   "source": [
    "indices_indicators['NDX'].head()"
   ]
  },
  {
   "cell_type": "code",
   "execution_count": null,
   "metadata": {},
   "outputs": [],
   "source": [
    "len(stocks_indicators['AAPL'])"
   ]
  },
  {
   "cell_type": "markdown",
   "metadata": {},
   "source": [
    "## Calculation of weight table to depict increase and decrease in Stock Points "
   ]
  },
  {
   "cell_type": "code",
   "execution_count": null,
   "metadata": {},
   "outputs": [],
   "source": [
    "def weighs_table(stocks, indices, period):\n",
    "    stocks_table = pd.DataFrame()\n",
    "    indices_table = pd.DataFrame()\n",
    "    for j in stocks:\n",
    "        weighs_1 = []\n",
    "        for i in range(1,period+1):\n",
    "            stocks_indicators = get_stocks_indicators(stocks, i)\n",
    "            weighs_1.append((len(stocks_indicators[j][stocks_indicators[j]['pct_change']=='1'])/\\\n",
    "                            float(len(stocks_indicators[j])))*100)\n",
    "        stocks_table = pd.concat([stocks_table, pd.DataFrame(weighs_1)], axis=1)\n",
    "    for j in indices:\n",
    "        weighs_1 = []\n",
    "        for i in range(1,period+1):\n",
    "            indices_indicators = get_indices_indicators(indices, i)\n",
    "            weighs_1.append((len(indices_indicators[j][indices_indicators[j]['pct_change']=='1'])/\\\n",
    "                            float(len(indices_indicators[j])))*100)\n",
    "        indices_table = pd.concat([indices_table, pd.DataFrame(weighs_1)], axis=1)\n",
    "    stocks_table.index = range(1,period+1)\n",
    "    stocks_table.columns = stocks.keys()\n",
    "    indices_table.index = range(1,period+1)\n",
    "    indices_table.columns = indices.keys()\n",
    "    return stocks_table, indices_table"
   ]
  },
  {
   "cell_type": "code",
   "execution_count": null,
   "metadata": {},
   "outputs": [],
   "source": [
    "stocks_table, indices_table = weighs_table(stocks, indices, 20)"
   ]
  },
  {
   "cell_type": "code",
   "execution_count": null,
   "metadata": {},
   "outputs": [],
   "source": [
    "plt.plot(stocks_table)"
   ]
  },
  {
   "cell_type": "code",
   "execution_count": null,
   "metadata": {},
   "outputs": [],
   "source": [
    "plt.plot(indices_table)"
   ]
  },
  {
   "cell_type": "markdown",
   "metadata": {},
   "source": [
    "# Implementation of ANN Classifier Algorithm"
   ]
  },
  {
   "cell_type": "code",
   "execution_count": null,
   "metadata": {},
   "outputs": [],
   "source": [
    "def avg_score(x_train, y_train,x_test,y_test):\n",
    "    accuracy = []\n",
    "    f1 = []\n",
    "    rf_model = svm.MLPClassifier(hidden_layer_sizes=(10, 3), learning_rate=0.1, momentum=0.9, max_iter = 100)\n",
    "    for i in range(5):\n",
    "        rf_model.fit(x_train,y_train)\n",
    "        accuracy.append(rf_model.score(x_test,y_test))\n",
    "        f1.append(f1_score(y_test,rf_model.predict(x_test), pos_label='1'))\n",
    "    avg_accuracy = sum(accuracy)/len(accuracy)\n",
    "    avg_f1 = sum(f1)/len(f1)\n",
    "    return avg_accuracy, avg_f1"
   ]
  },
  {
   "cell_type": "markdown",
   "metadata": {},
   "source": [
    "## Using ANN Algorithm for prediction of stock and stock price movement "
   ]
  },
  {
   "cell_type": "code",
   "execution_count": null,
   "metadata": {},
   "outputs": [],
   "source": [
    "def stocks_accuracy(stocks, period):\n",
    "    table_accuracy = pd.DataFrame()\n",
    "    table_f1 = pd.DataFrame()\n",
    "    for j in stocks:\n",
    "        accuracy_values = []\n",
    "        f1_values = []\n",
    "        for i in range(1,period+1):\n",
    "            stocks_indicators = get_stocks_indicators(stocks, i)\n",
    "            train, test = train_test_split(stocks_indicators[j])\n",
    "            accuracy, f1 = avg_score(train.iloc[:,:-1],train.iloc[:,-1],test.iloc[:,:-1],test.iloc[:,-1])\n",
    "            accuracy_values.append(accuracy)\n",
    "            f1_values.append(f1)\n",
    "        table_accuracy = pd.concat([table_accuracy, pd.DataFrame({j : accuracy_values})], axis=1)\n",
    "        table_f1 = pd.concat([table_f1, pd.DataFrame({j : f1_values})], axis=1)\n",
    "    table_accuracy.index = range(1,period+1)\n",
    "    table_f1.index = range(1,period+1)\n",
    "    return table_accuracy, table_f1\n",
    "\n",
    "def indices_accuracy(indices, period):\n",
    "    table_accuracy = pd.DataFrame()\n",
    "    table_f1 = pd.DataFrame()\n",
    "    for j in indices:\n",
    "        accuracy_values = []\n",
    "        f1_values = []\n",
    "        for i in range(1,period+1):\n",
    "            indices_indicators = get_indices_indicators(indices, i)\n",
    "            train, test = train_test_split(indices_indicators[j])\n",
    "            accuracy, f1 = avg_score(train.iloc[:,:-1],train.iloc[:,-1],test.iloc[:,:-1],test.iloc[:,-1])\n",
    "            accuracy_values.append(accuracy)\n",
    "            f1_values.append(f1)\n",
    "        table_accuracy = pd.concat([table_accuracy, pd.DataFrame({j : accuracy_values})], axis=1)\n",
    "        table_f1 = pd.concat([table_f1, pd.DataFrame({j : f1_values})], axis=1)\n",
    "    table_accuracy.index = range(1,period+1)\n",
    "    table_f1.index = range(1,period+1)\n",
    "    return table_accuracy, table_f1"
   ]
  },
  {
   "cell_type": "code",
   "execution_count": null,
   "metadata": {},
   "outputs": [],
   "source": [
    "stocks_accuracy_table, stocks_f1_table = stocks_accuracy(stocks, 20)"
   ]
  },
  {
   "cell_type": "code",
   "execution_count": null,
   "metadata": {},
   "outputs": [],
   "source": [
    "indices_accuracy_table, indices_f1_table = indices_accuracy(indices, 20)"
   ]
  },
  {
   "cell_type": "markdown",
   "metadata": {},
   "source": [
    "## Graphical Representation of Accuracy and F1 scores of the used algorithm "
   ]
  },
  {
   "cell_type": "code",
   "execution_count": null,
   "metadata": {},
   "outputs": [],
   "source": [
    "fig = plt.figure()"
   ]
  },
  {
   "cell_type": "code",
   "execution_count": null,
   "metadata": {},
   "outputs": [],
   "source": [
    "plt.plot(stocks_accuracy_table)\n",
    "fig.suptitle('Accuracy Scores', fontsize=20)\n",
    "plt.xlabel('Days Ahead', fontsize=18)\n",
    "plt.ylabel('Average Score', fontsize=16)"
   ]
  },
  {
   "cell_type": "code",
   "execution_count": null,
   "metadata": {},
   "outputs": [],
   "source": [
    "plt.plot(indices_accuracy_table)\n",
    "fig.suptitle('Accuracy Scores', fontsize=20)\n",
    "plt.xlabel('Days Ahead', fontsize=18)\n",
    "plt.ylabel('Average Score', fontsize=16)"
   ]
  },
  {
   "cell_type": "code",
   "execution_count": null,
   "metadata": {},
   "outputs": [],
   "source": [
    "plt.plot(stocks_f1_table)\n",
    "fig.suptitle('Accuracy Scores', fontsize=20)\n",
    "plt.xlabel('Days Ahead', fontsize=18)\n",
    "plt.ylabel('Average Score', fontsize=16)"
   ]
  },
  {
   "cell_type": "code",
   "execution_count": null,
   "metadata": {},
   "outputs": [],
   "source": [
    "plt.plot(indices_f1_table)\n",
    "fig.suptitle('Accuracy Scores', fontsize=20)\n",
    "plt.xlabel('Days Ahead', fontsize=18)\n",
    "plt.ylabel('Average Score', fontsize=16)"
   ]
  },
  {
   "cell_type": "code",
   "execution_count": null,
   "metadata": {},
   "outputs": [],
   "source": [
    "def highlight_max(s):\n",
    "    '''\n",
    "    highlight the maximum in a Series yellow.\n",
    "    '''\n",
    "    is_max = s == s.max()\n",
    "    return ['background-color: yellow' if v else '' for v in is_max]"
   ]
  },
  {
   "cell_type": "markdown",
   "metadata": {},
   "source": [
    "## Tabular Representation of our final calculated results "
   ]
  },
  {
   "cell_type": "code",
   "execution_count": null,
   "metadata": {},
   "outputs": [],
   "source": [
    "stocks_accuracy_table.style.apply(highlight_max, axis=0)"
   ]
  },
  {
   "cell_type": "code",
   "execution_count": null,
   "metadata": {},
   "outputs": [],
   "source": [
    "indices_accuracy_table.style.apply(highlight_max, axis=0)"
   ]
  },
  {
   "cell_type": "code",
   "execution_count": null,
   "metadata": {},
   "outputs": [],
   "source": [
    "stocks_f1_table.style.apply(highlight_max, axis=0)"
   ]
  },
  {
   "cell_type": "code",
   "execution_count": null,
   "metadata": {},
   "outputs": [],
   "source": [
    "indices_f1_table.style.apply(highlight_max, axis=0)"
   ]
  },
  {
   "cell_type": "code",
   "execution_count": null,
   "metadata": {},
   "outputs": [],
   "source": []
  },
  {
   "cell_type": "code",
   "execution_count": null,
   "metadata": {},
   "outputs": [],
   "source": []
  },
  {
   "cell_type": "code",
   "execution_count": null,
   "metadata": {},
   "outputs": [],
   "source": []
  }
 ],
 "metadata": {
  "kernelspec": {
   "display_name": "cv2",
   "language": "python",
   "name": "cv2"
  },
  "language_info": {
   "codemirror_mode": {
    "name": "ipython",
    "version": 2
   },
   "file_extension": ".py",
   "mimetype": "text/x-python",
   "name": "python",
   "nbconvert_exporter": "python",
   "pygments_lexer": "ipython2",
   "version": "2.7.12"
  }
 },
 "nbformat": 4,
 "nbformat_minor": 2
}
