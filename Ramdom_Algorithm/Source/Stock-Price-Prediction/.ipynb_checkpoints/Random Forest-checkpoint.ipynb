{
 "cells": [
  {
   "cell_type": "markdown",
   "metadata": {},
   "source": [
    "# Predicting stock and stock price index movement using Random Forest Prediction Model and technical indicators (Cont. data)"
   ]
  },
  {
   "cell_type": "markdown",
   "metadata": {},
   "source": [
    "## Importing Libraries"
   ]
  },
  {
   "cell_type": "code",
   "execution_count": 31,
   "metadata": {},
   "outputs": [],
   "source": [
    "import pandas as pd\n",
    "import pandas_datareader.data as web\n",
    "import datetime\n",
    "import numpy as np\n",
    "from talib.abstract import *\n",
    "from sklearn.model_selection import train_test_split\n",
    "from sklearn.ensemble import RandomForestClassifier\n",
    "from sklearn.metrics import f1_score\n",
    "import matplotlib.pyplot as plt\n"
   ]
  },
  {
   "cell_type": "markdown",
   "metadata": {},
   "source": [
    "### Research Data used in this experiment consists of 3 stock price indices (S&P 500, Dow Jones & NASDAQ-100) and 3 stocks (Apple, Amazon & Google)"
   ]
  },
  {
   "cell_type": "code",
   "execution_count": 32,
   "metadata": {},
   "outputs": [],
   "source": [
    "stock = ['AAPL','AMZN','GOOG']\n",
    "index = ['GSPC','NDX','DJI']"
   ]
  },
  {
   "cell_type": "markdown",
   "metadata": {},
   "source": [
    "## Loading of datasets"
   ]
  },
  {
   "cell_type": "code",
   "execution_count": 33,
   "metadata": {},
   "outputs": [],
   "source": [
    "stocks = {}\n",
    "indices = {}\n",
    "for i in stock:\n",
    "    stocks[i] = pd.read_csv('Datasets/Stocks/'+i+'.csv')\n",
    "for i in index:\n",
    "    indices[i]  = pd.read_csv('Datasets/Stock Indices/'+i+'.csv')"
   ]
  },
  {
   "cell_type": "code",
   "execution_count": 34,
   "metadata": {},
   "outputs": [
    {
     "data": {
      "text/html": [
       "<div>\n",
       "<style scoped>\n",
       "    .dataframe tbody tr th:only-of-type {\n",
       "        vertical-align: middle;\n",
       "    }\n",
       "\n",
       "    .dataframe tbody tr th {\n",
       "        vertical-align: top;\n",
       "    }\n",
       "\n",
       "    .dataframe thead th {\n",
       "        text-align: right;\n",
       "    }\n",
       "</style>\n",
       "<table border=\"1\" class=\"dataframe\">\n",
       "  <thead>\n",
       "    <tr style=\"text-align: right;\">\n",
       "      <th></th>\n",
       "      <th>Date</th>\n",
       "      <th>Open</th>\n",
       "      <th>High</th>\n",
       "      <th>Low</th>\n",
       "      <th>Close</th>\n",
       "      <th>Adj Close</th>\n",
       "      <th>Volume</th>\n",
       "    </tr>\n",
       "  </thead>\n",
       "  <tbody>\n",
       "    <tr>\n",
       "      <th>0</th>\n",
       "      <td>2007-01-03</td>\n",
       "      <td>12.327143</td>\n",
       "      <td>12.368571</td>\n",
       "      <td>11.700000</td>\n",
       "      <td>11.971429</td>\n",
       "      <td>10.609749</td>\n",
       "      <td>309579900</td>\n",
       "    </tr>\n",
       "    <tr>\n",
       "      <th>1</th>\n",
       "      <td>2007-01-04</td>\n",
       "      <td>12.007143</td>\n",
       "      <td>12.278571</td>\n",
       "      <td>11.974286</td>\n",
       "      <td>12.237143</td>\n",
       "      <td>10.845238</td>\n",
       "      <td>211815100</td>\n",
       "    </tr>\n",
       "    <tr>\n",
       "      <th>2</th>\n",
       "      <td>2007-01-05</td>\n",
       "      <td>12.252857</td>\n",
       "      <td>12.314285</td>\n",
       "      <td>12.057143</td>\n",
       "      <td>12.150000</td>\n",
       "      <td>10.768006</td>\n",
       "      <td>208685400</td>\n",
       "    </tr>\n",
       "    <tr>\n",
       "      <th>3</th>\n",
       "      <td>2007-01-08</td>\n",
       "      <td>12.280000</td>\n",
       "      <td>12.361428</td>\n",
       "      <td>12.182858</td>\n",
       "      <td>12.210000</td>\n",
       "      <td>10.821184</td>\n",
       "      <td>199276700</td>\n",
       "    </tr>\n",
       "    <tr>\n",
       "      <th>4</th>\n",
       "      <td>2007-01-09</td>\n",
       "      <td>12.350000</td>\n",
       "      <td>13.282857</td>\n",
       "      <td>12.164286</td>\n",
       "      <td>13.224286</td>\n",
       "      <td>11.720100</td>\n",
       "      <td>837324600</td>\n",
       "    </tr>\n",
       "  </tbody>\n",
       "</table>\n",
       "</div>"
      ],
      "text/plain": [
       "         Date       Open       High        Low      Close  Adj Close  \\\n",
       "0  2007-01-03  12.327143  12.368571  11.700000  11.971429  10.609749   \n",
       "1  2007-01-04  12.007143  12.278571  11.974286  12.237143  10.845238   \n",
       "2  2007-01-05  12.252857  12.314285  12.057143  12.150000  10.768006   \n",
       "3  2007-01-08  12.280000  12.361428  12.182858  12.210000  10.821184   \n",
       "4  2007-01-09  12.350000  13.282857  12.164286  13.224286  11.720100   \n",
       "\n",
       "      Volume  \n",
       "0  309579900  \n",
       "1  211815100  \n",
       "2  208685400  \n",
       "3  199276700  \n",
       "4  837324600  "
      ]
     },
     "execution_count": 34,
     "metadata": {},
     "output_type": "execute_result"
    }
   ],
   "source": [
    "stocks['AAPL'].head()"
   ]
  },
  {
   "cell_type": "code",
   "execution_count": 35,
   "metadata": {},
   "outputs": [
    {
     "data": {
      "text/html": [
       "<div>\n",
       "<style scoped>\n",
       "    .dataframe tbody tr th:only-of-type {\n",
       "        vertical-align: middle;\n",
       "    }\n",
       "\n",
       "    .dataframe tbody tr th {\n",
       "        vertical-align: top;\n",
       "    }\n",
       "\n",
       "    .dataframe thead th {\n",
       "        text-align: right;\n",
       "    }\n",
       "</style>\n",
       "<table border=\"1\" class=\"dataframe\">\n",
       "  <thead>\n",
       "    <tr style=\"text-align: right;\">\n",
       "      <th></th>\n",
       "      <th>Date</th>\n",
       "      <th>Open</th>\n",
       "      <th>High</th>\n",
       "      <th>Low</th>\n",
       "      <th>Close</th>\n",
       "      <th>Adj Close</th>\n",
       "      <th>Volume</th>\n",
       "    </tr>\n",
       "  </thead>\n",
       "  <tbody>\n",
       "    <tr>\n",
       "      <th>0</th>\n",
       "      <td>2007-01-03</td>\n",
       "      <td>38.680000</td>\n",
       "      <td>39.060001</td>\n",
       "      <td>38.049999</td>\n",
       "      <td>38.700001</td>\n",
       "      <td>38.700001</td>\n",
       "      <td>12405100</td>\n",
       "    </tr>\n",
       "    <tr>\n",
       "      <th>1</th>\n",
       "      <td>2007-01-04</td>\n",
       "      <td>38.590000</td>\n",
       "      <td>39.139999</td>\n",
       "      <td>38.259998</td>\n",
       "      <td>38.900002</td>\n",
       "      <td>38.900002</td>\n",
       "      <td>6318400</td>\n",
       "    </tr>\n",
       "    <tr>\n",
       "      <th>2</th>\n",
       "      <td>2007-01-05</td>\n",
       "      <td>38.720001</td>\n",
       "      <td>38.790001</td>\n",
       "      <td>37.599998</td>\n",
       "      <td>38.369999</td>\n",
       "      <td>38.369999</td>\n",
       "      <td>6619700</td>\n",
       "    </tr>\n",
       "    <tr>\n",
       "      <th>3</th>\n",
       "      <td>2007-01-08</td>\n",
       "      <td>38.220001</td>\n",
       "      <td>38.310001</td>\n",
       "      <td>37.169998</td>\n",
       "      <td>37.500000</td>\n",
       "      <td>37.500000</td>\n",
       "      <td>6783000</td>\n",
       "    </tr>\n",
       "    <tr>\n",
       "      <th>4</th>\n",
       "      <td>2007-01-09</td>\n",
       "      <td>37.599998</td>\n",
       "      <td>38.060001</td>\n",
       "      <td>37.340000</td>\n",
       "      <td>37.779999</td>\n",
       "      <td>37.779999</td>\n",
       "      <td>5703000</td>\n",
       "    </tr>\n",
       "  </tbody>\n",
       "</table>\n",
       "</div>"
      ],
      "text/plain": [
       "         Date       Open       High        Low      Close  Adj Close    Volume\n",
       "0  2007-01-03  38.680000  39.060001  38.049999  38.700001  38.700001  12405100\n",
       "1  2007-01-04  38.590000  39.139999  38.259998  38.900002  38.900002   6318400\n",
       "2  2007-01-05  38.720001  38.790001  37.599998  38.369999  38.369999   6619700\n",
       "3  2007-01-08  38.220001  38.310001  37.169998  37.500000  37.500000   6783000\n",
       "4  2007-01-09  37.599998  38.060001  37.340000  37.779999  37.779999   5703000"
      ]
     },
     "execution_count": 35,
     "metadata": {},
     "output_type": "execute_result"
    }
   ],
   "source": [
    "stocks['AMZN'].head()"
   ]
  },
  {
   "cell_type": "code",
   "execution_count": 36,
   "metadata": {},
   "outputs": [
    {
     "data": {
      "text/html": [
       "<div>\n",
       "<style scoped>\n",
       "    .dataframe tbody tr th:only-of-type {\n",
       "        vertical-align: middle;\n",
       "    }\n",
       "\n",
       "    .dataframe tbody tr th {\n",
       "        vertical-align: top;\n",
       "    }\n",
       "\n",
       "    .dataframe thead th {\n",
       "        text-align: right;\n",
       "    }\n",
       "</style>\n",
       "<table border=\"1\" class=\"dataframe\">\n",
       "  <thead>\n",
       "    <tr style=\"text-align: right;\">\n",
       "      <th></th>\n",
       "      <th>Date</th>\n",
       "      <th>Open</th>\n",
       "      <th>High</th>\n",
       "      <th>Low</th>\n",
       "      <th>Close</th>\n",
       "      <th>Adj Close</th>\n",
       "      <th>Volume</th>\n",
       "    </tr>\n",
       "  </thead>\n",
       "  <tbody>\n",
       "    <tr>\n",
       "      <th>0</th>\n",
       "      <td>2007-01-03</td>\n",
       "      <td>231.494354</td>\n",
       "      <td>236.789917</td>\n",
       "      <td>229.065155</td>\n",
       "      <td>232.284210</td>\n",
       "      <td>232.284210</td>\n",
       "      <td>15513200</td>\n",
       "    </tr>\n",
       "    <tr>\n",
       "      <th>1</th>\n",
       "      <td>2007-01-04</td>\n",
       "      <td>232.984665</td>\n",
       "      <td>240.411362</td>\n",
       "      <td>232.661758</td>\n",
       "      <td>240.068588</td>\n",
       "      <td>240.068588</td>\n",
       "      <td>15877700</td>\n",
       "    </tr>\n",
       "    <tr>\n",
       "      <th>2</th>\n",
       "      <td>2007-01-05</td>\n",
       "      <td>239.691040</td>\n",
       "      <td>242.174881</td>\n",
       "      <td>237.510223</td>\n",
       "      <td>242.020889</td>\n",
       "      <td>242.020889</td>\n",
       "      <td>13833500</td>\n",
       "    </tr>\n",
       "    <tr>\n",
       "      <th>3</th>\n",
       "      <td>2007-01-08</td>\n",
       "      <td>242.269272</td>\n",
       "      <td>243.352234</td>\n",
       "      <td>239.542007</td>\n",
       "      <td>240.227554</td>\n",
       "      <td>240.227554</td>\n",
       "      <td>9570600</td>\n",
       "    </tr>\n",
       "    <tr>\n",
       "      <th>4</th>\n",
       "      <td>2007-01-09</td>\n",
       "      <td>241.156509</td>\n",
       "      <td>242.547470</td>\n",
       "      <td>239.045242</td>\n",
       "      <td>241.181351</td>\n",
       "      <td>241.181351</td>\n",
       "      <td>10832700</td>\n",
       "    </tr>\n",
       "  </tbody>\n",
       "</table>\n",
       "</div>"
      ],
      "text/plain": [
       "         Date        Open        High         Low       Close   Adj Close  \\\n",
       "0  2007-01-03  231.494354  236.789917  229.065155  232.284210  232.284210   \n",
       "1  2007-01-04  232.984665  240.411362  232.661758  240.068588  240.068588   \n",
       "2  2007-01-05  239.691040  242.174881  237.510223  242.020889  242.020889   \n",
       "3  2007-01-08  242.269272  243.352234  239.542007  240.227554  240.227554   \n",
       "4  2007-01-09  241.156509  242.547470  239.045242  241.181351  241.181351   \n",
       "\n",
       "     Volume  \n",
       "0  15513200  \n",
       "1  15877700  \n",
       "2  13833500  \n",
       "3   9570600  \n",
       "4  10832700  "
      ]
     },
     "execution_count": 36,
     "metadata": {},
     "output_type": "execute_result"
    }
   ],
   "source": [
    "stocks['GOOG'].head()"
   ]
  },
  {
   "cell_type": "code",
   "execution_count": 37,
   "metadata": {},
   "outputs": [
    {
     "data": {
      "text/html": [
       "<div>\n",
       "<style scoped>\n",
       "    .dataframe tbody tr th:only-of-type {\n",
       "        vertical-align: middle;\n",
       "    }\n",
       "\n",
       "    .dataframe tbody tr th {\n",
       "        vertical-align: top;\n",
       "    }\n",
       "\n",
       "    .dataframe thead th {\n",
       "        text-align: right;\n",
       "    }\n",
       "</style>\n",
       "<table border=\"1\" class=\"dataframe\">\n",
       "  <thead>\n",
       "    <tr style=\"text-align: right;\">\n",
       "      <th></th>\n",
       "      <th>Date</th>\n",
       "      <th>Open</th>\n",
       "      <th>High</th>\n",
       "      <th>Low</th>\n",
       "      <th>Close</th>\n",
       "      <th>Adj Close</th>\n",
       "      <th>Volume</th>\n",
       "    </tr>\n",
       "  </thead>\n",
       "  <tbody>\n",
       "    <tr>\n",
       "      <th>0</th>\n",
       "      <td>2007-01-03</td>\n",
       "      <td>1769.219971</td>\n",
       "      <td>1793.050049</td>\n",
       "      <td>1731.709961</td>\n",
       "      <td>1759.369995</td>\n",
       "      <td>1759.369995</td>\n",
       "      <td>2435280000</td>\n",
       "    </tr>\n",
       "    <tr>\n",
       "      <th>1</th>\n",
       "      <td>2007-01-04</td>\n",
       "      <td>1763.150024</td>\n",
       "      <td>1799.069946</td>\n",
       "      <td>1757.000000</td>\n",
       "      <td>1792.910034</td>\n",
       "      <td>1792.910034</td>\n",
       "      <td>2104210000</td>\n",
       "    </tr>\n",
       "    <tr>\n",
       "      <th>2</th>\n",
       "      <td>2007-01-05</td>\n",
       "      <td>1787.790039</td>\n",
       "      <td>1787.790039</td>\n",
       "      <td>1770.290039</td>\n",
       "      <td>1785.300049</td>\n",
       "      <td>1785.300049</td>\n",
       "      <td>2060360000</td>\n",
       "    </tr>\n",
       "    <tr>\n",
       "      <th>3</th>\n",
       "      <td>2007-01-08</td>\n",
       "      <td>1786.390015</td>\n",
       "      <td>1795.449951</td>\n",
       "      <td>1776.989990</td>\n",
       "      <td>1787.140015</td>\n",
       "      <td>1787.140015</td>\n",
       "      <td>1905620000</td>\n",
       "    </tr>\n",
       "    <tr>\n",
       "      <th>4</th>\n",
       "      <td>2007-01-09</td>\n",
       "      <td>1791.750000</td>\n",
       "      <td>1802.439941</td>\n",
       "      <td>1776.729980</td>\n",
       "      <td>1795.630005</td>\n",
       "      <td>1795.630005</td>\n",
       "      <td>2144160000</td>\n",
       "    </tr>\n",
       "  </tbody>\n",
       "</table>\n",
       "</div>"
      ],
      "text/plain": [
       "         Date         Open         High          Low        Close  \\\n",
       "0  2007-01-03  1769.219971  1793.050049  1731.709961  1759.369995   \n",
       "1  2007-01-04  1763.150024  1799.069946  1757.000000  1792.910034   \n",
       "2  2007-01-05  1787.790039  1787.790039  1770.290039  1785.300049   \n",
       "3  2007-01-08  1786.390015  1795.449951  1776.989990  1787.140015   \n",
       "4  2007-01-09  1791.750000  1802.439941  1776.729980  1795.630005   \n",
       "\n",
       "     Adj Close      Volume  \n",
       "0  1759.369995  2435280000  \n",
       "1  1792.910034  2104210000  \n",
       "2  1785.300049  2060360000  \n",
       "3  1787.140015  1905620000  \n",
       "4  1795.630005  2144160000  "
      ]
     },
     "execution_count": 37,
     "metadata": {},
     "output_type": "execute_result"
    }
   ],
   "source": [
    "indices['NDX'].head()"
   ]
  },
  {
   "cell_type": "code",
   "execution_count": 38,
   "metadata": {},
   "outputs": [
    {
     "data": {
      "text/html": [
       "<div>\n",
       "<style scoped>\n",
       "    .dataframe tbody tr th:only-of-type {\n",
       "        vertical-align: middle;\n",
       "    }\n",
       "\n",
       "    .dataframe tbody tr th {\n",
       "        vertical-align: top;\n",
       "    }\n",
       "\n",
       "    .dataframe thead th {\n",
       "        text-align: right;\n",
       "    }\n",
       "</style>\n",
       "<table border=\"1\" class=\"dataframe\">\n",
       "  <thead>\n",
       "    <tr style=\"text-align: right;\">\n",
       "      <th></th>\n",
       "      <th>Date</th>\n",
       "      <th>Open</th>\n",
       "      <th>High</th>\n",
       "      <th>Low</th>\n",
       "      <th>Close</th>\n",
       "      <th>Adj Close</th>\n",
       "      <th>Volume</th>\n",
       "    </tr>\n",
       "  </thead>\n",
       "  <tbody>\n",
       "    <tr>\n",
       "      <th>0</th>\n",
       "      <td>2007-01-03</td>\n",
       "      <td>1418.030029</td>\n",
       "      <td>1429.420044</td>\n",
       "      <td>1407.859985</td>\n",
       "      <td>1416.599976</td>\n",
       "      <td>1416.599976</td>\n",
       "      <td>3429160000</td>\n",
       "    </tr>\n",
       "    <tr>\n",
       "      <th>1</th>\n",
       "      <td>2007-01-04</td>\n",
       "      <td>1416.599976</td>\n",
       "      <td>1421.839966</td>\n",
       "      <td>1408.430054</td>\n",
       "      <td>1418.339966</td>\n",
       "      <td>1418.339966</td>\n",
       "      <td>3004460000</td>\n",
       "    </tr>\n",
       "    <tr>\n",
       "      <th>2</th>\n",
       "      <td>2007-01-05</td>\n",
       "      <td>1418.339966</td>\n",
       "      <td>1418.339966</td>\n",
       "      <td>1405.750000</td>\n",
       "      <td>1409.709961</td>\n",
       "      <td>1409.709961</td>\n",
       "      <td>2919400000</td>\n",
       "    </tr>\n",
       "    <tr>\n",
       "      <th>3</th>\n",
       "      <td>2007-01-08</td>\n",
       "      <td>1409.260010</td>\n",
       "      <td>1414.979980</td>\n",
       "      <td>1403.969971</td>\n",
       "      <td>1412.839966</td>\n",
       "      <td>1412.839966</td>\n",
       "      <td>2763340000</td>\n",
       "    </tr>\n",
       "    <tr>\n",
       "      <th>4</th>\n",
       "      <td>2007-01-09</td>\n",
       "      <td>1412.839966</td>\n",
       "      <td>1415.609985</td>\n",
       "      <td>1405.420044</td>\n",
       "      <td>1412.109985</td>\n",
       "      <td>1412.109985</td>\n",
       "      <td>3038380000</td>\n",
       "    </tr>\n",
       "  </tbody>\n",
       "</table>\n",
       "</div>"
      ],
      "text/plain": [
       "         Date         Open         High          Low        Close  \\\n",
       "0  2007-01-03  1418.030029  1429.420044  1407.859985  1416.599976   \n",
       "1  2007-01-04  1416.599976  1421.839966  1408.430054  1418.339966   \n",
       "2  2007-01-05  1418.339966  1418.339966  1405.750000  1409.709961   \n",
       "3  2007-01-08  1409.260010  1414.979980  1403.969971  1412.839966   \n",
       "4  2007-01-09  1412.839966  1415.609985  1405.420044  1412.109985   \n",
       "\n",
       "     Adj Close      Volume  \n",
       "0  1416.599976  3429160000  \n",
       "1  1418.339966  3004460000  \n",
       "2  1409.709961  2919400000  \n",
       "3  1412.839966  2763340000  \n",
       "4  1412.109985  3038380000  "
      ]
     },
     "execution_count": 38,
     "metadata": {},
     "output_type": "execute_result"
    }
   ],
   "source": [
    "indices['GSPC'].head()"
   ]
  },
  {
   "cell_type": "code",
   "execution_count": 39,
   "metadata": {},
   "outputs": [
    {
     "data": {
      "text/html": [
       "<div>\n",
       "<style scoped>\n",
       "    .dataframe tbody tr th:only-of-type {\n",
       "        vertical-align: middle;\n",
       "    }\n",
       "\n",
       "    .dataframe tbody tr th {\n",
       "        vertical-align: top;\n",
       "    }\n",
       "\n",
       "    .dataframe thead th {\n",
       "        text-align: right;\n",
       "    }\n",
       "</style>\n",
       "<table border=\"1\" class=\"dataframe\">\n",
       "  <thead>\n",
       "    <tr style=\"text-align: right;\">\n",
       "      <th></th>\n",
       "      <th>Date</th>\n",
       "      <th>Open</th>\n",
       "      <th>High</th>\n",
       "      <th>Low</th>\n",
       "      <th>Close</th>\n",
       "      <th>Adj Close</th>\n",
       "      <th>Volume</th>\n",
       "    </tr>\n",
       "  </thead>\n",
       "  <tbody>\n",
       "    <tr>\n",
       "      <th>0</th>\n",
       "      <td>2007-01-03</td>\n",
       "      <td>12459.540039</td>\n",
       "      <td>12580.349609</td>\n",
       "      <td>12404.820313</td>\n",
       "      <td>12474.519531</td>\n",
       "      <td>12474.519531</td>\n",
       "      <td>327200000</td>\n",
       "    </tr>\n",
       "    <tr>\n",
       "      <th>1</th>\n",
       "      <td>2007-01-04</td>\n",
       "      <td>12473.160156</td>\n",
       "      <td>12510.410156</td>\n",
       "      <td>12403.860352</td>\n",
       "      <td>12480.690430</td>\n",
       "      <td>12480.690430</td>\n",
       "      <td>259060000</td>\n",
       "    </tr>\n",
       "    <tr>\n",
       "      <th>2</th>\n",
       "      <td>2007-01-05</td>\n",
       "      <td>12480.049805</td>\n",
       "      <td>12480.129883</td>\n",
       "      <td>12365.410156</td>\n",
       "      <td>12398.009766</td>\n",
       "      <td>12398.009766</td>\n",
       "      <td>235220000</td>\n",
       "    </tr>\n",
       "    <tr>\n",
       "      <th>3</th>\n",
       "      <td>2007-01-08</td>\n",
       "      <td>12392.009766</td>\n",
       "      <td>12445.919922</td>\n",
       "      <td>12337.370117</td>\n",
       "      <td>12423.490234</td>\n",
       "      <td>12423.490234</td>\n",
       "      <td>223500000</td>\n",
       "    </tr>\n",
       "    <tr>\n",
       "      <th>4</th>\n",
       "      <td>2007-01-09</td>\n",
       "      <td>12424.769531</td>\n",
       "      <td>12466.429688</td>\n",
       "      <td>12369.169922</td>\n",
       "      <td>12416.599609</td>\n",
       "      <td>12416.599609</td>\n",
       "      <td>225190000</td>\n",
       "    </tr>\n",
       "  </tbody>\n",
       "</table>\n",
       "</div>"
      ],
      "text/plain": [
       "         Date          Open          High           Low         Close  \\\n",
       "0  2007-01-03  12459.540039  12580.349609  12404.820313  12474.519531   \n",
       "1  2007-01-04  12473.160156  12510.410156  12403.860352  12480.690430   \n",
       "2  2007-01-05  12480.049805  12480.129883  12365.410156  12398.009766   \n",
       "3  2007-01-08  12392.009766  12445.919922  12337.370117  12423.490234   \n",
       "4  2007-01-09  12424.769531  12466.429688  12369.169922  12416.599609   \n",
       "\n",
       "      Adj Close     Volume  \n",
       "0  12474.519531  327200000  \n",
       "1  12480.690430  259060000  \n",
       "2  12398.009766  235220000  \n",
       "3  12423.490234  223500000  \n",
       "4  12416.599609  225190000  "
      ]
     },
     "execution_count": 39,
     "metadata": {},
     "output_type": "execute_result"
    }
   ],
   "source": [
    "indices['DJI'].head()"
   ]
  },
  {
   "cell_type": "code",
   "execution_count": 40,
   "metadata": {},
   "outputs": [
    {
     "data": {
      "text/plain": [
       "2769"
      ]
     },
     "execution_count": 40,
     "metadata": {},
     "output_type": "execute_result"
    }
   ],
   "source": [
    "len(stocks['AMZN'])"
   ]
  },
  {
   "cell_type": "code",
   "execution_count": 41,
   "metadata": {},
   "outputs": [
    {
     "data": {
      "text/plain": [
       "2769"
      ]
     },
     "execution_count": 41,
     "metadata": {},
     "output_type": "execute_result"
    }
   ],
   "source": [
    "len(stocks['GOOG'])"
   ]
  },
  {
   "cell_type": "code",
   "execution_count": 42,
   "metadata": {},
   "outputs": [
    {
     "data": {
      "text/plain": [
       "2769"
      ]
     },
     "execution_count": 42,
     "metadata": {},
     "output_type": "execute_result"
    }
   ],
   "source": [
    "len(stocks['AAPL'])"
   ]
  },
  {
   "cell_type": "code",
   "execution_count": 43,
   "metadata": {},
   "outputs": [
    {
     "data": {
      "text/plain": [
       "2769"
      ]
     },
     "execution_count": 43,
     "metadata": {},
     "output_type": "execute_result"
    }
   ],
   "source": [
    "len(indices['GSPC'])"
   ]
  },
  {
   "cell_type": "code",
   "execution_count": 44,
   "metadata": {},
   "outputs": [
    {
     "data": {
      "text/plain": [
       "2769"
      ]
     },
     "execution_count": 44,
     "metadata": {},
     "output_type": "execute_result"
    }
   ],
   "source": [
    "len(indices['NDX'])"
   ]
  },
  {
   "cell_type": "code",
   "execution_count": 45,
   "metadata": {},
   "outputs": [
    {
     "data": {
      "text/plain": [
       "2769"
      ]
     },
     "execution_count": 45,
     "metadata": {},
     "output_type": "execute_result"
    }
   ],
   "source": [
    "len(indices['DJI'])"
   ]
  },
  {
   "cell_type": "markdown",
   "metadata": {},
   "source": [
    "## Data Refining\n"
   ]
  },
  {
   "cell_type": "code",
   "execution_count": 46,
   "metadata": {},
   "outputs": [],
   "source": [
    "for i,j in enumerate(stocks):\n",
    "    stocks[j].columns = [s.lower() for s in stocks[j].columns]\n",
    "    stocks[j].volume = stocks[j].volume.apply(lambda x: float(x))\n",
    "for i,j in enumerate(indices):\n",
    "    indices[j].columns = [s.lower() for s in indices[j].columns]\n",
    "    indices[j].volume = indices[j].volume.apply(lambda x: float(x))"
   ]
  },
  {
   "cell_type": "markdown",
   "metadata": {},
   "source": [
    "## Calculation of Technical Indicators "
   ]
  },
  {
   "cell_type": "code",
   "execution_count": 47,
   "metadata": {},
   "outputs": [],
   "source": [
    "def get_stocks_indicators(stocks, period):\n",
    "    stocks_indicators = {}\n",
    "    for i in stocks:\n",
    "        features = pd.DataFrame(SMA(stocks[i], timeperiod=10))\n",
    "        features.columns = ['sma_10']\n",
    "        features['mom_10'] = pd.DataFrame(MOM(stocks[i],10))\n",
    "        features['wma_10'] = pd.DataFrame(WMA(stocks[i],10))\n",
    "        features = pd.concat([features,STOCHF(stocks[i], \n",
    "                                          fastk_period=14, \n",
    "                                          fastd_period=3)],\n",
    "                             axis=1)\n",
    "        features['macd'] = pd.DataFrame(MACD(stocks[i], fastperiod=12, slowperiod=26)['macd'])\n",
    "        features['rsi'] = pd.DataFrame(RSI(stocks[i], timeperiod=14))\n",
    "        features['willr'] = pd.DataFrame(WILLR(stocks[i], timeperiod=14))\n",
    "        features['cci'] = pd.DataFrame(CCI(stocks[i], timeperiod=14))\n",
    "        features['adosc'] = pd.DataFrame(ADOSC(stocks[i], fastperiod=3, slowperiod=10))\n",
    "        features['pct_change'] = ROC(stocks[i], timeperiod=period)\n",
    "        features['pct_change'] = features['pct_change'].shift(-period)\n",
    "        features['pct_change'] = features['pct_change'].apply(lambda x: '1' if x > 0 else '0' if x <= 0 else np.nan)\n",
    "        features = features.dropna()\n",
    "        #features = features.iloc[np.where(features.index=='1998-5-5')[0][0]:np.where(features.index=='2015-5-5')[0][0]]\n",
    "        stocks_indicators[i] = features\n",
    "    return stocks_indicators\n",
    "\n",
    "def get_indices_indicators(indices, period):\n",
    "    indices_indicators = {}\n",
    "    for i in indices:\n",
    "        features = pd.DataFrame(SMA(indices[i], timeperiod=10))\n",
    "        features.columns = ['sma_10']\n",
    "        features['mom_10'] = pd.DataFrame(MOM(indices[i],10))\n",
    "        features['wma_10'] = pd.DataFrame(WMA(indices[i],10))\n",
    "        features = pd.concat([features,STOCHF(indices[i], \n",
    "                                          fastk_period=14, \n",
    "                                          fastd_period=3)],\n",
    "                             axis=1)\n",
    "        features['macd'] = pd.DataFrame(MACD(indices[i], fastperiod=12, slowperiod=26)['macd'])\n",
    "        features['rsi'] = pd.DataFrame(RSI(indices[i], timeperiod=14))\n",
    "        features['willr'] = pd.DataFrame(WILLR(indices[i], timeperiod=14))\n",
    "        features['cci'] = pd.DataFrame(CCI(indices[i], timeperiod=14))\n",
    "        features['adosc'] = pd.DataFrame(ADOSC(indices[i], fastperiod=3, slowperiod=10))\n",
    "        features['pct_change'] = ROC(indices[i], timeperiod=period)\n",
    "        features['pct_change'] = features['pct_change'].shift(-period)\n",
    "        features['pct_change'] = features['pct_change'].apply(lambda x: '1' if x > 0 else '0' if x <= 0 else np.nan)\n",
    "        features = features.dropna()\n",
    "        #features = features.iloc[np.where(features.index=='1998-5-5')[0][0]:np.where(features.index=='2015-5-5')[0][0]]\n",
    "        indices_indicators[i] = features\n",
    "    return indices_indicators"
   ]
  },
  {
   "cell_type": "code",
   "execution_count": 48,
   "metadata": {},
   "outputs": [],
   "source": [
    "stocks_indicators = get_stocks_indicators(stocks, 1)\n",
    "indices_indicators = get_indices_indicators(indices, 1)"
   ]
  },
  {
   "cell_type": "code",
   "execution_count": 49,
   "metadata": {},
   "outputs": [
    {
     "data": {
      "text/html": [
       "<div>\n",
       "<style scoped>\n",
       "    .dataframe tbody tr th:only-of-type {\n",
       "        vertical-align: middle;\n",
       "    }\n",
       "\n",
       "    .dataframe tbody tr th {\n",
       "        vertical-align: top;\n",
       "    }\n",
       "\n",
       "    .dataframe thead th {\n",
       "        text-align: right;\n",
       "    }\n",
       "</style>\n",
       "<table border=\"1\" class=\"dataframe\">\n",
       "  <thead>\n",
       "    <tr style=\"text-align: right;\">\n",
       "      <th></th>\n",
       "      <th>sma_10</th>\n",
       "      <th>mom_10</th>\n",
       "      <th>wma_10</th>\n",
       "      <th>fastk</th>\n",
       "      <th>fastd</th>\n",
       "      <th>macd</th>\n",
       "      <th>rsi</th>\n",
       "      <th>willr</th>\n",
       "      <th>cci</th>\n",
       "      <th>adosc</th>\n",
       "      <th>pct_change</th>\n",
       "    </tr>\n",
       "  </thead>\n",
       "  <tbody>\n",
       "    <tr>\n",
       "      <th>33</th>\n",
       "      <td>12.223143</td>\n",
       "      <td>0.721429</td>\n",
       "      <td>12.268441</td>\n",
       "      <td>95.625898</td>\n",
       "      <td>77.628692</td>\n",
       "      <td>-0.158363</td>\n",
       "      <td>61.901279</td>\n",
       "      <td>-4.374102</td>\n",
       "      <td>307.160552</td>\n",
       "      <td>1.170275e+08</td>\n",
       "      <td>1</td>\n",
       "    </tr>\n",
       "    <tr>\n",
       "      <th>34</th>\n",
       "      <td>12.271143</td>\n",
       "      <td>0.480000</td>\n",
       "      <td>12.370987</td>\n",
       "      <td>83.647820</td>\n",
       "      <td>87.520448</td>\n",
       "      <td>-0.104330</td>\n",
       "      <td>62.580599</td>\n",
       "      <td>-16.352180</td>\n",
       "      <td>258.654956</td>\n",
       "      <td>1.322122e+08</td>\n",
       "      <td>0</td>\n",
       "    </tr>\n",
       "    <tr>\n",
       "      <th>35</th>\n",
       "      <td>12.312429</td>\n",
       "      <td>0.412857</td>\n",
       "      <td>12.453377</td>\n",
       "      <td>78.113240</td>\n",
       "      <td>85.795653</td>\n",
       "      <td>-0.065821</td>\n",
       "      <td>60.920258</td>\n",
       "      <td>-21.886760</td>\n",
       "      <td>167.400412</td>\n",
       "      <td>9.737425e+07</td>\n",
       "      <td>0</td>\n",
       "    </tr>\n",
       "    <tr>\n",
       "      <th>36</th>\n",
       "      <td>12.387286</td>\n",
       "      <td>0.748571</td>\n",
       "      <td>12.513714</td>\n",
       "      <td>71.069213</td>\n",
       "      <td>77.610091</td>\n",
       "      <td>-0.041282</td>\n",
       "      <td>58.782651</td>\n",
       "      <td>-28.930787</td>\n",
       "      <td>105.206129</td>\n",
       "      <td>6.217692e+07</td>\n",
       "      <td>0</td>\n",
       "    </tr>\n",
       "    <tr>\n",
       "      <th>37</th>\n",
       "      <td>12.373714</td>\n",
       "      <td>-0.135714</td>\n",
       "      <td>12.441481</td>\n",
       "      <td>9.473674</td>\n",
       "      <td>52.885375</td>\n",
       "      <td>-0.073780</td>\n",
       "      <td>44.904824</td>\n",
       "      <td>-90.526326</td>\n",
       "      <td>-56.754097</td>\n",
       "      <td>-2.319024e+07</td>\n",
       "      <td>1</td>\n",
       "    </tr>\n",
       "  </tbody>\n",
       "</table>\n",
       "</div>"
      ],
      "text/plain": [
       "       sma_10    mom_10     wma_10      fastk      fastd      macd        rsi  \\\n",
       "33  12.223143  0.721429  12.268441  95.625898  77.628692 -0.158363  61.901279   \n",
       "34  12.271143  0.480000  12.370987  83.647820  87.520448 -0.104330  62.580599   \n",
       "35  12.312429  0.412857  12.453377  78.113240  85.795653 -0.065821  60.920258   \n",
       "36  12.387286  0.748571  12.513714  71.069213  77.610091 -0.041282  58.782651   \n",
       "37  12.373714 -0.135714  12.441481   9.473674  52.885375 -0.073780  44.904824   \n",
       "\n",
       "        willr         cci         adosc pct_change  \n",
       "33  -4.374102  307.160552  1.170275e+08          1  \n",
       "34 -16.352180  258.654956  1.322122e+08          0  \n",
       "35 -21.886760  167.400412  9.737425e+07          0  \n",
       "36 -28.930787  105.206129  6.217692e+07          0  \n",
       "37 -90.526326  -56.754097 -2.319024e+07          1  "
      ]
     },
     "execution_count": 49,
     "metadata": {},
     "output_type": "execute_result"
    }
   ],
   "source": [
    "stocks_indicators['AAPL'].head()"
   ]
  },
  {
   "cell_type": "code",
   "execution_count": 50,
   "metadata": {},
   "outputs": [
    {
     "data": {
      "text/html": [
       "<div>\n",
       "<style scoped>\n",
       "    .dataframe tbody tr th:only-of-type {\n",
       "        vertical-align: middle;\n",
       "    }\n",
       "\n",
       "    .dataframe tbody tr th {\n",
       "        vertical-align: top;\n",
       "    }\n",
       "\n",
       "    .dataframe thead th {\n",
       "        text-align: right;\n",
       "    }\n",
       "</style>\n",
       "<table border=\"1\" class=\"dataframe\">\n",
       "  <thead>\n",
       "    <tr style=\"text-align: right;\">\n",
       "      <th></th>\n",
       "      <th>sma_10</th>\n",
       "      <th>mom_10</th>\n",
       "      <th>wma_10</th>\n",
       "      <th>fastk</th>\n",
       "      <th>fastd</th>\n",
       "      <th>macd</th>\n",
       "      <th>rsi</th>\n",
       "      <th>willr</th>\n",
       "      <th>cci</th>\n",
       "      <th>adosc</th>\n",
       "      <th>pct_change</th>\n",
       "    </tr>\n",
       "  </thead>\n",
       "  <tbody>\n",
       "    <tr>\n",
       "      <th>33</th>\n",
       "      <td>39.826</td>\n",
       "      <td>2.989998</td>\n",
       "      <td>40.279636</td>\n",
       "      <td>90.513759</td>\n",
       "      <td>94.360388</td>\n",
       "      <td>0.822374</td>\n",
       "      <td>66.005718</td>\n",
       "      <td>-9.486241</td>\n",
       "      <td>140.013235</td>\n",
       "      <td>8.266044e+06</td>\n",
       "      <td>0</td>\n",
       "    </tr>\n",
       "    <tr>\n",
       "      <th>34</th>\n",
       "      <td>40.028</td>\n",
       "      <td>2.020000</td>\n",
       "      <td>40.493091</td>\n",
       "      <td>81.203008</td>\n",
       "      <td>89.057078</td>\n",
       "      <td>0.866861</td>\n",
       "      <td>63.556462</td>\n",
       "      <td>-18.796992</td>\n",
       "      <td>119.747659</td>\n",
       "      <td>6.687418e+06</td>\n",
       "      <td>0</td>\n",
       "    </tr>\n",
       "    <tr>\n",
       "      <th>35</th>\n",
       "      <td>40.196</td>\n",
       "      <td>1.680001</td>\n",
       "      <td>40.629818</td>\n",
       "      <td>76.673021</td>\n",
       "      <td>82.796596</td>\n",
       "      <td>0.874287</td>\n",
       "      <td>61.477678</td>\n",
       "      <td>-23.326979</td>\n",
       "      <td>82.599828</td>\n",
       "      <td>3.988678e+06</td>\n",
       "      <td>1</td>\n",
       "    </tr>\n",
       "    <tr>\n",
       "      <th>36</th>\n",
       "      <td>40.412</td>\n",
       "      <td>2.160000</td>\n",
       "      <td>40.754182</td>\n",
       "      <td>77.235783</td>\n",
       "      <td>78.370604</td>\n",
       "      <td>0.878119</td>\n",
       "      <td>62.084739</td>\n",
       "      <td>-22.764217</td>\n",
       "      <td>68.879754</td>\n",
       "      <td>2.778825e+06</td>\n",
       "      <td>0</td>\n",
       "    </tr>\n",
       "    <tr>\n",
       "      <th>37</th>\n",
       "      <td>40.410</td>\n",
       "      <td>-0.019996</td>\n",
       "      <td>40.466546</td>\n",
       "      <td>12.912119</td>\n",
       "      <td>55.606974</td>\n",
       "      <td>0.707582</td>\n",
       "      <td>46.060474</td>\n",
       "      <td>-87.087881</td>\n",
       "      <td>-49.107344</td>\n",
       "      <td>-6.248500e+05</td>\n",
       "      <td>1</td>\n",
       "    </tr>\n",
       "  </tbody>\n",
       "</table>\n",
       "</div>"
      ],
      "text/plain": [
       "    sma_10    mom_10     wma_10      fastk      fastd      macd        rsi  \\\n",
       "33  39.826  2.989998  40.279636  90.513759  94.360388  0.822374  66.005718   \n",
       "34  40.028  2.020000  40.493091  81.203008  89.057078  0.866861  63.556462   \n",
       "35  40.196  1.680001  40.629818  76.673021  82.796596  0.874287  61.477678   \n",
       "36  40.412  2.160000  40.754182  77.235783  78.370604  0.878119  62.084739   \n",
       "37  40.410 -0.019996  40.466546  12.912119  55.606974  0.707582  46.060474   \n",
       "\n",
       "        willr         cci         adosc pct_change  \n",
       "33  -9.486241  140.013235  8.266044e+06          0  \n",
       "34 -18.796992  119.747659  6.687418e+06          0  \n",
       "35 -23.326979   82.599828  3.988678e+06          1  \n",
       "36 -22.764217   68.879754  2.778825e+06          0  \n",
       "37 -87.087881  -49.107344 -6.248500e+05          1  "
      ]
     },
     "execution_count": 50,
     "metadata": {},
     "output_type": "execute_result"
    }
   ],
   "source": [
    "stocks_indicators['AMZN'].head()"
   ]
  },
  {
   "cell_type": "code",
   "execution_count": 51,
   "metadata": {},
   "outputs": [
    {
     "data": {
      "text/html": [
       "<div>\n",
       "<style scoped>\n",
       "    .dataframe tbody tr th:only-of-type {\n",
       "        vertical-align: middle;\n",
       "    }\n",
       "\n",
       "    .dataframe tbody tr th {\n",
       "        vertical-align: top;\n",
       "    }\n",
       "\n",
       "    .dataframe thead th {\n",
       "        text-align: right;\n",
       "    }\n",
       "</style>\n",
       "<table border=\"1\" class=\"dataframe\">\n",
       "  <thead>\n",
       "    <tr style=\"text-align: right;\">\n",
       "      <th></th>\n",
       "      <th>sma_10</th>\n",
       "      <th>mom_10</th>\n",
       "      <th>wma_10</th>\n",
       "      <th>fastk</th>\n",
       "      <th>fastd</th>\n",
       "      <th>macd</th>\n",
       "      <th>rsi</th>\n",
       "      <th>willr</th>\n",
       "      <th>cci</th>\n",
       "      <th>adosc</th>\n",
       "      <th>pct_change</th>\n",
       "    </tr>\n",
       "  </thead>\n",
       "  <tbody>\n",
       "    <tr>\n",
       "      <th>33</th>\n",
       "      <td>1449.898035</td>\n",
       "      <td>9.630005</td>\n",
       "      <td>1452.778398</td>\n",
       "      <td>90.030886</td>\n",
       "      <td>93.716410</td>\n",
       "      <td>9.479183</td>\n",
       "      <td>63.938589</td>\n",
       "      <td>-9.969114</td>\n",
       "      <td>105.134662</td>\n",
       "      <td>3.813132e+09</td>\n",
       "      <td>0</td>\n",
       "    </tr>\n",
       "    <tr>\n",
       "      <th>34</th>\n",
       "      <td>1450.534033</td>\n",
       "      <td>6.359985</td>\n",
       "      <td>1453.956938</td>\n",
       "      <td>82.774842</td>\n",
       "      <td>90.142725</td>\n",
       "      <td>9.351993</td>\n",
       "      <td>62.698674</td>\n",
       "      <td>-17.225158</td>\n",
       "      <td>86.347828</td>\n",
       "      <td>3.617812e+09</td>\n",
       "      <td>0</td>\n",
       "    </tr>\n",
       "    <tr>\n",
       "      <th>35</th>\n",
       "      <td>1450.822022</td>\n",
       "      <td>2.879882</td>\n",
       "      <td>1454.076194</td>\n",
       "      <td>65.549276</td>\n",
       "      <td>79.451668</td>\n",
       "      <td>8.731744</td>\n",
       "      <td>57.695789</td>\n",
       "      <td>-34.450724</td>\n",
       "      <td>30.682218</td>\n",
       "      <td>2.979242e+09</td>\n",
       "      <td>0</td>\n",
       "    </tr>\n",
       "    <tr>\n",
       "      <th>36</th>\n",
       "      <td>1451.953015</td>\n",
       "      <td>11.309936</td>\n",
       "      <td>1453.812189</td>\n",
       "      <td>59.508965</td>\n",
       "      <td>69.277694</td>\n",
       "      <td>8.001107</td>\n",
       "      <td>56.008133</td>\n",
       "      <td>-40.491035</td>\n",
       "      <td>11.735103</td>\n",
       "      <td>2.158290e+09</td>\n",
       "      <td>0</td>\n",
       "    </tr>\n",
       "    <tr>\n",
       "      <th>37</th>\n",
       "      <td>1448.520020</td>\n",
       "      <td>-34.329956</td>\n",
       "      <td>1444.191648</td>\n",
       "      <td>13.333345</td>\n",
       "      <td>46.130528</td>\n",
       "      <td>3.322564</td>\n",
       "      <td>29.932484</td>\n",
       "      <td>-86.666655</td>\n",
       "      <td>-271.080636</td>\n",
       "      <td>7.487103e+08</td>\n",
       "      <td>1</td>\n",
       "    </tr>\n",
       "  </tbody>\n",
       "</table>\n",
       "</div>"
      ],
      "text/plain": [
       "         sma_10     mom_10       wma_10      fastk      fastd      macd  \\\n",
       "33  1449.898035   9.630005  1452.778398  90.030886  93.716410  9.479183   \n",
       "34  1450.534033   6.359985  1453.956938  82.774842  90.142725  9.351993   \n",
       "35  1450.822022   2.879882  1454.076194  65.549276  79.451668  8.731744   \n",
       "36  1451.953015  11.309936  1453.812189  59.508965  69.277694  8.001107   \n",
       "37  1448.520020 -34.329956  1444.191648  13.333345  46.130528  3.322564   \n",
       "\n",
       "          rsi      willr         cci         adosc pct_change  \n",
       "33  63.938589  -9.969114  105.134662  3.813132e+09          0  \n",
       "34  62.698674 -17.225158   86.347828  3.617812e+09          0  \n",
       "35  57.695789 -34.450724   30.682218  2.979242e+09          0  \n",
       "36  56.008133 -40.491035   11.735103  2.158290e+09          0  \n",
       "37  29.932484 -86.666655 -271.080636  7.487103e+08          1  "
      ]
     },
     "execution_count": 51,
     "metadata": {},
     "output_type": "execute_result"
    }
   ],
   "source": [
    "indices_indicators['GSPC'].head()"
   ]
  },
  {
   "cell_type": "code",
   "execution_count": 52,
   "metadata": {},
   "outputs": [
    {
     "data": {
      "text/html": [
       "<div>\n",
       "<style scoped>\n",
       "    .dataframe tbody tr th:only-of-type {\n",
       "        vertical-align: middle;\n",
       "    }\n",
       "\n",
       "    .dataframe tbody tr th {\n",
       "        vertical-align: top;\n",
       "    }\n",
       "\n",
       "    .dataframe thead th {\n",
       "        text-align: right;\n",
       "    }\n",
       "</style>\n",
       "<table border=\"1\" class=\"dataframe\">\n",
       "  <thead>\n",
       "    <tr style=\"text-align: right;\">\n",
       "      <th></th>\n",
       "      <th>sma_10</th>\n",
       "      <th>mom_10</th>\n",
       "      <th>wma_10</th>\n",
       "      <th>fastk</th>\n",
       "      <th>fastd</th>\n",
       "      <th>macd</th>\n",
       "      <th>rsi</th>\n",
       "      <th>willr</th>\n",
       "      <th>cci</th>\n",
       "      <th>adosc</th>\n",
       "      <th>pct_change</th>\n",
       "    </tr>\n",
       "  </thead>\n",
       "  <tbody>\n",
       "    <tr>\n",
       "      <th>33</th>\n",
       "      <td>1810.197998</td>\n",
       "      <td>46.069946</td>\n",
       "      <td>1817.122905</td>\n",
       "      <td>100.000000</td>\n",
       "      <td>97.787830</td>\n",
       "      <td>6.109130</td>\n",
       "      <td>65.730631</td>\n",
       "      <td>-0.000000</td>\n",
       "      <td>147.818665</td>\n",
       "      <td>2.972300e+09</td>\n",
       "      <td>1</td>\n",
       "    </tr>\n",
       "    <tr>\n",
       "      <th>34</th>\n",
       "      <td>1813.736999</td>\n",
       "      <td>35.390015</td>\n",
       "      <td>1823.694172</td>\n",
       "      <td>93.356634</td>\n",
       "      <td>97.030925</td>\n",
       "      <td>8.482505</td>\n",
       "      <td>67.399671</td>\n",
       "      <td>-6.643366</td>\n",
       "      <td>157.399472</td>\n",
       "      <td>3.264304e+09</td>\n",
       "      <td>0</td>\n",
       "    </tr>\n",
       "    <tr>\n",
       "      <th>35</th>\n",
       "      <td>1816.659998</td>\n",
       "      <td>29.229981</td>\n",
       "      <td>1828.427448</td>\n",
       "      <td>84.848543</td>\n",
       "      <td>92.735059</td>\n",
       "      <td>9.721222</td>\n",
       "      <td>64.325302</td>\n",
       "      <td>-15.151457</td>\n",
       "      <td>114.328567</td>\n",
       "      <td>3.103490e+09</td>\n",
       "      <td>0</td>\n",
       "    </tr>\n",
       "    <tr>\n",
       "      <th>36</th>\n",
       "      <td>1821.165991</td>\n",
       "      <td>45.059937</td>\n",
       "      <td>1830.960170</td>\n",
       "      <td>72.960356</td>\n",
       "      <td>83.721844</td>\n",
       "      <td>9.848631</td>\n",
       "      <td>60.193710</td>\n",
       "      <td>-27.039644</td>\n",
       "      <td>75.494978</td>\n",
       "      <td>2.596435e+09</td>\n",
       "      <td>0</td>\n",
       "    </tr>\n",
       "    <tr>\n",
       "      <th>37</th>\n",
       "      <td>1818.950989</td>\n",
       "      <td>-22.150024</td>\n",
       "      <td>1819.160902</td>\n",
       "      <td>5.527506</td>\n",
       "      <td>54.445468</td>\n",
       "      <td>3.907562</td>\n",
       "      <td>38.585955</td>\n",
       "      <td>-94.472494</td>\n",
       "      <td>-145.729131</td>\n",
       "      <td>1.374155e+09</td>\n",
       "      <td>1</td>\n",
       "    </tr>\n",
       "  </tbody>\n",
       "</table>\n",
       "</div>"
      ],
      "text/plain": [
       "         sma_10     mom_10       wma_10       fastk      fastd      macd  \\\n",
       "33  1810.197998  46.069946  1817.122905  100.000000  97.787830  6.109130   \n",
       "34  1813.736999  35.390015  1823.694172   93.356634  97.030925  8.482505   \n",
       "35  1816.659998  29.229981  1828.427448   84.848543  92.735059  9.721222   \n",
       "36  1821.165991  45.059937  1830.960170   72.960356  83.721844  9.848631   \n",
       "37  1818.950989 -22.150024  1819.160902    5.527506  54.445468  3.907562   \n",
       "\n",
       "          rsi      willr         cci         adosc pct_change  \n",
       "33  65.730631  -0.000000  147.818665  2.972300e+09          1  \n",
       "34  67.399671  -6.643366  157.399472  3.264304e+09          0  \n",
       "35  64.325302 -15.151457  114.328567  3.103490e+09          0  \n",
       "36  60.193710 -27.039644   75.494978  2.596435e+09          0  \n",
       "37  38.585955 -94.472494 -145.729131  1.374155e+09          1  "
      ]
     },
     "execution_count": 52,
     "metadata": {},
     "output_type": "execute_result"
    }
   ],
   "source": [
    "indices_indicators['NDX'].head()"
   ]
  },
  {
   "cell_type": "code",
   "execution_count": 53,
   "metadata": {},
   "outputs": [
    {
     "data": {
      "text/plain": [
       "2735"
      ]
     },
     "execution_count": 53,
     "metadata": {},
     "output_type": "execute_result"
    }
   ],
   "source": [
    "len(stocks_indicators['AAPL'])"
   ]
  },
  {
   "cell_type": "markdown",
   "metadata": {},
   "source": [
    "## Calculation of weight table to depict increase and decrease in Stock Points "
   ]
  },
  {
   "cell_type": "code",
   "execution_count": 54,
   "metadata": {},
   "outputs": [],
   "source": [
    "def weighs_table(stocks, indices, period):\n",
    "    stocks_table = pd.DataFrame()\n",
    "    indices_table = pd.DataFrame()\n",
    "    for j in stocks:\n",
    "        weighs_1 = []\n",
    "        for i in range(1,period+1):\n",
    "            stocks_indicators = get_stocks_indicators(stocks, i)\n",
    "            weighs_1.append((len(stocks_indicators[j][stocks_indicators[j]['pct_change']=='1'])/\\\n",
    "                            float(len(stocks_indicators[j])))*100)\n",
    "        stocks_table = pd.concat([stocks_table, pd.DataFrame(weighs_1)], axis=1)\n",
    "    for j in indices:\n",
    "        weighs_1 = []\n",
    "        for i in range(1,period+1):\n",
    "            indices_indicators = get_indices_indicators(indices, i)\n",
    "            weighs_1.append((len(indices_indicators[j][indices_indicators[j]['pct_change']=='1'])/\\\n",
    "                            float(len(indices_indicators[j])))*100)\n",
    "        indices_table = pd.concat([indices_table, pd.DataFrame(weighs_1)], axis=1)\n",
    "    stocks_table.index = range(1,period+1)\n",
    "    stocks_table.columns = stocks.keys()\n",
    "    indices_table.index = range(1,period+1)\n",
    "    indices_table.columns = indices.keys()\n",
    "    return stocks_table, indices_table"
   ]
  },
  {
   "cell_type": "code",
   "execution_count": 55,
   "metadata": {},
   "outputs": [],
   "source": [
    "stocks_table, indices_table = weighs_table(stocks, indices, 20)"
   ]
  },
  {
   "cell_type": "code",
   "execution_count": 58,
   "metadata": {},
   "outputs": [
    {
     "data": {
      "text/plain": [
       "[<matplotlib.lines.Line2D at 0x7f7a10bfe8d0>,\n",
       " <matplotlib.lines.Line2D at 0x7f7a10bfea58>,\n",
       " <matplotlib.lines.Line2D at 0x7f7a10bfeba8>]"
      ]
     },
     "execution_count": 58,
     "metadata": {},
     "output_type": "execute_result"
    },
    {
     "data": {
      "image/png": "[encoded data removed]",
      "text/plain": [
       "<Figure size 432x288 with 1 Axes>"
      ]
     },
     "metadata": {
      "needs_background": "light"
     },
     "output_type": "display_data"
    }
   ],
   "source": [
    "plt.plot(stocks_table)"
   ]
  },
  {
   "cell_type": "code",
   "execution_count": 60,
   "metadata": {},
   "outputs": [
    {
     "data": {
      "text/plain": [
       "[<matplotlib.lines.Line2D at 0x7f7a10c29f28>,\n",
       " <matplotlib.lines.Line2D at 0x7f7a10c2c080>,\n",
       " <matplotlib.lines.Line2D at 0x7f7a10c2c1d0>]"
      ]
     },
     "execution_count": 60,
     "metadata": {},
     "output_type": "execute_result"
    },
    {
     "data": {
      "image/png": "[encoded data removed]",
      "text/plain": [
       "<Figure size 432x288 with 1 Axes>"
      ]
     },
     "metadata": {
      "needs_background": "light"
     },
     "output_type": "display_data"
    }
   ],
   "source": [
    "plt.plot(indices_table)"
   ]
  },
  {
   "cell_type": "markdown",
   "metadata": {},
   "source": [
    "# Implementation of Random Forest Classifier Algorithm"
   ]
  },
  {
   "cell_type": "code",
   "execution_count": 61,
   "metadata": {},
   "outputs": [],
   "source": [
    "def avg_score(x_train, y_train,x_test,y_test,trees):\n",
    "    accuracy = []\n",
    "    f1 = []\n",
    "    rf_model = RandomForestClassifier(trees)\n",
    "    for i in range(5):\n",
    "        rf_model.fit(x_train,y_train)\n",
    "        accuracy.append(rf_model.score(x_test,y_test))\n",
    "        f1.append(f1_score(y_test,rf_model.predict(x_test), pos_label='1'))\n",
    "    avg_accuracy = sum(accuracy)/len(accuracy)\n",
    "    avg_f1 = sum(f1)/len(f1)\n",
    "    return avg_accuracy, avg_f1"
   ]
  },
  {
   "cell_type": "markdown",
   "metadata": {},
   "source": [
    "## Using Random Forest Algorithm for prediction of stock and stock price movement "
   ]
  },
  {
   "cell_type": "code",
   "execution_count": 62,
   "metadata": {},
   "outputs": [],
   "source": [
    "def stocks_accuracy(stocks, trees, period):\n",
    "    table_accuracy = pd.DataFrame()\n",
    "    table_f1 = pd.DataFrame()\n",
    "    for j in stocks:\n",
    "        accuracy_values = []\n",
    "        f1_values = []\n",
    "        for i in range(1,period+1):\n",
    "            stocks_indicators = get_stocks_indicators(stocks, i)\n",
    "            train, test = train_test_split(stocks_indicators[j])\n",
    "            accuracy, f1 = avg_score(train.iloc[:,:-1],train.iloc[:,-1],test.iloc[:,:-1],test.iloc[:,-1],trees)\n",
    "            accuracy_values.append(accuracy)\n",
    "            f1_values.append(f1)\n",
    "        table_accuracy = pd.concat([table_accuracy, pd.DataFrame({j : accuracy_values})], axis=1)\n",
    "        table_f1 = pd.concat([table_f1, pd.DataFrame({j : f1_values})], axis=1)\n",
    "    table_accuracy.index = range(1,period+1)\n",
    "    table_f1.index = range(1,period+1)\n",
    "    return table_accuracy, table_f1\n",
    "\n",
    "def indices_accuracy(indices, trees, period):\n",
    "    table_accuracy = pd.DataFrame()\n",
    "    table_f1 = pd.DataFrame()\n",
    "    for j in indices:\n",
    "        accuracy_values = []\n",
    "        f1_values = []\n",
    "        for i in range(1,period+1):\n",
    "            indices_indicators = get_indices_indicators(indices, i)\n",
    "            train, test = train_test_split(indices_indicators[j])\n",
    "            accuracy, f1 = avg_score(train.iloc[:,:-1],train.iloc[:,-1],test.iloc[:,:-1],test.iloc[:,-1],trees)\n",
    "            accuracy_values.append(accuracy)\n",
    "            f1_values.append(f1)\n",
    "        table_accuracy = pd.concat([table_accuracy, pd.DataFrame({j : accuracy_values})], axis=1)\n",
    "        table_f1 = pd.concat([table_f1, pd.DataFrame({j : f1_values})], axis=1)\n",
    "    table_accuracy.index = range(1,period+1)\n",
    "    table_f1.index = range(1,period+1)\n",
    "    return table_accuracy, table_f1"
   ]
  },
  {
   "cell_type": "code",
   "execution_count": 63,
   "metadata": {},
   "outputs": [],
   "source": [
    "stocks_accuracy_table, stocks_f1_table = stocks_accuracy(stocks, 300, 20)"
   ]
  },
  {
   "cell_type": "code",
   "execution_count": 64,
   "metadata": {},
   "outputs": [],
   "source": [
    "indices_accuracy_table, indices_f1_table = indices_accuracy(indices, 500, 20)"
   ]
  },
  {
   "cell_type": "markdown",
   "metadata": {},
   "source": [
    "## Graphical Representation of Accuracy and F1 scores of the used algorithm "
   ]
  },
  {
   "cell_type": "code",
   "execution_count": 70,
   "metadata": {},
   "outputs": [
    {
     "data": {
      "text/plain": [
       "<Figure size 432x288 with 0 Axes>"
      ]
     },
     "metadata": {},
     "output_type": "display_data"
    }
   ],
   "source": [
    "fig = plt.figure()"
   ]
  },
  {
   "cell_type": "code",
   "execution_count": 71,
   "metadata": {},
   "outputs": [
    {
     "data": {
      "text/plain": [
       "Text(0, 0.5, 'Average Score')"
      ]
     },
     "execution_count": 71,
     "metadata": {},
     "output_type": "execute_result"
    },
    {
     "data": {
      "image/png": "[encoded data removed]",
      "text/plain": [
       "<Figure size 432x288 with 1 Axes>"
      ]
     },
     "metadata": {
      "needs_background": "light"
     },
     "output_type": "display_data"
    }
   ],
   "source": [
    "plt.plot(stocks_accuracy_table)\n",
    "fig.suptitle('Accuracy Scores', fontsize=20)\n",
    "plt.xlabel('Days Ahead', fontsize=18)\n",
    "plt.ylabel('Average Score', fontsize=16)"
   ]
  },
  {
   "cell_type": "code",
   "execution_count": 72,
   "metadata": {},
   "outputs": [
    {
     "data": {
      "text/plain": [
       "Text(0, 0.5, 'Average Score')"
      ]
     },
     "execution_count": 72,
     "metadata": {},
     "output_type": "execute_result"
    },
    {
     "data": {
      "image/png": "[encoded data removed]",
      "text/plain": [
       "<Figure size 432x288 with 1 Axes>"
      ]
     },
     "metadata": {
      "needs_background": "light"
     },
     "output_type": "display_data"
    }
   ],
   "source": [
    "plt.plot(indices_accuracy_table)\n",
    "fig.suptitle('Accuracy Scores', fontsize=20)\n",
    "plt.xlabel('Days Ahead', fontsize=18)\n",
    "plt.ylabel('Average Score', fontsize=16)"
   ]
  },
  {
   "cell_type": "code",
   "execution_count": 73,
   "metadata": {},
   "outputs": [
    {
     "data": {
      "text/plain": [
       "Text(0, 0.5, 'Average Score')"
      ]
     },
     "execution_count": 73,
     "metadata": {},
     "output_type": "execute_result"
    },
    {
     "data": {
      "image/png": "[encoded data removed]",
      "text/plain": [
       "<Figure size 432x288 with 1 Axes>"
      ]
     },
     "metadata": {
      "needs_background": "light"
     },
     "output_type": "display_data"
    }
   ],
   "source": [
    "plt.plot(stocks_f1_table)\n",
    "fig.suptitle('Accuracy Scores', fontsize=20)\n",
    "plt.xlabel('Days Ahead', fontsize=18)\n",
    "plt.ylabel('Average Score', fontsize=16)"
   ]
  },
  {
   "cell_type": "code",
   "execution_count": 74,
   "metadata": {},
   "outputs": [
    {
     "data": {
      "text/plain": [
       "Text(0, 0.5, 'Average Score')"
      ]
     },
     "execution_count": 74,
     "metadata": {},
     "output_type": "execute_result"
    },
    {
     "data": {
      "image/png": "[encoded data removed]",
      "text/plain": [
       "<Figure size 432x288 with 1 Axes>"
      ]
     },
     "metadata": {
      "needs_background": "light"
     },
     "output_type": "display_data"
    }
   ],
   "source": [
    "plt.plot(indices_f1_table)\n",
    "fig.suptitle('Accuracy Scores', fontsize=20)\n",
    "plt.xlabel('Days Ahead', fontsize=18)\n",
    "plt.ylabel('Average Score', fontsize=16)"
   ]
  },
  {
   "cell_type": "code",
   "execution_count": 75,
   "metadata": {},
   "outputs": [],
   "source": [
    "def highlight_max(s):\n",
    "    '''\n",
    "    highlight the maximum in a Series yellow.\n",
    "    '''\n",
    "    is_max = s == s.max()\n",
    "    return ['background-color: yellow' if v else '' for v in is_max]"
   ]
  },
  {
   "cell_type": "markdown",
   "metadata": {},
   "source": [
    "## Tabular Representation of our final calculated results "
   ]
  },
  {
   "cell_type": "code",
   "execution_count": 76,
   "metadata": {},
   "outputs": [
    {
     "data": {
      "text/html": [
       "<style  type=\"text/css\" >\n",
       "    #T_d33ce04c_07b7_11e9_b13a_74c63bbb3ca3row15_col2 {\n",
       "            background-color:  yellow;\n",
       "        }    #T_d33ce04c_07b7_11e9_b13a_74c63bbb3ca3row19_col0 {\n",
       "            background-color:  yellow;\n",
       "        }    #T_d33ce04c_07b7_11e9_b13a_74c63bbb3ca3row19_col1 {\n",
       "            background-color:  yellow;\n",
       "        }</style>  \n",
       "<table id=\"T_d33ce04c_07b7_11e9_b13a_74c63bbb3ca3\" > \n",
       "<thead>    <tr> \n",
       "        <th class=\"blank level0\" ></th> \n",
       "        <th class=\"col_heading level0 col0\" >AMZN</th> \n",
       "        <th class=\"col_heading level0 col1\" >GOOG</th> \n",
       "        <th class=\"col_heading level0 col2\" >AAPL</th> \n",
       "    </tr></thead> \n",
       "<tbody>    <tr> \n",
       "        <th id=\"T_d33ce04c_07b7_11e9_b13a_74c63bbb3ca3level0_row0\" class=\"row_heading level0 row0\" >1</th> \n",
       "        <td id=\"T_d33ce04c_07b7_11e9_b13a_74c63bbb3ca3row0_col0\" class=\"data row0 col0\" >0.486257</td> \n",
       "        <td id=\"T_d33ce04c_07b7_11e9_b13a_74c63bbb3ca3row0_col1\" class=\"data row0 col1\" >0.49883</td> \n",
       "        <td id=\"T_d33ce04c_07b7_11e9_b13a_74c63bbb3ca3row0_col2\" class=\"data row0 col2\" >0.511988</td> \n",
       "    </tr>    <tr> \n",
       "        <th id=\"T_d33ce04c_07b7_11e9_b13a_74c63bbb3ca3level0_row1\" class=\"row_heading level0 row1\" >2</th> \n",
       "        <td id=\"T_d33ce04c_07b7_11e9_b13a_74c63bbb3ca3row1_col0\" class=\"data row1 col0\" >0.611988</td> \n",
       "        <td id=\"T_d33ce04c_07b7_11e9_b13a_74c63bbb3ca3row1_col1\" class=\"data row1 col1\" >0.599708</td> \n",
       "        <td id=\"T_d33ce04c_07b7_11e9_b13a_74c63bbb3ca3row1_col2\" class=\"data row1 col2\" >0.626608</td> \n",
       "    </tr>    <tr> \n",
       "        <th id=\"T_d33ce04c_07b7_11e9_b13a_74c63bbb3ca3level0_row2\" class=\"row_heading level0 row2\" >3</th> \n",
       "        <td id=\"T_d33ce04c_07b7_11e9_b13a_74c63bbb3ca3row2_col0\" class=\"data row2 col0\" >0.648246</td> \n",
       "        <td id=\"T_d33ce04c_07b7_11e9_b13a_74c63bbb3ca3row2_col1\" class=\"data row2 col1\" >0.624269</td> \n",
       "        <td id=\"T_d33ce04c_07b7_11e9_b13a_74c63bbb3ca3row2_col2\" class=\"data row2 col2\" >0.642982</td> \n",
       "    </tr>    <tr> \n",
       "        <th id=\"T_d33ce04c_07b7_11e9_b13a_74c63bbb3ca3level0_row3\" class=\"row_heading level0 row3\" >4</th> \n",
       "        <td id=\"T_d33ce04c_07b7_11e9_b13a_74c63bbb3ca3row3_col0\" class=\"data row3 col0\" >0.689312</td> \n",
       "        <td id=\"T_d33ce04c_07b7_11e9_b13a_74c63bbb3ca3row3_col1\" class=\"data row3 col1\" >0.669107</td> \n",
       "        <td id=\"T_d33ce04c_07b7_11e9_b13a_74c63bbb3ca3row3_col2\" class=\"data row3 col2\" >0.702196</td> \n",
       "    </tr>    <tr> \n",
       "        <th id=\"T_d33ce04c_07b7_11e9_b13a_74c63bbb3ca3level0_row4\" class=\"row_heading level0 row4\" >5</th> \n",
       "        <td id=\"T_d33ce04c_07b7_11e9_b13a_74c63bbb3ca3row4_col0\" class=\"data row4 col0\" >0.706881</td> \n",
       "        <td id=\"T_d33ce04c_07b7_11e9_b13a_74c63bbb3ca3row4_col1\" class=\"data row4 col1\" >0.706296</td> \n",
       "        <td id=\"T_d33ce04c_07b7_11e9_b13a_74c63bbb3ca3row4_col2\" class=\"data row4 col2\" >0.718594</td> \n",
       "    </tr>    <tr> \n",
       "        <th id=\"T_d33ce04c_07b7_11e9_b13a_74c63bbb3ca3level0_row5\" class=\"row_heading level0 row5\" >6</th> \n",
       "        <td id=\"T_d33ce04c_07b7_11e9_b13a_74c63bbb3ca3row5_col0\" class=\"data row5 col0\" >0.725622</td> \n",
       "        <td id=\"T_d33ce04c_07b7_11e9_b13a_74c63bbb3ca3row5_col1\" class=\"data row5 col1\" >0.719766</td> \n",
       "        <td id=\"T_d33ce04c_07b7_11e9_b13a_74c63bbb3ca3row5_col2\" class=\"data row5 col2\" >0.732357</td> \n",
       "    </tr>    <tr> \n",
       "        <th id=\"T_d33ce04c_07b7_11e9_b13a_74c63bbb3ca3level0_row6\" class=\"row_heading level0 row6\" >7</th> \n",
       "        <td id=\"T_d33ce04c_07b7_11e9_b13a_74c63bbb3ca3row6_col0\" class=\"data row6 col0\" >0.744949</td> \n",
       "        <td id=\"T_d33ce04c_07b7_11e9_b13a_74c63bbb3ca3row6_col1\" class=\"data row6 col1\" >0.723865</td> \n",
       "        <td id=\"T_d33ce04c_07b7_11e9_b13a_74c63bbb3ca3row6_col2\" class=\"data row6 col2\" >0.721523</td> \n",
       "    </tr>    <tr> \n",
       "        <th id=\"T_d33ce04c_07b7_11e9_b13a_74c63bbb3ca3level0_row7\" class=\"row_heading level0 row7\" >8</th> \n",
       "        <td id=\"T_d33ce04c_07b7_11e9_b13a_74c63bbb3ca3row7_col0\" class=\"data row7 col0\" >0.717889</td> \n",
       "        <td id=\"T_d33ce04c_07b7_11e9_b13a_74c63bbb3ca3row7_col1\" class=\"data row7 col1\" >0.723167</td> \n",
       "        <td id=\"T_d33ce04c_07b7_11e9_b13a_74c63bbb3ca3row7_col2\" class=\"data row7 col2\" >0.726393</td> \n",
       "    </tr>    <tr> \n",
       "        <th id=\"T_d33ce04c_07b7_11e9_b13a_74c63bbb3ca3level0_row8\" class=\"row_heading level0 row8\" >9</th> \n",
       "        <td id=\"T_d33ce04c_07b7_11e9_b13a_74c63bbb3ca3row8_col0\" class=\"data row8 col0\" >0.761584</td> \n",
       "        <td id=\"T_d33ce04c_07b7_11e9_b13a_74c63bbb3ca3row8_col1\" class=\"data row8 col1\" >0.757478</td> \n",
       "        <td id=\"T_d33ce04c_07b7_11e9_b13a_74c63bbb3ca3row8_col2\" class=\"data row8 col2\" >0.758358</td> \n",
       "    </tr>    <tr> \n",
       "        <th id=\"T_d33ce04c_07b7_11e9_b13a_74c63bbb3ca3level0_row9\" class=\"row_heading level0 row9\" >10</th> \n",
       "        <td id=\"T_d33ce04c_07b7_11e9_b13a_74c63bbb3ca3row9_col0\" class=\"data row9 col0\" >0.751613</td> \n",
       "        <td id=\"T_d33ce04c_07b7_11e9_b13a_74c63bbb3ca3row9_col1\" class=\"data row9 col1\" >0.752493</td> \n",
       "        <td id=\"T_d33ce04c_07b7_11e9_b13a_74c63bbb3ca3row9_col2\" class=\"data row9 col2\" >0.788563</td> \n",
       "    </tr>    <tr> \n",
       "        <th id=\"T_d33ce04c_07b7_11e9_b13a_74c63bbb3ca3level0_row10\" class=\"row_heading level0 row10\" >11</th> \n",
       "        <td id=\"T_d33ce04c_07b7_11e9_b13a_74c63bbb3ca3row10_col0\" class=\"data row10 col0\" >0.764516</td> \n",
       "        <td id=\"T_d33ce04c_07b7_11e9_b13a_74c63bbb3ca3row10_col1\" class=\"data row10 col1\" >0.758065</td> \n",
       "        <td id=\"T_d33ce04c_07b7_11e9_b13a_74c63bbb3ca3row10_col2\" class=\"data row10 col2\" >0.80088</td> \n",
       "    </tr>    <tr> \n",
       "        <th id=\"T_d33ce04c_07b7_11e9_b13a_74c63bbb3ca3level0_row11\" class=\"row_heading level0 row11\" >12</th> \n",
       "        <td id=\"T_d33ce04c_07b7_11e9_b13a_74c63bbb3ca3row11_col0\" class=\"data row11 col0\" >0.768576</td> \n",
       "        <td id=\"T_d33ce04c_07b7_11e9_b13a_74c63bbb3ca3row11_col1\" class=\"data row11 col1\" >0.781204</td> \n",
       "        <td id=\"T_d33ce04c_07b7_11e9_b13a_74c63bbb3ca3row11_col2\" class=\"data row11 col2\" >0.774156</td> \n",
       "    </tr>    <tr> \n",
       "        <th id=\"T_d33ce04c_07b7_11e9_b13a_74c63bbb3ca3level0_row12\" class=\"row_heading level0 row12\" >13</th> \n",
       "        <td id=\"T_d33ce04c_07b7_11e9_b13a_74c63bbb3ca3row12_col0\" class=\"data row12 col0\" >0.791777</td> \n",
       "        <td id=\"T_d33ce04c_07b7_11e9_b13a_74c63bbb3ca3row12_col1\" class=\"data row12 col1\" >0.7442</td> \n",
       "        <td id=\"T_d33ce04c_07b7_11e9_b13a_74c63bbb3ca3row12_col2\" class=\"data row12 col2\" >0.80558</td> \n",
       "    </tr>    <tr> \n",
       "        <th id=\"T_d33ce04c_07b7_11e9_b13a_74c63bbb3ca3level0_row13\" class=\"row_heading level0 row13\" >14</th> \n",
       "        <td id=\"T_d33ce04c_07b7_11e9_b13a_74c63bbb3ca3row13_col0\" class=\"data row13 col0\" >0.800881</td> \n",
       "        <td id=\"T_d33ce04c_07b7_11e9_b13a_74c63bbb3ca3row13_col1\" class=\"data row13 col1\" >0.790308</td> \n",
       "        <td id=\"T_d33ce04c_07b7_11e9_b13a_74c63bbb3ca3row13_col2\" class=\"data row13 col2\" >0.812922</td> \n",
       "    </tr>    <tr> \n",
       "        <th id=\"T_d33ce04c_07b7_11e9_b13a_74c63bbb3ca3level0_row14\" class=\"row_heading level0 row14\" >15</th> \n",
       "        <td id=\"T_d33ce04c_07b7_11e9_b13a_74c63bbb3ca3row14_col0\" class=\"data row14 col0\" >0.809692</td> \n",
       "        <td id=\"T_d33ce04c_07b7_11e9_b13a_74c63bbb3ca3row14_col1\" class=\"data row14 col1\" >0.786784</td> \n",
       "        <td id=\"T_d33ce04c_07b7_11e9_b13a_74c63bbb3ca3row14_col2\" class=\"data row14 col2\" >0.804112</td> \n",
       "    </tr>    <tr> \n",
       "        <th id=\"T_d33ce04c_07b7_11e9_b13a_74c63bbb3ca3level0_row15\" class=\"row_heading level0 row15\" >16</th> \n",
       "        <td id=\"T_d33ce04c_07b7_11e9_b13a_74c63bbb3ca3row15_col0\" class=\"data row15 col0\" >0.807647</td> \n",
       "        <td id=\"T_d33ce04c_07b7_11e9_b13a_74c63bbb3ca3row15_col1\" class=\"data row15 col1\" >0.789706</td> \n",
       "        <td id=\"T_d33ce04c_07b7_11e9_b13a_74c63bbb3ca3row15_col2\" class=\"data row15 col2\" >0.830588</td> \n",
       "    </tr>    <tr> \n",
       "        <th id=\"T_d33ce04c_07b7_11e9_b13a_74c63bbb3ca3level0_row16\" class=\"row_heading level0 row16\" >17</th> \n",
       "        <td id=\"T_d33ce04c_07b7_11e9_b13a_74c63bbb3ca3row16_col0\" class=\"data row16 col0\" >0.794706</td> \n",
       "        <td id=\"T_d33ce04c_07b7_11e9_b13a_74c63bbb3ca3row16_col1\" class=\"data row16 col1\" >0.755882</td> \n",
       "        <td id=\"T_d33ce04c_07b7_11e9_b13a_74c63bbb3ca3row16_col2\" class=\"data row16 col2\" >0.823529</td> \n",
       "    </tr>    <tr> \n",
       "        <th id=\"T_d33ce04c_07b7_11e9_b13a_74c63bbb3ca3level0_row17\" class=\"row_heading level0 row17\" >18</th> \n",
       "        <td id=\"T_d33ce04c_07b7_11e9_b13a_74c63bbb3ca3row17_col0\" class=\"data row17 col0\" >0.808824</td> \n",
       "        <td id=\"T_d33ce04c_07b7_11e9_b13a_74c63bbb3ca3row17_col1\" class=\"data row17 col1\" >0.805588</td> \n",
       "        <td id=\"T_d33ce04c_07b7_11e9_b13a_74c63bbb3ca3row17_col2\" class=\"data row17 col2\" >0.817941</td> \n",
       "    </tr>    <tr> \n",
       "        <th id=\"T_d33ce04c_07b7_11e9_b13a_74c63bbb3ca3level0_row18\" class=\"row_heading level0 row18\" >19</th> \n",
       "        <td id=\"T_d33ce04c_07b7_11e9_b13a_74c63bbb3ca3row18_col0\" class=\"data row18 col0\" >0.800588</td> \n",
       "        <td id=\"T_d33ce04c_07b7_11e9_b13a_74c63bbb3ca3row18_col1\" class=\"data row18 col1\" >0.806765</td> \n",
       "        <td id=\"T_d33ce04c_07b7_11e9_b13a_74c63bbb3ca3row18_col2\" class=\"data row18 col2\" >0.807941</td> \n",
       "    </tr>    <tr> \n",
       "        <th id=\"T_d33ce04c_07b7_11e9_b13a_74c63bbb3ca3level0_row19\" class=\"row_heading level0 row19\" >20</th> \n",
       "        <td id=\"T_d33ce04c_07b7_11e9_b13a_74c63bbb3ca3row19_col0\" class=\"data row19 col0\" >0.835346</td> \n",
       "        <td id=\"T_d33ce04c_07b7_11e9_b13a_74c63bbb3ca3row19_col1\" class=\"data row19 col1\" >0.807069</td> \n",
       "        <td id=\"T_d33ce04c_07b7_11e9_b13a_74c63bbb3ca3row19_col2\" class=\"data row19 col2\" >0.790869</td> \n",
       "    </tr></tbody> \n",
       "</table> "
      ],
      "text/plain": [
       "<pandas.io.formats.style.Styler at 0x7f7a0d345a58>"
      ]
     },
     "execution_count": 76,
     "metadata": {},
     "output_type": "execute_result"
    }
   ],
   "source": [
    "stocks_accuracy_table.style.apply(highlight_max, axis=0)"
   ]
  },
  {
   "cell_type": "code",
   "execution_count": 77,
   "metadata": {},
   "outputs": [
    {
     "data": {
      "text/html": [
       "<style  type=\"text/css\" >\n",
       "    #T_dbf9a670_07b7_11e9_b13a_74c63bbb3ca3row18_col0 {\n",
       "            background-color:  yellow;\n",
       "        }    #T_dbf9a670_07b7_11e9_b13a_74c63bbb3ca3row18_col1 {\n",
       "            background-color:  yellow;\n",
       "        }    #T_dbf9a670_07b7_11e9_b13a_74c63bbb3ca3row19_col2 {\n",
       "            background-color:  yellow;\n",
       "        }</style>  \n",
       "<table id=\"T_dbf9a670_07b7_11e9_b13a_74c63bbb3ca3\" > \n",
       "<thead>    <tr> \n",
       "        <th class=\"blank level0\" ></th> \n",
       "        <th class=\"col_heading level0 col0\" >GSPC</th> \n",
       "        <th class=\"col_heading level0 col1\" >DJI</th> \n",
       "        <th class=\"col_heading level0 col2\" >NDX</th> \n",
       "    </tr></thead> \n",
       "<tbody>    <tr> \n",
       "        <th id=\"T_dbf9a670_07b7_11e9_b13a_74c63bbb3ca3level0_row0\" class=\"row_heading level0 row0\" >1</th> \n",
       "        <td id=\"T_dbf9a670_07b7_11e9_b13a_74c63bbb3ca3row0_col0\" class=\"data row0 col0\" >0.525731</td> \n",
       "        <td id=\"T_dbf9a670_07b7_11e9_b13a_74c63bbb3ca3row0_col1\" class=\"data row0 col1\" >0.496491</td> \n",
       "        <td id=\"T_dbf9a670_07b7_11e9_b13a_74c63bbb3ca3row0_col2\" class=\"data row0 col2\" >0.545614</td> \n",
       "    </tr>    <tr> \n",
       "        <th id=\"T_dbf9a670_07b7_11e9_b13a_74c63bbb3ca3level0_row1\" class=\"row_heading level0 row1\" >2</th> \n",
       "        <td id=\"T_dbf9a670_07b7_11e9_b13a_74c63bbb3ca3row1_col0\" class=\"data row1 col0\" >0.595322</td> \n",
       "        <td id=\"T_dbf9a670_07b7_11e9_b13a_74c63bbb3ca3row1_col1\" class=\"data row1 col1\" >0.588012</td> \n",
       "        <td id=\"T_dbf9a670_07b7_11e9_b13a_74c63bbb3ca3row1_col2\" class=\"data row1 col2\" >0.611111</td> \n",
       "    </tr>    <tr> \n",
       "        <th id=\"T_dbf9a670_07b7_11e9_b13a_74c63bbb3ca3level0_row2\" class=\"row_heading level0 row2\" >3</th> \n",
       "        <td id=\"T_dbf9a670_07b7_11e9_b13a_74c63bbb3ca3row2_col0\" class=\"data row2 col0\" >0.645029</td> \n",
       "        <td id=\"T_dbf9a670_07b7_11e9_b13a_74c63bbb3ca3row2_col1\" class=\"data row2 col1\" >0.624561</td> \n",
       "        <td id=\"T_dbf9a670_07b7_11e9_b13a_74c63bbb3ca3row2_col2\" class=\"data row2 col2\" >0.647076</td> \n",
       "    </tr>    <tr> \n",
       "        <th id=\"T_dbf9a670_07b7_11e9_b13a_74c63bbb3ca3level0_row3\" class=\"row_heading level0 row3\" >4</th> \n",
       "        <td id=\"T_dbf9a670_07b7_11e9_b13a_74c63bbb3ca3row3_col0\" class=\"data row3 col0\" >0.691947</td> \n",
       "        <td id=\"T_dbf9a670_07b7_11e9_b13a_74c63bbb3ca3row3_col1\" class=\"data row3 col1\" >0.687262</td> \n",
       "        <td id=\"T_dbf9a670_07b7_11e9_b13a_74c63bbb3ca3row3_col2\" class=\"data row3 col2\" >0.65798</td> \n",
       "    </tr>    <tr> \n",
       "        <th id=\"T_dbf9a670_07b7_11e9_b13a_74c63bbb3ca3level0_row4\" class=\"row_heading level0 row4\" >5</th> \n",
       "        <td id=\"T_dbf9a670_07b7_11e9_b13a_74c63bbb3ca3row4_col0\" class=\"data row4 col0\" >0.637775</td> \n",
       "        <td id=\"T_dbf9a670_07b7_11e9_b13a_74c63bbb3ca3row4_col1\" class=\"data row4 col1\" >0.701611</td> \n",
       "        <td id=\"T_dbf9a670_07b7_11e9_b13a_74c63bbb3ca3row4_col2\" class=\"data row4 col2\" >0.69224</td> \n",
       "    </tr>    <tr> \n",
       "        <th id=\"T_dbf9a670_07b7_11e9_b13a_74c63bbb3ca3level0_row5\" class=\"row_heading level0 row5\" >6</th> \n",
       "        <td id=\"T_dbf9a670_07b7_11e9_b13a_74c63bbb3ca3row5_col0\" class=\"data row5 col0\" >0.664129</td> \n",
       "        <td id=\"T_dbf9a670_07b7_11e9_b13a_74c63bbb3ca3row5_col1\" class=\"data row5 col1\" >0.69634</td> \n",
       "        <td id=\"T_dbf9a670_07b7_11e9_b13a_74c63bbb3ca3row5_col2\" class=\"data row5 col2\" >0.688141</td> \n",
       "    </tr>    <tr> \n",
       "        <th id=\"T_dbf9a670_07b7_11e9_b13a_74c63bbb3ca3level0_row6\" class=\"row_heading level0 row6\" >7</th> \n",
       "        <td id=\"T_dbf9a670_07b7_11e9_b13a_74c63bbb3ca3row6_col0\" class=\"data row6 col0\" >0.713031</td> \n",
       "        <td id=\"T_dbf9a670_07b7_11e9_b13a_74c63bbb3ca3row6_col1\" class=\"data row6 col1\" >0.746706</td> \n",
       "        <td id=\"T_dbf9a670_07b7_11e9_b13a_74c63bbb3ca3row6_col2\" class=\"data row6 col2\" >0.738214</td> \n",
       "    </tr>    <tr> \n",
       "        <th id=\"T_dbf9a670_07b7_11e9_b13a_74c63bbb3ca3level0_row7\" class=\"row_heading level0 row7\" >8</th> \n",
       "        <td id=\"T_dbf9a670_07b7_11e9_b13a_74c63bbb3ca3row7_col0\" class=\"data row7 col0\" >0.717889</td> \n",
       "        <td id=\"T_dbf9a670_07b7_11e9_b13a_74c63bbb3ca3row7_col1\" class=\"data row7 col1\" >0.744868</td> \n",
       "        <td id=\"T_dbf9a670_07b7_11e9_b13a_74c63bbb3ca3row7_col2\" class=\"data row7 col2\" >0.766569</td> \n",
       "    </tr>    <tr> \n",
       "        <th id=\"T_dbf9a670_07b7_11e9_b13a_74c63bbb3ca3level0_row8\" class=\"row_heading level0 row8\" >9</th> \n",
       "        <td id=\"T_dbf9a670_07b7_11e9_b13a_74c63bbb3ca3row8_col0\" class=\"data row8 col0\" >0.731672</td> \n",
       "        <td id=\"T_dbf9a670_07b7_11e9_b13a_74c63bbb3ca3row8_col1\" class=\"data row8 col1\" >0.727566</td> \n",
       "        <td id=\"T_dbf9a670_07b7_11e9_b13a_74c63bbb3ca3row8_col2\" class=\"data row8 col2\" >0.731085</td> \n",
       "    </tr>    <tr> \n",
       "        <th id=\"T_dbf9a670_07b7_11e9_b13a_74c63bbb3ca3level0_row9\" class=\"row_heading level0 row9\" >10</th> \n",
       "        <td id=\"T_dbf9a670_07b7_11e9_b13a_74c63bbb3ca3row9_col0\" class=\"data row9 col0\" >0.750147</td> \n",
       "        <td id=\"T_dbf9a670_07b7_11e9_b13a_74c63bbb3ca3row9_col1\" class=\"data row9 col1\" >0.755718</td> \n",
       "        <td id=\"T_dbf9a670_07b7_11e9_b13a_74c63bbb3ca3row9_col2\" class=\"data row9 col2\" >0.764809</td> \n",
       "    </tr>    <tr> \n",
       "        <th id=\"T_dbf9a670_07b7_11e9_b13a_74c63bbb3ca3level0_row10\" class=\"row_heading level0 row10\" >11</th> \n",
       "        <td id=\"T_dbf9a670_07b7_11e9_b13a_74c63bbb3ca3row10_col0\" class=\"data row10 col0\" >0.717595</td> \n",
       "        <td id=\"T_dbf9a670_07b7_11e9_b13a_74c63bbb3ca3row10_col1\" class=\"data row10 col1\" >0.755718</td> \n",
       "        <td id=\"T_dbf9a670_07b7_11e9_b13a_74c63bbb3ca3row10_col2\" class=\"data row10 col2\" >0.778299</td> \n",
       "    </tr>    <tr> \n",
       "        <th id=\"T_dbf9a670_07b7_11e9_b13a_74c63bbb3ca3level0_row11\" class=\"row_heading level0 row11\" >12</th> \n",
       "        <td id=\"T_dbf9a670_07b7_11e9_b13a_74c63bbb3ca3row11_col0\" class=\"data row11 col0\" >0.71953</td> \n",
       "        <td id=\"T_dbf9a670_07b7_11e9_b13a_74c63bbb3ca3row11_col1\" class=\"data row11 col1\" >0.749192</td> \n",
       "        <td id=\"T_dbf9a670_07b7_11e9_b13a_74c63bbb3ca3row11_col2\" class=\"data row11 col2\" >0.788253</td> \n",
       "    </tr>    <tr> \n",
       "        <th id=\"T_dbf9a670_07b7_11e9_b13a_74c63bbb3ca3level0_row12\" class=\"row_heading level0 row12\" >13</th> \n",
       "        <td id=\"T_dbf9a670_07b7_11e9_b13a_74c63bbb3ca3row12_col0\" class=\"data row12 col0\" >0.761821</td> \n",
       "        <td id=\"T_dbf9a670_07b7_11e9_b13a_74c63bbb3ca3row12_col1\" class=\"data row12 col1\" >0.775037</td> \n",
       "        <td id=\"T_dbf9a670_07b7_11e9_b13a_74c63bbb3ca3row12_col2\" class=\"data row12 col2\" >0.821439</td> \n",
       "    </tr>    <tr> \n",
       "        <th id=\"T_dbf9a670_07b7_11e9_b13a_74c63bbb3ca3level0_row13\" class=\"row_heading level0 row13\" >14</th> \n",
       "        <td id=\"T_dbf9a670_07b7_11e9_b13a_74c63bbb3ca3row13_col0\" class=\"data row13 col0\" >0.742144</td> \n",
       "        <td id=\"T_dbf9a670_07b7_11e9_b13a_74c63bbb3ca3row13_col1\" class=\"data row13 col1\" >0.751836</td> \n",
       "        <td id=\"T_dbf9a670_07b7_11e9_b13a_74c63bbb3ca3row13_col2\" class=\"data row13 col2\" >0.796769</td> \n",
       "    </tr>    <tr> \n",
       "        <th id=\"T_dbf9a670_07b7_11e9_b13a_74c63bbb3ca3level0_row14\" class=\"row_heading level0 row14\" >15</th> \n",
       "        <td id=\"T_dbf9a670_07b7_11e9_b13a_74c63bbb3ca3row14_col0\" class=\"data row14 col0\" >0.774449</td> \n",
       "        <td id=\"T_dbf9a670_07b7_11e9_b13a_74c63bbb3ca3row14_col1\" class=\"data row14 col1\" >0.782673</td> \n",
       "        <td id=\"T_dbf9a670_07b7_11e9_b13a_74c63bbb3ca3row14_col2\" class=\"data row14 col2\" >0.78884</td> \n",
       "    </tr>    <tr> \n",
       "        <th id=\"T_dbf9a670_07b7_11e9_b13a_74c63bbb3ca3level0_row15\" class=\"row_heading level0 row15\" >16</th> \n",
       "        <td id=\"T_dbf9a670_07b7_11e9_b13a_74c63bbb3ca3row15_col0\" class=\"data row15 col0\" >0.785588</td> \n",
       "        <td id=\"T_dbf9a670_07b7_11e9_b13a_74c63bbb3ca3row15_col1\" class=\"data row15 col1\" >0.765882</td> \n",
       "        <td id=\"T_dbf9a670_07b7_11e9_b13a_74c63bbb3ca3row15_col2\" class=\"data row15 col2\" >0.820882</td> \n",
       "    </tr>    <tr> \n",
       "        <th id=\"T_dbf9a670_07b7_11e9_b13a_74c63bbb3ca3level0_row16\" class=\"row_heading level0 row16\" >17</th> \n",
       "        <td id=\"T_dbf9a670_07b7_11e9_b13a_74c63bbb3ca3row16_col0\" class=\"data row16 col0\" >0.775588</td> \n",
       "        <td id=\"T_dbf9a670_07b7_11e9_b13a_74c63bbb3ca3row16_col1\" class=\"data row16 col1\" >0.795588</td> \n",
       "        <td id=\"T_dbf9a670_07b7_11e9_b13a_74c63bbb3ca3row16_col2\" class=\"data row16 col2\" >0.820882</td> \n",
       "    </tr>    <tr> \n",
       "        <th id=\"T_dbf9a670_07b7_11e9_b13a_74c63bbb3ca3level0_row17\" class=\"row_heading level0 row17\" >18</th> \n",
       "        <td id=\"T_dbf9a670_07b7_11e9_b13a_74c63bbb3ca3row17_col0\" class=\"data row17 col0\" >0.774706</td> \n",
       "        <td id=\"T_dbf9a670_07b7_11e9_b13a_74c63bbb3ca3row17_col1\" class=\"data row17 col1\" >0.811765</td> \n",
       "        <td id=\"T_dbf9a670_07b7_11e9_b13a_74c63bbb3ca3row17_col2\" class=\"data row17 col2\" >0.769706</td> \n",
       "    </tr>    <tr> \n",
       "        <th id=\"T_dbf9a670_07b7_11e9_b13a_74c63bbb3ca3level0_row18\" class=\"row_heading level0 row18\" >19</th> \n",
       "        <td id=\"T_dbf9a670_07b7_11e9_b13a_74c63bbb3ca3row18_col0\" class=\"data row18 col0\" >0.801765</td> \n",
       "        <td id=\"T_dbf9a670_07b7_11e9_b13a_74c63bbb3ca3row18_col1\" class=\"data row18 col1\" >0.823529</td> \n",
       "        <td id=\"T_dbf9a670_07b7_11e9_b13a_74c63bbb3ca3row18_col2\" class=\"data row18 col2\" >0.806765</td> \n",
       "    </tr>    <tr> \n",
       "        <th id=\"T_dbf9a670_07b7_11e9_b13a_74c63bbb3ca3level0_row19\" class=\"row_heading level0 row19\" >20</th> \n",
       "        <td id=\"T_dbf9a670_07b7_11e9_b13a_74c63bbb3ca3row19_col0\" class=\"data row19 col0\" >0.766421</td> \n",
       "        <td id=\"T_dbf9a670_07b7_11e9_b13a_74c63bbb3ca3row19_col1\" class=\"data row19 col1\" >0.809426</td> \n",
       "        <td id=\"T_dbf9a670_07b7_11e9_b13a_74c63bbb3ca3row19_col2\" class=\"data row19 col2\" >0.854492</td> \n",
       "    </tr></tbody> \n",
       "</table> "
      ],
      "text/plain": [
       "<pandas.io.formats.style.Styler at 0x7f7a5421aac8>"
      ]
     },
     "execution_count": 77,
     "metadata": {},
     "output_type": "execute_result"
    }
   ],
   "source": [
    "indices_accuracy_table.style.apply(highlight_max, axis=0)"
   ]
  },
  {
   "cell_type": "code",
   "execution_count": 78,
   "metadata": {},
   "outputs": [
    {
     "data": {
      "text/html": [
       "<style  type=\"text/css\" >\n",
       "    #T_e2df710e_07b7_11e9_b13a_74c63bbb3ca3row15_col2 {\n",
       "            background-color:  yellow;\n",
       "        }    #T_e2df710e_07b7_11e9_b13a_74c63bbb3ca3row19_col0 {\n",
       "            background-color:  yellow;\n",
       "        }    #T_e2df710e_07b7_11e9_b13a_74c63bbb3ca3row19_col1 {\n",
       "            background-color:  yellow;\n",
       "        }</style>  \n",
       "<table id=\"T_e2df710e_07b7_11e9_b13a_74c63bbb3ca3\" > \n",
       "<thead>    <tr> \n",
       "        <th class=\"blank level0\" ></th> \n",
       "        <th class=\"col_heading level0 col0\" >AMZN</th> \n",
       "        <th class=\"col_heading level0 col1\" >GOOG</th> \n",
       "        <th class=\"col_heading level0 col2\" >AAPL</th> \n",
       "    </tr></thead> \n",
       "<tbody>    <tr> \n",
       "        <th id=\"T_e2df710e_07b7_11e9_b13a_74c63bbb3ca3level0_row0\" class=\"row_heading level0 row0\" >1</th> \n",
       "        <td id=\"T_e2df710e_07b7_11e9_b13a_74c63bbb3ca3row0_col0\" class=\"data row0 col0\" >0.498397</td> \n",
       "        <td id=\"T_e2df710e_07b7_11e9_b13a_74c63bbb3ca3row0_col1\" class=\"data row0 col1\" >0.506049</td> \n",
       "        <td id=\"T_e2df710e_07b7_11e9_b13a_74c63bbb3ca3row0_col2\" class=\"data row0 col2\" >0.559059</td> \n",
       "    </tr>    <tr> \n",
       "        <th id=\"T_e2df710e_07b7_11e9_b13a_74c63bbb3ca3level0_row1\" class=\"row_heading level0 row1\" >2</th> \n",
       "        <td id=\"T_e2df710e_07b7_11e9_b13a_74c63bbb3ca3row1_col0\" class=\"data row1 col0\" >0.665974</td> \n",
       "        <td id=\"T_e2df710e_07b7_11e9_b13a_74c63bbb3ca3row1_col1\" class=\"data row1 col1\" >0.63864</td> \n",
       "        <td id=\"T_e2df710e_07b7_11e9_b13a_74c63bbb3ca3row1_col2\" class=\"data row1 col2\" >0.684933</td> \n",
       "    </tr>    <tr> \n",
       "        <th id=\"T_e2df710e_07b7_11e9_b13a_74c63bbb3ca3level0_row2\" class=\"row_heading level0 row2\" >3</th> \n",
       "        <td id=\"T_e2df710e_07b7_11e9_b13a_74c63bbb3ca3row2_col0\" class=\"data row2 col0\" >0.687742</td> \n",
       "        <td id=\"T_e2df710e_07b7_11e9_b13a_74c63bbb3ca3row2_col1\" class=\"data row2 col1\" >0.66858</td> \n",
       "        <td id=\"T_e2df710e_07b7_11e9_b13a_74c63bbb3ca3row2_col2\" class=\"data row2 col2\" >0.701666</td> \n",
       "    </tr>    <tr> \n",
       "        <th id=\"T_e2df710e_07b7_11e9_b13a_74c63bbb3ca3level0_row3\" class=\"row_heading level0 row3\" >4</th> \n",
       "        <td id=\"T_e2df710e_07b7_11e9_b13a_74c63bbb3ca3row3_col0\" class=\"data row3 col0\" >0.734575</td> \n",
       "        <td id=\"T_e2df710e_07b7_11e9_b13a_74c63bbb3ca3row3_col1\" class=\"data row3 col1\" >0.720286</td> \n",
       "        <td id=\"T_e2df710e_07b7_11e9_b13a_74c63bbb3ca3row3_col2\" class=\"data row3 col2\" >0.755695</td> \n",
       "    </tr>    <tr> \n",
       "        <th id=\"T_e2df710e_07b7_11e9_b13a_74c63bbb3ca3level0_row4\" class=\"row_heading level0 row4\" >5</th> \n",
       "        <td id=\"T_e2df710e_07b7_11e9_b13a_74c63bbb3ca3row4_col0\" class=\"data row4 col0\" >0.756147</td> \n",
       "        <td id=\"T_e2df710e_07b7_11e9_b13a_74c63bbb3ca3row4_col1\" class=\"data row4 col1\" >0.750585</td> \n",
       "        <td id=\"T_e2df710e_07b7_11e9_b13a_74c63bbb3ca3row4_col2\" class=\"data row4 col2\" >0.769031</td> \n",
       "    </tr>    <tr> \n",
       "        <th id=\"T_e2df710e_07b7_11e9_b13a_74c63bbb3ca3level0_row5\" class=\"row_heading level0 row5\" >6</th> \n",
       "        <td id=\"T_e2df710e_07b7_11e9_b13a_74c63bbb3ca3row5_col0\" class=\"data row5 col0\" >0.769054</td> \n",
       "        <td id=\"T_e2df710e_07b7_11e9_b13a_74c63bbb3ca3row5_col1\" class=\"data row5 col1\" >0.766408</td> \n",
       "        <td id=\"T_e2df710e_07b7_11e9_b13a_74c63bbb3ca3row5_col2\" class=\"data row5 col2\" >0.788715</td> \n",
       "    </tr>    <tr> \n",
       "        <th id=\"T_e2df710e_07b7_11e9_b13a_74c63bbb3ca3level0_row6\" class=\"row_heading level0 row6\" >7</th> \n",
       "        <td id=\"T_e2df710e_07b7_11e9_b13a_74c63bbb3ca3row6_col0\" class=\"data row6 col0\" >0.782205</td> \n",
       "        <td id=\"T_e2df710e_07b7_11e9_b13a_74c63bbb3ca3row6_col1\" class=\"data row6 col1\" >0.768926</td> \n",
       "        <td id=\"T_e2df710e_07b7_11e9_b13a_74c63bbb3ca3row6_col2\" class=\"data row6 col2\" >0.772191</td> \n",
       "    </tr>    <tr> \n",
       "        <th id=\"T_e2df710e_07b7_11e9_b13a_74c63bbb3ca3level0_row7\" class=\"row_heading level0 row7\" >8</th> \n",
       "        <td id=\"T_e2df710e_07b7_11e9_b13a_74c63bbb3ca3row7_col0\" class=\"data row7 col0\" >0.765601</td> \n",
       "        <td id=\"T_e2df710e_07b7_11e9_b13a_74c63bbb3ca3row7_col1\" class=\"data row7 col1\" >0.765973</td> \n",
       "        <td id=\"T_e2df710e_07b7_11e9_b13a_74c63bbb3ca3row7_col2\" class=\"data row7 col2\" >0.784052</td> \n",
       "    </tr>    <tr> \n",
       "        <th id=\"T_e2df710e_07b7_11e9_b13a_74c63bbb3ca3level0_row8\" class=\"row_heading level0 row8\" >9</th> \n",
       "        <td id=\"T_e2df710e_07b7_11e9_b13a_74c63bbb3ca3row8_col0\" class=\"data row8 col0\" >0.813915</td> \n",
       "        <td id=\"T_e2df710e_07b7_11e9_b13a_74c63bbb3ca3row8_col1\" class=\"data row8 col1\" >0.80182</td> \n",
       "        <td id=\"T_e2df710e_07b7_11e9_b13a_74c63bbb3ca3row8_col2\" class=\"data row8 col2\" >0.813659</td> \n",
       "    </tr>    <tr> \n",
       "        <th id=\"T_e2df710e_07b7_11e9_b13a_74c63bbb3ca3level0_row9\" class=\"row_heading level0 row9\" >10</th> \n",
       "        <td id=\"T_e2df710e_07b7_11e9_b13a_74c63bbb3ca3row9_col0\" class=\"data row9 col0\" >0.796242</td> \n",
       "        <td id=\"T_e2df710e_07b7_11e9_b13a_74c63bbb3ca3row9_col1\" class=\"data row9 col1\" >0.794141</td> \n",
       "        <td id=\"T_e2df710e_07b7_11e9_b13a_74c63bbb3ca3row9_col2\" class=\"data row9 col2\" >0.827222</td> \n",
       "    </tr>    <tr> \n",
       "        <th id=\"T_e2df710e_07b7_11e9_b13a_74c63bbb3ca3level0_row10\" class=\"row_heading level0 row10\" >11</th> \n",
       "        <td id=\"T_e2df710e_07b7_11e9_b13a_74c63bbb3ca3row10_col0\" class=\"data row10 col0\" >0.809231</td> \n",
       "        <td id=\"T_e2df710e_07b7_11e9_b13a_74c63bbb3ca3row10_col1\" class=\"data row10 col1\" >0.791067</td> \n",
       "        <td id=\"T_e2df710e_07b7_11e9_b13a_74c63bbb3ca3row10_col2\" class=\"data row10 col2\" >0.8425</td> \n",
       "    </tr>    <tr> \n",
       "        <th id=\"T_e2df710e_07b7_11e9_b13a_74c63bbb3ca3level0_row11\" class=\"row_heading level0 row11\" >12</th> \n",
       "        <td id=\"T_e2df710e_07b7_11e9_b13a_74c63bbb3ca3row11_col0\" class=\"data row11 col0\" >0.813545</td> \n",
       "        <td id=\"T_e2df710e_07b7_11e9_b13a_74c63bbb3ca3row11_col1\" class=\"data row11 col1\" >0.821546</td> \n",
       "        <td id=\"T_e2df710e_07b7_11e9_b13a_74c63bbb3ca3row11_col2\" class=\"data row11 col2\" >0.824236</td> \n",
       "    </tr>    <tr> \n",
       "        <th id=\"T_e2df710e_07b7_11e9_b13a_74c63bbb3ca3level0_row12\" class=\"row_heading level0 row12\" >13</th> \n",
       "        <td id=\"T_e2df710e_07b7_11e9_b13a_74c63bbb3ca3row12_col0\" class=\"data row12 col0\" >0.835153</td> \n",
       "        <td id=\"T_e2df710e_07b7_11e9_b13a_74c63bbb3ca3row12_col1\" class=\"data row12 col1\" >0.79552</td> \n",
       "        <td id=\"T_e2df710e_07b7_11e9_b13a_74c63bbb3ca3row12_col2\" class=\"data row12 col2\" >0.850833</td> \n",
       "    </tr>    <tr> \n",
       "        <th id=\"T_e2df710e_07b7_11e9_b13a_74c63bbb3ca3level0_row13\" class=\"row_heading level0 row13\" >14</th> \n",
       "        <td id=\"T_e2df710e_07b7_11e9_b13a_74c63bbb3ca3row13_col0\" class=\"data row13 col0\" >0.838576</td> \n",
       "        <td id=\"T_e2df710e_07b7_11e9_b13a_74c63bbb3ca3row13_col1\" class=\"data row13 col1\" >0.82999</td> \n",
       "        <td id=\"T_e2df710e_07b7_11e9_b13a_74c63bbb3ca3row13_col2\" class=\"data row13 col2\" >0.85085</td> \n",
       "    </tr>    <tr> \n",
       "        <th id=\"T_e2df710e_07b7_11e9_b13a_74c63bbb3ca3level0_row14\" class=\"row_heading level0 row14\" >15</th> \n",
       "        <td id=\"T_e2df710e_07b7_11e9_b13a_74c63bbb3ca3row14_col0\" class=\"data row14 col0\" >0.85076</td> \n",
       "        <td id=\"T_e2df710e_07b7_11e9_b13a_74c63bbb3ca3row14_col1\" class=\"data row14 col1\" >0.826894</td> \n",
       "        <td id=\"T_e2df710e_07b7_11e9_b13a_74c63bbb3ca3row14_col2\" class=\"data row14 col2\" >0.848449</td> \n",
       "    </tr>    <tr> \n",
       "        <th id=\"T_e2df710e_07b7_11e9_b13a_74c63bbb3ca3level0_row15\" class=\"row_heading level0 row15\" >16</th> \n",
       "        <td id=\"T_e2df710e_07b7_11e9_b13a_74c63bbb3ca3row15_col0\" class=\"data row15 col0\" >0.852161</td> \n",
       "        <td id=\"T_e2df710e_07b7_11e9_b13a_74c63bbb3ca3row15_col1\" class=\"data row15 col1\" >0.827498</td> \n",
       "        <td id=\"T_e2df710e_07b7_11e9_b13a_74c63bbb3ca3row15_col2\" class=\"data row15 col2\" >0.868617</td> \n",
       "    </tr>    <tr> \n",
       "        <th id=\"T_e2df710e_07b7_11e9_b13a_74c63bbb3ca3level0_row16\" class=\"row_heading level0 row16\" >17</th> \n",
       "        <td id=\"T_e2df710e_07b7_11e9_b13a_74c63bbb3ca3row16_col0\" class=\"data row16 col0\" >0.846128</td> \n",
       "        <td id=\"T_e2df710e_07b7_11e9_b13a_74c63bbb3ca3row16_col1\" class=\"data row16 col1\" >0.801616</td> \n",
       "        <td id=\"T_e2df710e_07b7_11e9_b13a_74c63bbb3ca3row16_col2\" class=\"data row16 col2\" >0.860855</td> \n",
       "    </tr>    <tr> \n",
       "        <th id=\"T_e2df710e_07b7_11e9_b13a_74c63bbb3ca3level0_row17\" class=\"row_heading level0 row17\" >18</th> \n",
       "        <td id=\"T_e2df710e_07b7_11e9_b13a_74c63bbb3ca3row17_col0\" class=\"data row17 col0\" >0.85478</td> \n",
       "        <td id=\"T_e2df710e_07b7_11e9_b13a_74c63bbb3ca3row17_col1\" class=\"data row17 col1\" >0.837289</td> \n",
       "        <td id=\"T_e2df710e_07b7_11e9_b13a_74c63bbb3ca3row17_col2\" class=\"data row17 col2\" >0.856407</td> \n",
       "    </tr>    <tr> \n",
       "        <th id=\"T_e2df710e_07b7_11e9_b13a_74c63bbb3ca3level0_row18\" class=\"row_heading level0 row18\" >19</th> \n",
       "        <td id=\"T_e2df710e_07b7_11e9_b13a_74c63bbb3ca3row18_col0\" class=\"data row18 col0\" >0.851964</td> \n",
       "        <td id=\"T_e2df710e_07b7_11e9_b13a_74c63bbb3ca3row18_col1\" class=\"data row18 col1\" >0.839335</td> \n",
       "        <td id=\"T_e2df710e_07b7_11e9_b13a_74c63bbb3ca3row18_col2\" class=\"data row18 col2\" >0.856204</td> \n",
       "    </tr>    <tr> \n",
       "        <th id=\"T_e2df710e_07b7_11e9_b13a_74c63bbb3ca3level0_row19\" class=\"row_heading level0 row19\" >20</th> \n",
       "        <td id=\"T_e2df710e_07b7_11e9_b13a_74c63bbb3ca3row19_col0\" class=\"data row19 col0\" >0.879439</td> \n",
       "        <td id=\"T_e2df710e_07b7_11e9_b13a_74c63bbb3ca3row19_col1\" class=\"data row19 col1\" >0.846135</td> \n",
       "        <td id=\"T_e2df710e_07b7_11e9_b13a_74c63bbb3ca3row19_col2\" class=\"data row19 col2\" >0.838039</td> \n",
       "    </tr></tbody> \n",
       "</table> "
      ],
      "text/plain": [
       "<pandas.io.formats.style.Styler at 0x7f7a0cdf3f28>"
      ]
     },
     "execution_count": 78,
     "metadata": {},
     "output_type": "execute_result"
    }
   ],
   "source": [
    "stocks_f1_table.style.apply(highlight_max, axis=0)"
   ]
  },
  {
   "cell_type": "code",
   "execution_count": 79,
   "metadata": {},
   "outputs": [
    {
     "data": {
      "text/html": [
       "<style  type=\"text/css\" >\n",
       "    #T_e9709c3c_07b7_11e9_b13a_74c63bbb3ca3row18_col0 {\n",
       "            background-color:  yellow;\n",
       "        }    #T_e9709c3c_07b7_11e9_b13a_74c63bbb3ca3row18_col1 {\n",
       "            background-color:  yellow;\n",
       "        }    #T_e9709c3c_07b7_11e9_b13a_74c63bbb3ca3row19_col2 {\n",
       "            background-color:  yellow;\n",
       "        }</style>  \n",
       "<table id=\"T_e9709c3c_07b7_11e9_b13a_74c63bbb3ca3\" > \n",
       "<thead>    <tr> \n",
       "        <th class=\"blank level0\" ></th> \n",
       "        <th class=\"col_heading level0 col0\" >GSPC</th> \n",
       "        <th class=\"col_heading level0 col1\" >DJI</th> \n",
       "        <th class=\"col_heading level0 col2\" >NDX</th> \n",
       "    </tr></thead> \n",
       "<tbody>    <tr> \n",
       "        <th id=\"T_e9709c3c_07b7_11e9_b13a_74c63bbb3ca3level0_row0\" class=\"row_heading level0 row0\" >1</th> \n",
       "        <td id=\"T_e9709c3c_07b7_11e9_b13a_74c63bbb3ca3row0_col0\" class=\"data row0 col0\" >0.599298</td> \n",
       "        <td id=\"T_e9709c3c_07b7_11e9_b13a_74c63bbb3ca3row0_col1\" class=\"data row0 col1\" >0.560229</td> \n",
       "        <td id=\"T_e9709c3c_07b7_11e9_b13a_74c63bbb3ca3row0_col2\" class=\"data row0 col2\" >0.63261</td> \n",
       "    </tr>    <tr> \n",
       "        <th id=\"T_e9709c3c_07b7_11e9_b13a_74c63bbb3ca3level0_row1\" class=\"row_heading level0 row1\" >2</th> \n",
       "        <td id=\"T_e9709c3c_07b7_11e9_b13a_74c63bbb3ca3row1_col0\" class=\"data row1 col0\" >0.675367</td> \n",
       "        <td id=\"T_e9709c3c_07b7_11e9_b13a_74c63bbb3ca3row1_col1\" class=\"data row1 col1\" >0.649046</td> \n",
       "        <td id=\"T_e9709c3c_07b7_11e9_b13a_74c63bbb3ca3row1_col2\" class=\"data row1 col2\" >0.69422</td> \n",
       "    </tr>    <tr> \n",
       "        <th id=\"T_e9709c3c_07b7_11e9_b13a_74c63bbb3ca3level0_row2\" class=\"row_heading level0 row2\" >3</th> \n",
       "        <td id=\"T_e9709c3c_07b7_11e9_b13a_74c63bbb3ca3row2_col0\" class=\"data row2 col0\" >0.720396</td> \n",
       "        <td id=\"T_e9709c3c_07b7_11e9_b13a_74c63bbb3ca3row2_col1\" class=\"data row2 col1\" >0.69802</td> \n",
       "        <td id=\"T_e9709c3c_07b7_11e9_b13a_74c63bbb3ca3row2_col2\" class=\"data row2 col2\" >0.72734</td> \n",
       "    </tr>    <tr> \n",
       "        <th id=\"T_e9709c3c_07b7_11e9_b13a_74c63bbb3ca3level0_row3\" class=\"row_heading level0 row3\" >4</th> \n",
       "        <td id=\"T_e9709c3c_07b7_11e9_b13a_74c63bbb3ca3row3_col0\" class=\"data row3 col0\" >0.753398</td> \n",
       "        <td id=\"T_e9709c3c_07b7_11e9_b13a_74c63bbb3ca3row3_col1\" class=\"data row3 col1\" >0.737591</td> \n",
       "        <td id=\"T_e9709c3c_07b7_11e9_b13a_74c63bbb3ca3row3_col2\" class=\"data row3 col2\" >0.726561</td> \n",
       "    </tr>    <tr> \n",
       "        <th id=\"T_e9709c3c_07b7_11e9_b13a_74c63bbb3ca3level0_row4\" class=\"row_heading level0 row4\" >5</th> \n",
       "        <td id=\"T_e9709c3c_07b7_11e9_b13a_74c63bbb3ca3row4_col0\" class=\"data row4 col0\" >0.710915</td> \n",
       "        <td id=\"T_e9709c3c_07b7_11e9_b13a_74c63bbb3ca3row4_col1\" class=\"data row4 col1\" >0.759499</td> \n",
       "        <td id=\"T_e9709c3c_07b7_11e9_b13a_74c63bbb3ca3row4_col2\" class=\"data row4 col2\" >0.768754</td> \n",
       "    </tr>    <tr> \n",
       "        <th id=\"T_e9709c3c_07b7_11e9_b13a_74c63bbb3ca3level0_row5\" class=\"row_heading level0 row5\" >6</th> \n",
       "        <td id=\"T_e9709c3c_07b7_11e9_b13a_74c63bbb3ca3row5_col0\" class=\"data row5 col0\" >0.732822</td> \n",
       "        <td id=\"T_e9709c3c_07b7_11e9_b13a_74c63bbb3ca3row5_col1\" class=\"data row5 col1\" >0.759789</td> \n",
       "        <td id=\"T_e9709c3c_07b7_11e9_b13a_74c63bbb3ca3row5_col2\" class=\"data row5 col2\" >0.760293</td> \n",
       "    </tr>    <tr> \n",
       "        <th id=\"T_e9709c3c_07b7_11e9_b13a_74c63bbb3ca3level0_row6\" class=\"row_heading level0 row6\" >7</th> \n",
       "        <td id=\"T_e9709c3c_07b7_11e9_b13a_74c63bbb3ca3row6_col0\" class=\"data row6 col0\" >0.775011</td> \n",
       "        <td id=\"T_e9709c3c_07b7_11e9_b13a_74c63bbb3ca3row6_col1\" class=\"data row6 col1\" >0.80046</td> \n",
       "        <td id=\"T_e9709c3c_07b7_11e9_b13a_74c63bbb3ca3row6_col2\" class=\"data row6 col2\" >0.798649</td> \n",
       "    </tr>    <tr> \n",
       "        <th id=\"T_e9709c3c_07b7_11e9_b13a_74c63bbb3ca3level0_row7\" class=\"row_heading level0 row7\" >8</th> \n",
       "        <td id=\"T_e9709c3c_07b7_11e9_b13a_74c63bbb3ca3row7_col0\" class=\"data row7 col0\" >0.786776</td> \n",
       "        <td id=\"T_e9709c3c_07b7_11e9_b13a_74c63bbb3ca3row7_col1\" class=\"data row7 col1\" >0.803791</td> \n",
       "        <td id=\"T_e9709c3c_07b7_11e9_b13a_74c63bbb3ca3row7_col2\" class=\"data row7 col2\" >0.825746</td> \n",
       "    </tr>    <tr> \n",
       "        <th id=\"T_e9709c3c_07b7_11e9_b13a_74c63bbb3ca3level0_row8\" class=\"row_heading level0 row8\" >9</th> \n",
       "        <td id=\"T_e9709c3c_07b7_11e9_b13a_74c63bbb3ca3row8_col0\" class=\"data row8 col0\" >0.797253</td> \n",
       "        <td id=\"T_e9709c3c_07b7_11e9_b13a_74c63bbb3ca3row8_col1\" class=\"data row8 col1\" >0.795334</td> \n",
       "        <td id=\"T_e9709c3c_07b7_11e9_b13a_74c63bbb3ca3row8_col2\" class=\"data row8 col2\" >0.79488</td> \n",
       "    </tr>    <tr> \n",
       "        <th id=\"T_e9709c3c_07b7_11e9_b13a_74c63bbb3ca3level0_row9\" class=\"row_heading level0 row9\" >10</th> \n",
       "        <td id=\"T_e9709c3c_07b7_11e9_b13a_74c63bbb3ca3row9_col0\" class=\"data row9 col0\" >0.815183</td> \n",
       "        <td id=\"T_e9709c3c_07b7_11e9_b13a_74c63bbb3ca3row9_col1\" class=\"data row9 col1\" >0.805056</td> \n",
       "        <td id=\"T_e9709c3c_07b7_11e9_b13a_74c63bbb3ca3row9_col2\" class=\"data row9 col2\" >0.823747</td> \n",
       "    </tr>    <tr> \n",
       "        <th id=\"T_e9709c3c_07b7_11e9_b13a_74c63bbb3ca3level0_row10\" class=\"row_heading level0 row10\" >11</th> \n",
       "        <td id=\"T_e9709c3c_07b7_11e9_b13a_74c63bbb3ca3row10_col0\" class=\"data row10 col0\" >0.777958</td> \n",
       "        <td id=\"T_e9709c3c_07b7_11e9_b13a_74c63bbb3ca3row10_col1\" class=\"data row10 col1\" >0.806783</td> \n",
       "        <td id=\"T_e9709c3c_07b7_11e9_b13a_74c63bbb3ca3row10_col2\" class=\"data row10 col2\" >0.833556</td> \n",
       "    </tr>    <tr> \n",
       "        <th id=\"T_e9709c3c_07b7_11e9_b13a_74c63bbb3ca3level0_row11\" class=\"row_heading level0 row11\" >12</th> \n",
       "        <td id=\"T_e9709c3c_07b7_11e9_b13a_74c63bbb3ca3row11_col0\" class=\"data row11 col0\" >0.781816</td> \n",
       "        <td id=\"T_e9709c3c_07b7_11e9_b13a_74c63bbb3ca3row11_col1\" class=\"data row11 col1\" >0.798296</td> \n",
       "        <td id=\"T_e9709c3c_07b7_11e9_b13a_74c63bbb3ca3row11_col2\" class=\"data row11 col2\" >0.846306</td> \n",
       "    </tr>    <tr> \n",
       "        <th id=\"T_e9709c3c_07b7_11e9_b13a_74c63bbb3ca3level0_row12\" class=\"row_heading level0 row12\" >13</th> \n",
       "        <td id=\"T_e9709c3c_07b7_11e9_b13a_74c63bbb3ca3row12_col0\" class=\"data row12 col0\" >0.821247</td> \n",
       "        <td id=\"T_e9709c3c_07b7_11e9_b13a_74c63bbb3ca3row12_col1\" class=\"data row12 col1\" >0.824065</td> \n",
       "        <td id=\"T_e9709c3c_07b7_11e9_b13a_74c63bbb3ca3row12_col2\" class=\"data row12 col2\" >0.870095</td> \n",
       "    </tr>    <tr> \n",
       "        <th id=\"T_e9709c3c_07b7_11e9_b13a_74c63bbb3ca3level0_row13\" class=\"row_heading level0 row13\" >14</th> \n",
       "        <td id=\"T_e9709c3c_07b7_11e9_b13a_74c63bbb3ca3row13_col0\" class=\"data row13 col0\" >0.813204</td> \n",
       "        <td id=\"T_e9709c3c_07b7_11e9_b13a_74c63bbb3ca3row13_col1\" class=\"data row13 col1\" >0.817297</td> \n",
       "        <td id=\"T_e9709c3c_07b7_11e9_b13a_74c63bbb3ca3row13_col2\" class=\"data row13 col2\" >0.850797</td> \n",
       "    </tr>    <tr> \n",
       "        <th id=\"T_e9709c3c_07b7_11e9_b13a_74c63bbb3ca3level0_row14\" class=\"row_heading level0 row14\" >15</th> \n",
       "        <td id=\"T_e9709c3c_07b7_11e9_b13a_74c63bbb3ca3row14_col0\" class=\"data row14 col0\" >0.82933</td> \n",
       "        <td id=\"T_e9709c3c_07b7_11e9_b13a_74c63bbb3ca3row14_col1\" class=\"data row14 col1\" >0.838219</td> \n",
       "        <td id=\"T_e9709c3c_07b7_11e9_b13a_74c63bbb3ca3row14_col2\" class=\"data row14 col2\" >0.840547</td> \n",
       "    </tr>    <tr> \n",
       "        <th id=\"T_e9709c3c_07b7_11e9_b13a_74c63bbb3ca3level0_row15\" class=\"row_heading level0 row15\" >16</th> \n",
       "        <td id=\"T_e9709c3c_07b7_11e9_b13a_74c63bbb3ca3row15_col0\" class=\"data row15 col0\" >0.837822</td> \n",
       "        <td id=\"T_e9709c3c_07b7_11e9_b13a_74c63bbb3ca3row15_col1\" class=\"data row15 col1\" >0.824046</td> \n",
       "        <td id=\"T_e9709c3c_07b7_11e9_b13a_74c63bbb3ca3row15_col2\" class=\"data row15 col2\" >0.865351</td> \n",
       "    </tr>    <tr> \n",
       "        <th id=\"T_e9709c3c_07b7_11e9_b13a_74c63bbb3ca3level0_row16\" class=\"row_heading level0 row16\" >17</th> \n",
       "        <td id=\"T_e9709c3c_07b7_11e9_b13a_74c63bbb3ca3row16_col0\" class=\"data row16 col0\" >0.832718</td> \n",
       "        <td id=\"T_e9709c3c_07b7_11e9_b13a_74c63bbb3ca3row16_col1\" class=\"data row16 col1\" >0.84735</td> \n",
       "        <td id=\"T_e9709c3c_07b7_11e9_b13a_74c63bbb3ca3row16_col2\" class=\"data row16 col2\" >0.867753</td> \n",
       "    </tr>    <tr> \n",
       "        <th id=\"T_e9709c3c_07b7_11e9_b13a_74c63bbb3ca3level0_row17\" class=\"row_heading level0 row17\" >18</th> \n",
       "        <td id=\"T_e9709c3c_07b7_11e9_b13a_74c63bbb3ca3row17_col0\" class=\"data row17 col0\" >0.836815</td> \n",
       "        <td id=\"T_e9709c3c_07b7_11e9_b13a_74c63bbb3ca3row17_col1\" class=\"data row17 col1\" >0.864635</td> \n",
       "        <td id=\"T_e9709c3c_07b7_11e9_b13a_74c63bbb3ca3row17_col2\" class=\"data row17 col2\" >0.832442</td> \n",
       "    </tr>    <tr> \n",
       "        <th id=\"T_e9709c3c_07b7_11e9_b13a_74c63bbb3ca3level0_row18\" class=\"row_heading level0 row18\" >19</th> \n",
       "        <td id=\"T_e9709c3c_07b7_11e9_b13a_74c63bbb3ca3row18_col0\" class=\"data row18 col0\" >0.84955</td> \n",
       "        <td id=\"T_e9709c3c_07b7_11e9_b13a_74c63bbb3ca3row18_col1\" class=\"data row18 col1\" >0.873254</td> \n",
       "        <td id=\"T_e9709c3c_07b7_11e9_b13a_74c63bbb3ca3row18_col2\" class=\"data row18 col2\" >0.864621</td> \n",
       "    </tr>    <tr> \n",
       "        <th id=\"T_e9709c3c_07b7_11e9_b13a_74c63bbb3ca3level0_row19\" class=\"row_heading level0 row19\" >20</th> \n",
       "        <td id=\"T_e9709c3c_07b7_11e9_b13a_74c63bbb3ca3row19_col0\" class=\"data row19 col0\" >0.831099</td> \n",
       "        <td id=\"T_e9709c3c_07b7_11e9_b13a_74c63bbb3ca3row19_col1\" class=\"data row19 col1\" >0.860407</td> \n",
       "        <td id=\"T_e9709c3c_07b7_11e9_b13a_74c63bbb3ca3row19_col2\" class=\"data row19 col2\" >0.897082</td> \n",
       "    </tr></tbody> \n",
       "</table> "
      ],
      "text/plain": [
       "<pandas.io.formats.style.Styler at 0x7f7a0cdf7780>"
      ]
     },
     "execution_count": 79,
     "metadata": {},
     "output_type": "execute_result"
    }
   ],
   "source": [
    "indices_f1_table.style.apply(highlight_max, axis=0)"
   ]
  },
  {
   "cell_type": "code",
   "execution_count": null,
   "metadata": {},
   "outputs": [],
   "source": []
  }
 ],
 "metadata": {
  "kernelspec": {
   "display_name": "Python 3",
   "language": "python",
   "name": "python3"
  },
  "language_info": {
   "codemirror_mode": {
    "name": "ipython",
    "version": 3
   },
   "file_extension": ".py",
   "mimetype": "text/x-python",
   "name": "python",
   "nbconvert_exporter": "python",
   "pygments_lexer": "ipython3",
   "version": "3.5.2"
  }
 },
 "nbformat": 4,
 "nbformat_minor": 2
}
