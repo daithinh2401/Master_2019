{
 "cells": [
  {
   "cell_type": "markdown",
   "metadata": {},
   "source": [
    "## Importing Libraries"
   ]
  },
  {
   "cell_type": "code",
   "execution_count": 1,
   "metadata": {},
   "outputs": [],
   "source": [
    "# Predicting stock and stock price index movement using ANN Prediction Model and technical indicators (Cont. data)"
   ]
  },
  {
   "cell_type": "code",
   "execution_count": 2,
   "metadata": {},
   "outputs": [],
   "source": [
    "import pandas as pd\n",
    "import pandas_datareader.data as web\n",
    "import datetime\n",
    "import numpy as np\n",
    "from talib.abstract import *\n",
    "from sklearn.model_selection import train_test_split\n",
    "from sklearn.neural_network import MLPClassifier\n",
    "from sklearn.metrics import f1_score\n",
    "import matplotlib.pyplot as plt\n"
   ]
  },
  {
   "cell_type": "markdown",
   "metadata": {},
   "source": [
    "### Research Data used in this experiment consists of 3 stock price indices (S&P 500, Dow Jones & NASDAQ-100) and 3 stocks (Apple, Amazon & Google)"
   ]
  },
  {
   "cell_type": "code",
   "execution_count": 3,
   "metadata": {},
   "outputs": [],
   "source": [
    "stock = ['AAPL','AMZN','GOOG']\n",
    "index = ['GSPC','NDX','DJI']"
   ]
  },
  {
   "cell_type": "markdown",
   "metadata": {},
   "source": [
    "## Loading of datasets"
   ]
  },
  {
   "cell_type": "code",
   "execution_count": 4,
   "metadata": {},
   "outputs": [],
   "source": [
    "stocks = {}\n",
    "indices = {}\n",
    "for i in stock:\n",
    "    stocks[i] = pd.read_csv('Datasets/Stocks/'+i+'.csv')\n",
    "for i in index:\n",
    "    indices[i]  = pd.read_csv('Datasets/Stock Indices/'+i+'.csv')"
   ]
  },
  {
   "cell_type": "code",
   "execution_count": 5,
   "metadata": {},
   "outputs": [
    {
     "data": {
      "text/html": [
       "<div>\n",
       "<style scoped>\n",
       "    .dataframe tbody tr th:only-of-type {\n",
       "        vertical-align: middle;\n",
       "    }\n",
       "\n",
       "    .dataframe tbody tr th {\n",
       "        vertical-align: top;\n",
       "    }\n",
       "\n",
       "    .dataframe thead th {\n",
       "        text-align: right;\n",
       "    }\n",
       "</style>\n",
       "<table border=\"1\" class=\"dataframe\">\n",
       "  <thead>\n",
       "    <tr style=\"text-align: right;\">\n",
       "      <th></th>\n",
       "      <th>Date</th>\n",
       "      <th>Open</th>\n",
       "      <th>High</th>\n",
       "      <th>Low</th>\n",
       "      <th>Close</th>\n",
       "      <th>Adj Close</th>\n",
       "      <th>Volume</th>\n",
       "    </tr>\n",
       "  </thead>\n",
       "  <tbody>\n",
       "    <tr>\n",
       "      <th>0</th>\n",
       "      <td>2007-01-03</td>\n",
       "      <td>12.327143</td>\n",
       "      <td>12.368571</td>\n",
       "      <td>11.700000</td>\n",
       "      <td>11.971429</td>\n",
       "      <td>10.609749</td>\n",
       "      <td>309579900</td>\n",
       "    </tr>\n",
       "    <tr>\n",
       "      <th>1</th>\n",
       "      <td>2007-01-04</td>\n",
       "      <td>12.007143</td>\n",
       "      <td>12.278571</td>\n",
       "      <td>11.974286</td>\n",
       "      <td>12.237143</td>\n",
       "      <td>10.845238</td>\n",
       "      <td>211815100</td>\n",
       "    </tr>\n",
       "    <tr>\n",
       "      <th>2</th>\n",
       "      <td>2007-01-05</td>\n",
       "      <td>12.252857</td>\n",
       "      <td>12.314285</td>\n",
       "      <td>12.057143</td>\n",
       "      <td>12.150000</td>\n",
       "      <td>10.768006</td>\n",
       "      <td>208685400</td>\n",
       "    </tr>\n",
       "    <tr>\n",
       "      <th>3</th>\n",
       "      <td>2007-01-08</td>\n",
       "      <td>12.280000</td>\n",
       "      <td>12.361428</td>\n",
       "      <td>12.182858</td>\n",
       "      <td>12.210000</td>\n",
       "      <td>10.821184</td>\n",
       "      <td>199276700</td>\n",
       "    </tr>\n",
       "    <tr>\n",
       "      <th>4</th>\n",
       "      <td>2007-01-09</td>\n",
       "      <td>12.350000</td>\n",
       "      <td>13.282857</td>\n",
       "      <td>12.164286</td>\n",
       "      <td>13.224286</td>\n",
       "      <td>11.720100</td>\n",
       "      <td>837324600</td>\n",
       "    </tr>\n",
       "  </tbody>\n",
       "</table>\n",
       "</div>"
      ],
      "text/plain": [
       "         Date       Open       High        Low      Close  Adj Close  \\\n",
       "0  2007-01-03  12.327143  12.368571  11.700000  11.971429  10.609749   \n",
       "1  2007-01-04  12.007143  12.278571  11.974286  12.237143  10.845238   \n",
       "2  2007-01-05  12.252857  12.314285  12.057143  12.150000  10.768006   \n",
       "3  2007-01-08  12.280000  12.361428  12.182858  12.210000  10.821184   \n",
       "4  2007-01-09  12.350000  13.282857  12.164286  13.224286  11.720100   \n",
       "\n",
       "      Volume  \n",
       "0  309579900  \n",
       "1  211815100  \n",
       "2  208685400  \n",
       "3  199276700  \n",
       "4  837324600  "
      ]
     },
     "execution_count": 5,
     "metadata": {},
     "output_type": "execute_result"
    }
   ],
   "source": [
    "stocks['AAPL'].head()"
   ]
  },
  {
   "cell_type": "code",
   "execution_count": 6,
   "metadata": {},
   "outputs": [
    {
     "data": {
      "text/html": [
       "<div>\n",
       "<style scoped>\n",
       "    .dataframe tbody tr th:only-of-type {\n",
       "        vertical-align: middle;\n",
       "    }\n",
       "\n",
       "    .dataframe tbody tr th {\n",
       "        vertical-align: top;\n",
       "    }\n",
       "\n",
       "    .dataframe thead th {\n",
       "        text-align: right;\n",
       "    }\n",
       "</style>\n",
       "<table border=\"1\" class=\"dataframe\">\n",
       "  <thead>\n",
       "    <tr style=\"text-align: right;\">\n",
       "      <th></th>\n",
       "      <th>Date</th>\n",
       "      <th>Open</th>\n",
       "      <th>High</th>\n",
       "      <th>Low</th>\n",
       "      <th>Close</th>\n",
       "      <th>Adj Close</th>\n",
       "      <th>Volume</th>\n",
       "    </tr>\n",
       "  </thead>\n",
       "  <tbody>\n",
       "    <tr>\n",
       "      <th>0</th>\n",
       "      <td>2007-01-03</td>\n",
       "      <td>38.680000</td>\n",
       "      <td>39.060001</td>\n",
       "      <td>38.049999</td>\n",
       "      <td>38.700001</td>\n",
       "      <td>38.700001</td>\n",
       "      <td>12405100</td>\n",
       "    </tr>\n",
       "    <tr>\n",
       "      <th>1</th>\n",
       "      <td>2007-01-04</td>\n",
       "      <td>38.590000</td>\n",
       "      <td>39.139999</td>\n",
       "      <td>38.259998</td>\n",
       "      <td>38.900002</td>\n",
       "      <td>38.900002</td>\n",
       "      <td>6318400</td>\n",
       "    </tr>\n",
       "    <tr>\n",
       "      <th>2</th>\n",
       "      <td>2007-01-05</td>\n",
       "      <td>38.720001</td>\n",
       "      <td>38.790001</td>\n",
       "      <td>37.599998</td>\n",
       "      <td>38.369999</td>\n",
       "      <td>38.369999</td>\n",
       "      <td>6619700</td>\n",
       "    </tr>\n",
       "    <tr>\n",
       "      <th>3</th>\n",
       "      <td>2007-01-08</td>\n",
       "      <td>38.220001</td>\n",
       "      <td>38.310001</td>\n",
       "      <td>37.169998</td>\n",
       "      <td>37.500000</td>\n",
       "      <td>37.500000</td>\n",
       "      <td>6783000</td>\n",
       "    </tr>\n",
       "    <tr>\n",
       "      <th>4</th>\n",
       "      <td>2007-01-09</td>\n",
       "      <td>37.599998</td>\n",
       "      <td>38.060001</td>\n",
       "      <td>37.340000</td>\n",
       "      <td>37.779999</td>\n",
       "      <td>37.779999</td>\n",
       "      <td>5703000</td>\n",
       "    </tr>\n",
       "  </tbody>\n",
       "</table>\n",
       "</div>"
      ],
      "text/plain": [
       "         Date       Open       High        Low      Close  Adj Close    Volume\n",
       "0  2007-01-03  38.680000  39.060001  38.049999  38.700001  38.700001  12405100\n",
       "1  2007-01-04  38.590000  39.139999  38.259998  38.900002  38.900002   6318400\n",
       "2  2007-01-05  38.720001  38.790001  37.599998  38.369999  38.369999   6619700\n",
       "3  2007-01-08  38.220001  38.310001  37.169998  37.500000  37.500000   6783000\n",
       "4  2007-01-09  37.599998  38.060001  37.340000  37.779999  37.779999   5703000"
      ]
     },
     "execution_count": 6,
     "metadata": {},
     "output_type": "execute_result"
    }
   ],
   "source": [
    "stocks['AMZN'].head()"
   ]
  },
  {
   "cell_type": "code",
   "execution_count": 7,
   "metadata": {},
   "outputs": [
    {
     "data": {
      "text/html": [
       "<div>\n",
       "<style scoped>\n",
       "    .dataframe tbody tr th:only-of-type {\n",
       "        vertical-align: middle;\n",
       "    }\n",
       "\n",
       "    .dataframe tbody tr th {\n",
       "        vertical-align: top;\n",
       "    }\n",
       "\n",
       "    .dataframe thead th {\n",
       "        text-align: right;\n",
       "    }\n",
       "</style>\n",
       "<table border=\"1\" class=\"dataframe\">\n",
       "  <thead>\n",
       "    <tr style=\"text-align: right;\">\n",
       "      <th></th>\n",
       "      <th>Date</th>\n",
       "      <th>Open</th>\n",
       "      <th>High</th>\n",
       "      <th>Low</th>\n",
       "      <th>Close</th>\n",
       "      <th>Adj Close</th>\n",
       "      <th>Volume</th>\n",
       "    </tr>\n",
       "  </thead>\n",
       "  <tbody>\n",
       "    <tr>\n",
       "      <th>0</th>\n",
       "      <td>2007-01-03</td>\n",
       "      <td>231.494354</td>\n",
       "      <td>236.789917</td>\n",
       "      <td>229.065155</td>\n",
       "      <td>232.284210</td>\n",
       "      <td>232.284210</td>\n",
       "      <td>15513200</td>\n",
       "    </tr>\n",
       "    <tr>\n",
       "      <th>1</th>\n",
       "      <td>2007-01-04</td>\n",
       "      <td>232.984665</td>\n",
       "      <td>240.411362</td>\n",
       "      <td>232.661758</td>\n",
       "      <td>240.068588</td>\n",
       "      <td>240.068588</td>\n",
       "      <td>15877700</td>\n",
       "    </tr>\n",
       "    <tr>\n",
       "      <th>2</th>\n",
       "      <td>2007-01-05</td>\n",
       "      <td>239.691040</td>\n",
       "      <td>242.174881</td>\n",
       "      <td>237.510223</td>\n",
       "      <td>242.020889</td>\n",
       "      <td>242.020889</td>\n",
       "      <td>13833500</td>\n",
       "    </tr>\n",
       "    <tr>\n",
       "      <th>3</th>\n",
       "      <td>2007-01-08</td>\n",
       "      <td>242.269272</td>\n",
       "      <td>243.352234</td>\n",
       "      <td>239.542007</td>\n",
       "      <td>240.227554</td>\n",
       "      <td>240.227554</td>\n",
       "      <td>9570600</td>\n",
       "    </tr>\n",
       "    <tr>\n",
       "      <th>4</th>\n",
       "      <td>2007-01-09</td>\n",
       "      <td>241.156509</td>\n",
       "      <td>242.547470</td>\n",
       "      <td>239.045242</td>\n",
       "      <td>241.181351</td>\n",
       "      <td>241.181351</td>\n",
       "      <td>10832700</td>\n",
       "    </tr>\n",
       "  </tbody>\n",
       "</table>\n",
       "</div>"
      ],
      "text/plain": [
       "         Date        Open        High         Low       Close   Adj Close  \\\n",
       "0  2007-01-03  231.494354  236.789917  229.065155  232.284210  232.284210   \n",
       "1  2007-01-04  232.984665  240.411362  232.661758  240.068588  240.068588   \n",
       "2  2007-01-05  239.691040  242.174881  237.510223  242.020889  242.020889   \n",
       "3  2007-01-08  242.269272  243.352234  239.542007  240.227554  240.227554   \n",
       "4  2007-01-09  241.156509  242.547470  239.045242  241.181351  241.181351   \n",
       "\n",
       "     Volume  \n",
       "0  15513200  \n",
       "1  15877700  \n",
       "2  13833500  \n",
       "3   9570600  \n",
       "4  10832700  "
      ]
     },
     "execution_count": 7,
     "metadata": {},
     "output_type": "execute_result"
    }
   ],
   "source": [
    "stocks['GOOG'].head()"
   ]
  },
  {
   "cell_type": "code",
   "execution_count": 8,
   "metadata": {},
   "outputs": [
    {
     "data": {
      "text/html": [
       "<div>\n",
       "<style scoped>\n",
       "    .dataframe tbody tr th:only-of-type {\n",
       "        vertical-align: middle;\n",
       "    }\n",
       "\n",
       "    .dataframe tbody tr th {\n",
       "        vertical-align: top;\n",
       "    }\n",
       "\n",
       "    .dataframe thead th {\n",
       "        text-align: right;\n",
       "    }\n",
       "</style>\n",
       "<table border=\"1\" class=\"dataframe\">\n",
       "  <thead>\n",
       "    <tr style=\"text-align: right;\">\n",
       "      <th></th>\n",
       "      <th>Date</th>\n",
       "      <th>Open</th>\n",
       "      <th>High</th>\n",
       "      <th>Low</th>\n",
       "      <th>Close</th>\n",
       "      <th>Adj Close</th>\n",
       "      <th>Volume</th>\n",
       "    </tr>\n",
       "  </thead>\n",
       "  <tbody>\n",
       "    <tr>\n",
       "      <th>0</th>\n",
       "      <td>2007-01-03</td>\n",
       "      <td>1769.219971</td>\n",
       "      <td>1793.050049</td>\n",
       "      <td>1731.709961</td>\n",
       "      <td>1759.369995</td>\n",
       "      <td>1759.369995</td>\n",
       "      <td>2435280000</td>\n",
       "    </tr>\n",
       "    <tr>\n",
       "      <th>1</th>\n",
       "      <td>2007-01-04</td>\n",
       "      <td>1763.150024</td>\n",
       "      <td>1799.069946</td>\n",
       "      <td>1757.000000</td>\n",
       "      <td>1792.910034</td>\n",
       "      <td>1792.910034</td>\n",
       "      <td>2104210000</td>\n",
       "    </tr>\n",
       "    <tr>\n",
       "      <th>2</th>\n",
       "      <td>2007-01-05</td>\n",
       "      <td>1787.790039</td>\n",
       "      <td>1787.790039</td>\n",
       "      <td>1770.290039</td>\n",
       "      <td>1785.300049</td>\n",
       "      <td>1785.300049</td>\n",
       "      <td>2060360000</td>\n",
       "    </tr>\n",
       "    <tr>\n",
       "      <th>3</th>\n",
       "      <td>2007-01-08</td>\n",
       "      <td>1786.390015</td>\n",
       "      <td>1795.449951</td>\n",
       "      <td>1776.989990</td>\n",
       "      <td>1787.140015</td>\n",
       "      <td>1787.140015</td>\n",
       "      <td>1905620000</td>\n",
       "    </tr>\n",
       "    <tr>\n",
       "      <th>4</th>\n",
       "      <td>2007-01-09</td>\n",
       "      <td>1791.750000</td>\n",
       "      <td>1802.439941</td>\n",
       "      <td>1776.729980</td>\n",
       "      <td>1795.630005</td>\n",
       "      <td>1795.630005</td>\n",
       "      <td>2144160000</td>\n",
       "    </tr>\n",
       "  </tbody>\n",
       "</table>\n",
       "</div>"
      ],
      "text/plain": [
       "         Date         Open         High          Low        Close  \\\n",
       "0  2007-01-03  1769.219971  1793.050049  1731.709961  1759.369995   \n",
       "1  2007-01-04  1763.150024  1799.069946  1757.000000  1792.910034   \n",
       "2  2007-01-05  1787.790039  1787.790039  1770.290039  1785.300049   \n",
       "3  2007-01-08  1786.390015  1795.449951  1776.989990  1787.140015   \n",
       "4  2007-01-09  1791.750000  1802.439941  1776.729980  1795.630005   \n",
       "\n",
       "     Adj Close      Volume  \n",
       "0  1759.369995  2435280000  \n",
       "1  1792.910034  2104210000  \n",
       "2  1785.300049  2060360000  \n",
       "3  1787.140015  1905620000  \n",
       "4  1795.630005  2144160000  "
      ]
     },
     "execution_count": 8,
     "metadata": {},
     "output_type": "execute_result"
    }
   ],
   "source": [
    "indices['NDX'].head()"
   ]
  },
  {
   "cell_type": "code",
   "execution_count": 9,
   "metadata": {},
   "outputs": [
    {
     "data": {
      "text/html": [
       "<div>\n",
       "<style scoped>\n",
       "    .dataframe tbody tr th:only-of-type {\n",
       "        vertical-align: middle;\n",
       "    }\n",
       "\n",
       "    .dataframe tbody tr th {\n",
       "        vertical-align: top;\n",
       "    }\n",
       "\n",
       "    .dataframe thead th {\n",
       "        text-align: right;\n",
       "    }\n",
       "</style>\n",
       "<table border=\"1\" class=\"dataframe\">\n",
       "  <thead>\n",
       "    <tr style=\"text-align: right;\">\n",
       "      <th></th>\n",
       "      <th>Date</th>\n",
       "      <th>Open</th>\n",
       "      <th>High</th>\n",
       "      <th>Low</th>\n",
       "      <th>Close</th>\n",
       "      <th>Adj Close</th>\n",
       "      <th>Volume</th>\n",
       "    </tr>\n",
       "  </thead>\n",
       "  <tbody>\n",
       "    <tr>\n",
       "      <th>0</th>\n",
       "      <td>2007-01-03</td>\n",
       "      <td>1418.030029</td>\n",
       "      <td>1429.420044</td>\n",
       "      <td>1407.859985</td>\n",
       "      <td>1416.599976</td>\n",
       "      <td>1416.599976</td>\n",
       "      <td>3429160000</td>\n",
       "    </tr>\n",
       "    <tr>\n",
       "      <th>1</th>\n",
       "      <td>2007-01-04</td>\n",
       "      <td>1416.599976</td>\n",
       "      <td>1421.839966</td>\n",
       "      <td>1408.430054</td>\n",
       "      <td>1418.339966</td>\n",
       "      <td>1418.339966</td>\n",
       "      <td>3004460000</td>\n",
       "    </tr>\n",
       "    <tr>\n",
       "      <th>2</th>\n",
       "      <td>2007-01-05</td>\n",
       "      <td>1418.339966</td>\n",
       "      <td>1418.339966</td>\n",
       "      <td>1405.750000</td>\n",
       "      <td>1409.709961</td>\n",
       "      <td>1409.709961</td>\n",
       "      <td>2919400000</td>\n",
       "    </tr>\n",
       "    <tr>\n",
       "      <th>3</th>\n",
       "      <td>2007-01-08</td>\n",
       "      <td>1409.260010</td>\n",
       "      <td>1414.979980</td>\n",
       "      <td>1403.969971</td>\n",
       "      <td>1412.839966</td>\n",
       "      <td>1412.839966</td>\n",
       "      <td>2763340000</td>\n",
       "    </tr>\n",
       "    <tr>\n",
       "      <th>4</th>\n",
       "      <td>2007-01-09</td>\n",
       "      <td>1412.839966</td>\n",
       "      <td>1415.609985</td>\n",
       "      <td>1405.420044</td>\n",
       "      <td>1412.109985</td>\n",
       "      <td>1412.109985</td>\n",
       "      <td>3038380000</td>\n",
       "    </tr>\n",
       "  </tbody>\n",
       "</table>\n",
       "</div>"
      ],
      "text/plain": [
       "         Date         Open         High          Low        Close  \\\n",
       "0  2007-01-03  1418.030029  1429.420044  1407.859985  1416.599976   \n",
       "1  2007-01-04  1416.599976  1421.839966  1408.430054  1418.339966   \n",
       "2  2007-01-05  1418.339966  1418.339966  1405.750000  1409.709961   \n",
       "3  2007-01-08  1409.260010  1414.979980  1403.969971  1412.839966   \n",
       "4  2007-01-09  1412.839966  1415.609985  1405.420044  1412.109985   \n",
       "\n",
       "     Adj Close      Volume  \n",
       "0  1416.599976  3429160000  \n",
       "1  1418.339966  3004460000  \n",
       "2  1409.709961  2919400000  \n",
       "3  1412.839966  2763340000  \n",
       "4  1412.109985  3038380000  "
      ]
     },
     "execution_count": 9,
     "metadata": {},
     "output_type": "execute_result"
    }
   ],
   "source": [
    "indices['GSPC'].head()"
   ]
  },
  {
   "cell_type": "code",
   "execution_count": 10,
   "metadata": {},
   "outputs": [
    {
     "data": {
      "text/html": [
       "<div>\n",
       "<style scoped>\n",
       "    .dataframe tbody tr th:only-of-type {\n",
       "        vertical-align: middle;\n",
       "    }\n",
       "\n",
       "    .dataframe tbody tr th {\n",
       "        vertical-align: top;\n",
       "    }\n",
       "\n",
       "    .dataframe thead th {\n",
       "        text-align: right;\n",
       "    }\n",
       "</style>\n",
       "<table border=\"1\" class=\"dataframe\">\n",
       "  <thead>\n",
       "    <tr style=\"text-align: right;\">\n",
       "      <th></th>\n",
       "      <th>Date</th>\n",
       "      <th>Open</th>\n",
       "      <th>High</th>\n",
       "      <th>Low</th>\n",
       "      <th>Close</th>\n",
       "      <th>Adj Close</th>\n",
       "      <th>Volume</th>\n",
       "    </tr>\n",
       "  </thead>\n",
       "  <tbody>\n",
       "    <tr>\n",
       "      <th>0</th>\n",
       "      <td>2007-01-03</td>\n",
       "      <td>12459.540039</td>\n",
       "      <td>12580.349609</td>\n",
       "      <td>12404.820313</td>\n",
       "      <td>12474.519531</td>\n",
       "      <td>12474.519531</td>\n",
       "      <td>327200000</td>\n",
       "    </tr>\n",
       "    <tr>\n",
       "      <th>1</th>\n",
       "      <td>2007-01-04</td>\n",
       "      <td>12473.160156</td>\n",
       "      <td>12510.410156</td>\n",
       "      <td>12403.860352</td>\n",
       "      <td>12480.690430</td>\n",
       "      <td>12480.690430</td>\n",
       "      <td>259060000</td>\n",
       "    </tr>\n",
       "    <tr>\n",
       "      <th>2</th>\n",
       "      <td>2007-01-05</td>\n",
       "      <td>12480.049805</td>\n",
       "      <td>12480.129883</td>\n",
       "      <td>12365.410156</td>\n",
       "      <td>12398.009766</td>\n",
       "      <td>12398.009766</td>\n",
       "      <td>235220000</td>\n",
       "    </tr>\n",
       "    <tr>\n",
       "      <th>3</th>\n",
       "      <td>2007-01-08</td>\n",
       "      <td>12392.009766</td>\n",
       "      <td>12445.919922</td>\n",
       "      <td>12337.370117</td>\n",
       "      <td>12423.490234</td>\n",
       "      <td>12423.490234</td>\n",
       "      <td>223500000</td>\n",
       "    </tr>\n",
       "    <tr>\n",
       "      <th>4</th>\n",
       "      <td>2007-01-09</td>\n",
       "      <td>12424.769531</td>\n",
       "      <td>12466.429688</td>\n",
       "      <td>12369.169922</td>\n",
       "      <td>12416.599609</td>\n",
       "      <td>12416.599609</td>\n",
       "      <td>225190000</td>\n",
       "    </tr>\n",
       "  </tbody>\n",
       "</table>\n",
       "</div>"
      ],
      "text/plain": [
       "         Date          Open          High           Low         Close  \\\n",
       "0  2007-01-03  12459.540039  12580.349609  12404.820313  12474.519531   \n",
       "1  2007-01-04  12473.160156  12510.410156  12403.860352  12480.690430   \n",
       "2  2007-01-05  12480.049805  12480.129883  12365.410156  12398.009766   \n",
       "3  2007-01-08  12392.009766  12445.919922  12337.370117  12423.490234   \n",
       "4  2007-01-09  12424.769531  12466.429688  12369.169922  12416.599609   \n",
       "\n",
       "      Adj Close     Volume  \n",
       "0  12474.519531  327200000  \n",
       "1  12480.690430  259060000  \n",
       "2  12398.009766  235220000  \n",
       "3  12423.490234  223500000  \n",
       "4  12416.599609  225190000  "
      ]
     },
     "execution_count": 10,
     "metadata": {},
     "output_type": "execute_result"
    }
   ],
   "source": [
    "indices['DJI'].head()"
   ]
  },
  {
   "cell_type": "code",
   "execution_count": 11,
   "metadata": {},
   "outputs": [
    {
     "data": {
      "text/plain": [
       "2769"
      ]
     },
     "execution_count": 11,
     "metadata": {},
     "output_type": "execute_result"
    }
   ],
   "source": [
    "len(stocks['AMZN'])"
   ]
  },
  {
   "cell_type": "code",
   "execution_count": 12,
   "metadata": {},
   "outputs": [
    {
     "data": {
      "text/plain": [
       "2769"
      ]
     },
     "execution_count": 12,
     "metadata": {},
     "output_type": "execute_result"
    }
   ],
   "source": [
    "len(stocks['GOOG'])"
   ]
  },
  {
   "cell_type": "code",
   "execution_count": 13,
   "metadata": {},
   "outputs": [
    {
     "data": {
      "text/plain": [
       "2769"
      ]
     },
     "execution_count": 13,
     "metadata": {},
     "output_type": "execute_result"
    }
   ],
   "source": [
    "len(stocks['AAPL'])"
   ]
  },
  {
   "cell_type": "code",
   "execution_count": 14,
   "metadata": {},
   "outputs": [
    {
     "data": {
      "text/plain": [
       "2769"
      ]
     },
     "execution_count": 14,
     "metadata": {},
     "output_type": "execute_result"
    }
   ],
   "source": [
    "len(indices['GSPC'])"
   ]
  },
  {
   "cell_type": "code",
   "execution_count": 15,
   "metadata": {},
   "outputs": [
    {
     "data": {
      "text/plain": [
       "2769"
      ]
     },
     "execution_count": 15,
     "metadata": {},
     "output_type": "execute_result"
    }
   ],
   "source": [
    "len(indices['NDX'])"
   ]
  },
  {
   "cell_type": "code",
   "execution_count": 16,
   "metadata": {},
   "outputs": [
    {
     "data": {
      "text/plain": [
       "2769"
      ]
     },
     "execution_count": 16,
     "metadata": {},
     "output_type": "execute_result"
    }
   ],
   "source": [
    "len(indices['DJI'])"
   ]
  },
  {
   "cell_type": "markdown",
   "metadata": {},
   "source": [
    "## Data Refining\n"
   ]
  },
  {
   "cell_type": "code",
   "execution_count": 17,
   "metadata": {},
   "outputs": [],
   "source": [
    "for i,j in enumerate(stocks):\n",
    "    stocks[j].columns = [s.lower() for s in stocks[j].columns]\n",
    "    stocks[j].volume = stocks[j].volume.apply(lambda x: float(x))\n",
    "for i,j in enumerate(indices):\n",
    "    indices[j].columns = [s.lower() for s in indices[j].columns]\n",
    "    indices[j].volume = indices[j].volume.apply(lambda x: float(x))"
   ]
  },
  {
   "cell_type": "markdown",
   "metadata": {},
   "source": [
    "## Calculation of Technical Indicators "
   ]
  },
  {
   "cell_type": "code",
   "execution_count": 18,
   "metadata": {},
   "outputs": [],
   "source": [
    "def get_stocks_indicators(stocks, period):\n",
    "    stocks_indicators = {}\n",
    "    for i in stocks:\n",
    "        features = pd.DataFrame(SMA(stocks[i], timeperiod=10))\n",
    "        features.columns = ['sma_10']\n",
    "        features['mom_10'] = pd.DataFrame(MOM(stocks[i],10))\n",
    "        features['wma_10'] = pd.DataFrame(WMA(stocks[i],10))\n",
    "        features = pd.concat([features,STOCHF(stocks[i], \n",
    "                                          fastk_period=14, \n",
    "                                          fastd_period=3)],\n",
    "                             axis=1)\n",
    "        features['macd'] = pd.DataFrame(MACD(stocks[i], fastperiod=12, slowperiod=26)['macd'])\n",
    "        features['rsi'] = pd.DataFrame(RSI(stocks[i], timeperiod=14))\n",
    "        features['willr'] = pd.DataFrame(WILLR(stocks[i], timeperiod=14))\n",
    "        features['cci'] = pd.DataFrame(CCI(stocks[i], timeperiod=14))\n",
    "        features['adosc'] = pd.DataFrame(ADOSC(stocks[i], fastperiod=3, slowperiod=10))\n",
    "        features['pct_change'] = ROC(stocks[i], timeperiod=period)\n",
    "        features['pct_change'] = features['pct_change'].shift(-period)\n",
    "        features['pct_change'] = features['pct_change'].apply(lambda x: '1' if x > 0 else '0' if x <= 0 else np.nan)\n",
    "        features = features.dropna()\n",
    "        #features = features.iloc[np.where(features.index=='1998-5-5')[0][0]:np.where(features.index=='2015-5-5')[0][0]]\n",
    "        stocks_indicators[i] = features\n",
    "    return stocks_indicators\n",
    "\n",
    "def get_indices_indicators(indices, period):\n",
    "    indices_indicators = {}\n",
    "    for i in indices:\n",
    "        features = pd.DataFrame(SMA(indices[i], timeperiod=10))\n",
    "        features.columns = ['sma_10']\n",
    "        features['mom_10'] = pd.DataFrame(MOM(indices[i],10))\n",
    "        features['wma_10'] = pd.DataFrame(WMA(indices[i],10))\n",
    "        features = pd.concat([features,STOCHF(indices[i], \n",
    "                                          fastk_period=14, \n",
    "                                          fastd_period=3)],\n",
    "                             axis=1)\n",
    "        features['macd'] = pd.DataFrame(MACD(indices[i], fastperiod=12, slowperiod=26)['macd'])\n",
    "        features['rsi'] = pd.DataFrame(RSI(indices[i], timeperiod=14))\n",
    "        features['willr'] = pd.DataFrame(WILLR(indices[i], timeperiod=14))\n",
    "        features['cci'] = pd.DataFrame(CCI(indices[i], timeperiod=14))\n",
    "        features['adosc'] = pd.DataFrame(ADOSC(indices[i], fastperiod=3, slowperiod=10))\n",
    "        features['pct_change'] = ROC(indices[i], timeperiod=period)\n",
    "        features['pct_change'] = features['pct_change'].shift(-period)\n",
    "        features['pct_change'] = features['pct_change'].apply(lambda x: '1' if x > 0 else '0' if x <= 0 else np.nan)\n",
    "        features = features.dropna()\n",
    "        #features = features.iloc[np.where(features.index=='1998-5-5')[0][0]:np.where(features.index=='2015-5-5')[0][0]]\n",
    "        indices_indicators[i] = features\n",
    "    return indices_indicators"
   ]
  },
  {
   "cell_type": "code",
   "execution_count": 19,
   "metadata": {},
   "outputs": [],
   "source": [
    "stocks_indicators = get_stocks_indicators(stocks, 1)\n",
    "indices_indicators = get_indices_indicators(indices, 1)"
   ]
  },
  {
   "cell_type": "code",
   "execution_count": 20,
   "metadata": {},
   "outputs": [
    {
     "data": {
      "text/html": [
       "<div>\n",
       "<style scoped>\n",
       "    .dataframe tbody tr th:only-of-type {\n",
       "        vertical-align: middle;\n",
       "    }\n",
       "\n",
       "    .dataframe tbody tr th {\n",
       "        vertical-align: top;\n",
       "    }\n",
       "\n",
       "    .dataframe thead th {\n",
       "        text-align: right;\n",
       "    }\n",
       "</style>\n",
       "<table border=\"1\" class=\"dataframe\">\n",
       "  <thead>\n",
       "    <tr style=\"text-align: right;\">\n",
       "      <th></th>\n",
       "      <th>sma_10</th>\n",
       "      <th>mom_10</th>\n",
       "      <th>wma_10</th>\n",
       "      <th>fastk</th>\n",
       "      <th>fastd</th>\n",
       "      <th>macd</th>\n",
       "      <th>rsi</th>\n",
       "      <th>willr</th>\n",
       "      <th>cci</th>\n",
       "      <th>adosc</th>\n",
       "      <th>pct_change</th>\n",
       "    </tr>\n",
       "  </thead>\n",
       "  <tbody>\n",
       "    <tr>\n",
       "      <th>33</th>\n",
       "      <td>12.223143</td>\n",
       "      <td>0.721429</td>\n",
       "      <td>12.268441</td>\n",
       "      <td>95.625898</td>\n",
       "      <td>77.628692</td>\n",
       "      <td>-0.158363</td>\n",
       "      <td>61.901279</td>\n",
       "      <td>-4.374102</td>\n",
       "      <td>307.160552</td>\n",
       "      <td>1.170275e+08</td>\n",
       "      <td>1</td>\n",
       "    </tr>\n",
       "    <tr>\n",
       "      <th>34</th>\n",
       "      <td>12.271143</td>\n",
       "      <td>0.480000</td>\n",
       "      <td>12.370987</td>\n",
       "      <td>83.647820</td>\n",
       "      <td>87.520448</td>\n",
       "      <td>-0.104330</td>\n",
       "      <td>62.580599</td>\n",
       "      <td>-16.352180</td>\n",
       "      <td>258.654956</td>\n",
       "      <td>1.322122e+08</td>\n",
       "      <td>0</td>\n",
       "    </tr>\n",
       "    <tr>\n",
       "      <th>35</th>\n",
       "      <td>12.312429</td>\n",
       "      <td>0.412857</td>\n",
       "      <td>12.453377</td>\n",
       "      <td>78.113240</td>\n",
       "      <td>85.795653</td>\n",
       "      <td>-0.065821</td>\n",
       "      <td>60.920258</td>\n",
       "      <td>-21.886760</td>\n",
       "      <td>167.400412</td>\n",
       "      <td>9.737425e+07</td>\n",
       "      <td>0</td>\n",
       "    </tr>\n",
       "    <tr>\n",
       "      <th>36</th>\n",
       "      <td>12.387286</td>\n",
       "      <td>0.748571</td>\n",
       "      <td>12.513714</td>\n",
       "      <td>71.069213</td>\n",
       "      <td>77.610091</td>\n",
       "      <td>-0.041282</td>\n",
       "      <td>58.782651</td>\n",
       "      <td>-28.930787</td>\n",
       "      <td>105.206129</td>\n",
       "      <td>6.217692e+07</td>\n",
       "      <td>0</td>\n",
       "    </tr>\n",
       "    <tr>\n",
       "      <th>37</th>\n",
       "      <td>12.373714</td>\n",
       "      <td>-0.135714</td>\n",
       "      <td>12.441481</td>\n",
       "      <td>9.473674</td>\n",
       "      <td>52.885375</td>\n",
       "      <td>-0.073780</td>\n",
       "      <td>44.904824</td>\n",
       "      <td>-90.526326</td>\n",
       "      <td>-56.754097</td>\n",
       "      <td>-2.319024e+07</td>\n",
       "      <td>1</td>\n",
       "    </tr>\n",
       "  </tbody>\n",
       "</table>\n",
       "</div>"
      ],
      "text/plain": [
       "       sma_10    mom_10     wma_10      fastk      fastd      macd        rsi  \\\n",
       "33  12.223143  0.721429  12.268441  95.625898  77.628692 -0.158363  61.901279   \n",
       "34  12.271143  0.480000  12.370987  83.647820  87.520448 -0.104330  62.580599   \n",
       "35  12.312429  0.412857  12.453377  78.113240  85.795653 -0.065821  60.920258   \n",
       "36  12.387286  0.748571  12.513714  71.069213  77.610091 -0.041282  58.782651   \n",
       "37  12.373714 -0.135714  12.441481   9.473674  52.885375 -0.073780  44.904824   \n",
       "\n",
       "        willr         cci         adosc pct_change  \n",
       "33  -4.374102  307.160552  1.170275e+08          1  \n",
       "34 -16.352180  258.654956  1.322122e+08          0  \n",
       "35 -21.886760  167.400412  9.737425e+07          0  \n",
       "36 -28.930787  105.206129  6.217692e+07          0  \n",
       "37 -90.526326  -56.754097 -2.319024e+07          1  "
      ]
     },
     "execution_count": 20,
     "metadata": {},
     "output_type": "execute_result"
    }
   ],
   "source": [
    "stocks_indicators['AAPL'].head()"
   ]
  },
  {
   "cell_type": "code",
   "execution_count": 21,
   "metadata": {},
   "outputs": [
    {
     "data": {
      "text/html": [
       "<div>\n",
       "<style scoped>\n",
       "    .dataframe tbody tr th:only-of-type {\n",
       "        vertical-align: middle;\n",
       "    }\n",
       "\n",
       "    .dataframe tbody tr th {\n",
       "        vertical-align: top;\n",
       "    }\n",
       "\n",
       "    .dataframe thead th {\n",
       "        text-align: right;\n",
       "    }\n",
       "</style>\n",
       "<table border=\"1\" class=\"dataframe\">\n",
       "  <thead>\n",
       "    <tr style=\"text-align: right;\">\n",
       "      <th></th>\n",
       "      <th>sma_10</th>\n",
       "      <th>mom_10</th>\n",
       "      <th>wma_10</th>\n",
       "      <th>fastk</th>\n",
       "      <th>fastd</th>\n",
       "      <th>macd</th>\n",
       "      <th>rsi</th>\n",
       "      <th>willr</th>\n",
       "      <th>cci</th>\n",
       "      <th>adosc</th>\n",
       "      <th>pct_change</th>\n",
       "    </tr>\n",
       "  </thead>\n",
       "  <tbody>\n",
       "    <tr>\n",
       "      <th>33</th>\n",
       "      <td>39.826</td>\n",
       "      <td>2.989998</td>\n",
       "      <td>40.279636</td>\n",
       "      <td>90.513759</td>\n",
       "      <td>94.360388</td>\n",
       "      <td>0.822374</td>\n",
       "      <td>66.005718</td>\n",
       "      <td>-9.486241</td>\n",
       "      <td>140.013235</td>\n",
       "      <td>8.266044e+06</td>\n",
       "      <td>0</td>\n",
       "    </tr>\n",
       "    <tr>\n",
       "      <th>34</th>\n",
       "      <td>40.028</td>\n",
       "      <td>2.020000</td>\n",
       "      <td>40.493091</td>\n",
       "      <td>81.203008</td>\n",
       "      <td>89.057078</td>\n",
       "      <td>0.866861</td>\n",
       "      <td>63.556462</td>\n",
       "      <td>-18.796992</td>\n",
       "      <td>119.747659</td>\n",
       "      <td>6.687418e+06</td>\n",
       "      <td>0</td>\n",
       "    </tr>\n",
       "    <tr>\n",
       "      <th>35</th>\n",
       "      <td>40.196</td>\n",
       "      <td>1.680001</td>\n",
       "      <td>40.629818</td>\n",
       "      <td>76.673021</td>\n",
       "      <td>82.796596</td>\n",
       "      <td>0.874287</td>\n",
       "      <td>61.477678</td>\n",
       "      <td>-23.326979</td>\n",
       "      <td>82.599828</td>\n",
       "      <td>3.988678e+06</td>\n",
       "      <td>1</td>\n",
       "    </tr>\n",
       "    <tr>\n",
       "      <th>36</th>\n",
       "      <td>40.412</td>\n",
       "      <td>2.160000</td>\n",
       "      <td>40.754182</td>\n",
       "      <td>77.235783</td>\n",
       "      <td>78.370604</td>\n",
       "      <td>0.878119</td>\n",
       "      <td>62.084739</td>\n",
       "      <td>-22.764217</td>\n",
       "      <td>68.879754</td>\n",
       "      <td>2.778825e+06</td>\n",
       "      <td>0</td>\n",
       "    </tr>\n",
       "    <tr>\n",
       "      <th>37</th>\n",
       "      <td>40.410</td>\n",
       "      <td>-0.019996</td>\n",
       "      <td>40.466546</td>\n",
       "      <td>12.912119</td>\n",
       "      <td>55.606974</td>\n",
       "      <td>0.707582</td>\n",
       "      <td>46.060474</td>\n",
       "      <td>-87.087881</td>\n",
       "      <td>-49.107344</td>\n",
       "      <td>-6.248500e+05</td>\n",
       "      <td>1</td>\n",
       "    </tr>\n",
       "  </tbody>\n",
       "</table>\n",
       "</div>"
      ],
      "text/plain": [
       "    sma_10    mom_10     wma_10      fastk      fastd      macd        rsi  \\\n",
       "33  39.826  2.989998  40.279636  90.513759  94.360388  0.822374  66.005718   \n",
       "34  40.028  2.020000  40.493091  81.203008  89.057078  0.866861  63.556462   \n",
       "35  40.196  1.680001  40.629818  76.673021  82.796596  0.874287  61.477678   \n",
       "36  40.412  2.160000  40.754182  77.235783  78.370604  0.878119  62.084739   \n",
       "37  40.410 -0.019996  40.466546  12.912119  55.606974  0.707582  46.060474   \n",
       "\n",
       "        willr         cci         adosc pct_change  \n",
       "33  -9.486241  140.013235  8.266044e+06          0  \n",
       "34 -18.796992  119.747659  6.687418e+06          0  \n",
       "35 -23.326979   82.599828  3.988678e+06          1  \n",
       "36 -22.764217   68.879754  2.778825e+06          0  \n",
       "37 -87.087881  -49.107344 -6.248500e+05          1  "
      ]
     },
     "execution_count": 21,
     "metadata": {},
     "output_type": "execute_result"
    }
   ],
   "source": [
    "stocks_indicators['AMZN'].head()"
   ]
  },
  {
   "cell_type": "code",
   "execution_count": 22,
   "metadata": {},
   "outputs": [
    {
     "data": {
      "text/html": [
       "<div>\n",
       "<style scoped>\n",
       "    .dataframe tbody tr th:only-of-type {\n",
       "        vertical-align: middle;\n",
       "    }\n",
       "\n",
       "    .dataframe tbody tr th {\n",
       "        vertical-align: top;\n",
       "    }\n",
       "\n",
       "    .dataframe thead th {\n",
       "        text-align: right;\n",
       "    }\n",
       "</style>\n",
       "<table border=\"1\" class=\"dataframe\">\n",
       "  <thead>\n",
       "    <tr style=\"text-align: right;\">\n",
       "      <th></th>\n",
       "      <th>sma_10</th>\n",
       "      <th>mom_10</th>\n",
       "      <th>wma_10</th>\n",
       "      <th>fastk</th>\n",
       "      <th>fastd</th>\n",
       "      <th>macd</th>\n",
       "      <th>rsi</th>\n",
       "      <th>willr</th>\n",
       "      <th>cci</th>\n",
       "      <th>adosc</th>\n",
       "      <th>pct_change</th>\n",
       "    </tr>\n",
       "  </thead>\n",
       "  <tbody>\n",
       "    <tr>\n",
       "      <th>33</th>\n",
       "      <td>1449.898035</td>\n",
       "      <td>9.630005</td>\n",
       "      <td>1452.778398</td>\n",
       "      <td>90.030886</td>\n",
       "      <td>93.716410</td>\n",
       "      <td>9.479183</td>\n",
       "      <td>63.938589</td>\n",
       "      <td>-9.969114</td>\n",
       "      <td>105.134662</td>\n",
       "      <td>3.813132e+09</td>\n",
       "      <td>0</td>\n",
       "    </tr>\n",
       "    <tr>\n",
       "      <th>34</th>\n",
       "      <td>1450.534033</td>\n",
       "      <td>6.359985</td>\n",
       "      <td>1453.956938</td>\n",
       "      <td>82.774842</td>\n",
       "      <td>90.142725</td>\n",
       "      <td>9.351993</td>\n",
       "      <td>62.698674</td>\n",
       "      <td>-17.225158</td>\n",
       "      <td>86.347828</td>\n",
       "      <td>3.617812e+09</td>\n",
       "      <td>0</td>\n",
       "    </tr>\n",
       "    <tr>\n",
       "      <th>35</th>\n",
       "      <td>1450.822022</td>\n",
       "      <td>2.879882</td>\n",
       "      <td>1454.076194</td>\n",
       "      <td>65.549276</td>\n",
       "      <td>79.451668</td>\n",
       "      <td>8.731744</td>\n",
       "      <td>57.695789</td>\n",
       "      <td>-34.450724</td>\n",
       "      <td>30.682218</td>\n",
       "      <td>2.979242e+09</td>\n",
       "      <td>0</td>\n",
       "    </tr>\n",
       "    <tr>\n",
       "      <th>36</th>\n",
       "      <td>1451.953015</td>\n",
       "      <td>11.309936</td>\n",
       "      <td>1453.812189</td>\n",
       "      <td>59.508965</td>\n",
       "      <td>69.277694</td>\n",
       "      <td>8.001107</td>\n",
       "      <td>56.008133</td>\n",
       "      <td>-40.491035</td>\n",
       "      <td>11.735103</td>\n",
       "      <td>2.158290e+09</td>\n",
       "      <td>0</td>\n",
       "    </tr>\n",
       "    <tr>\n",
       "      <th>37</th>\n",
       "      <td>1448.520020</td>\n",
       "      <td>-34.329956</td>\n",
       "      <td>1444.191648</td>\n",
       "      <td>13.333345</td>\n",
       "      <td>46.130528</td>\n",
       "      <td>3.322564</td>\n",
       "      <td>29.932484</td>\n",
       "      <td>-86.666655</td>\n",
       "      <td>-271.080636</td>\n",
       "      <td>7.487103e+08</td>\n",
       "      <td>1</td>\n",
       "    </tr>\n",
       "  </tbody>\n",
       "</table>\n",
       "</div>"
      ],
      "text/plain": [
       "         sma_10     mom_10       wma_10      fastk      fastd      macd  \\\n",
       "33  1449.898035   9.630005  1452.778398  90.030886  93.716410  9.479183   \n",
       "34  1450.534033   6.359985  1453.956938  82.774842  90.142725  9.351993   \n",
       "35  1450.822022   2.879882  1454.076194  65.549276  79.451668  8.731744   \n",
       "36  1451.953015  11.309936  1453.812189  59.508965  69.277694  8.001107   \n",
       "37  1448.520020 -34.329956  1444.191648  13.333345  46.130528  3.322564   \n",
       "\n",
       "          rsi      willr         cci         adosc pct_change  \n",
       "33  63.938589  -9.969114  105.134662  3.813132e+09          0  \n",
       "34  62.698674 -17.225158   86.347828  3.617812e+09          0  \n",
       "35  57.695789 -34.450724   30.682218  2.979242e+09          0  \n",
       "36  56.008133 -40.491035   11.735103  2.158290e+09          0  \n",
       "37  29.932484 -86.666655 -271.080636  7.487103e+08          1  "
      ]
     },
     "execution_count": 22,
     "metadata": {},
     "output_type": "execute_result"
    }
   ],
   "source": [
    "indices_indicators['GSPC'].head()"
   ]
  },
  {
   "cell_type": "code",
   "execution_count": 23,
   "metadata": {},
   "outputs": [
    {
     "data": {
      "text/html": [
       "<div>\n",
       "<style scoped>\n",
       "    .dataframe tbody tr th:only-of-type {\n",
       "        vertical-align: middle;\n",
       "    }\n",
       "\n",
       "    .dataframe tbody tr th {\n",
       "        vertical-align: top;\n",
       "    }\n",
       "\n",
       "    .dataframe thead th {\n",
       "        text-align: right;\n",
       "    }\n",
       "</style>\n",
       "<table border=\"1\" class=\"dataframe\">\n",
       "  <thead>\n",
       "    <tr style=\"text-align: right;\">\n",
       "      <th></th>\n",
       "      <th>sma_10</th>\n",
       "      <th>mom_10</th>\n",
       "      <th>wma_10</th>\n",
       "      <th>fastk</th>\n",
       "      <th>fastd</th>\n",
       "      <th>macd</th>\n",
       "      <th>rsi</th>\n",
       "      <th>willr</th>\n",
       "      <th>cci</th>\n",
       "      <th>adosc</th>\n",
       "      <th>pct_change</th>\n",
       "    </tr>\n",
       "  </thead>\n",
       "  <tbody>\n",
       "    <tr>\n",
       "      <th>33</th>\n",
       "      <td>1810.197998</td>\n",
       "      <td>46.069946</td>\n",
       "      <td>1817.122905</td>\n",
       "      <td>100.000000</td>\n",
       "      <td>97.787830</td>\n",
       "      <td>6.109130</td>\n",
       "      <td>65.730631</td>\n",
       "      <td>-0.000000</td>\n",
       "      <td>147.818665</td>\n",
       "      <td>2.972300e+09</td>\n",
       "      <td>1</td>\n",
       "    </tr>\n",
       "    <tr>\n",
       "      <th>34</th>\n",
       "      <td>1813.736999</td>\n",
       "      <td>35.390015</td>\n",
       "      <td>1823.694172</td>\n",
       "      <td>93.356634</td>\n",
       "      <td>97.030925</td>\n",
       "      <td>8.482505</td>\n",
       "      <td>67.399671</td>\n",
       "      <td>-6.643366</td>\n",
       "      <td>157.399472</td>\n",
       "      <td>3.264304e+09</td>\n",
       "      <td>0</td>\n",
       "    </tr>\n",
       "    <tr>\n",
       "      <th>35</th>\n",
       "      <td>1816.659998</td>\n",
       "      <td>29.229981</td>\n",
       "      <td>1828.427448</td>\n",
       "      <td>84.848543</td>\n",
       "      <td>92.735059</td>\n",
       "      <td>9.721222</td>\n",
       "      <td>64.325302</td>\n",
       "      <td>-15.151457</td>\n",
       "      <td>114.328567</td>\n",
       "      <td>3.103490e+09</td>\n",
       "      <td>0</td>\n",
       "    </tr>\n",
       "    <tr>\n",
       "      <th>36</th>\n",
       "      <td>1821.165991</td>\n",
       "      <td>45.059937</td>\n",
       "      <td>1830.960170</td>\n",
       "      <td>72.960356</td>\n",
       "      <td>83.721844</td>\n",
       "      <td>9.848631</td>\n",
       "      <td>60.193710</td>\n",
       "      <td>-27.039644</td>\n",
       "      <td>75.494978</td>\n",
       "      <td>2.596435e+09</td>\n",
       "      <td>0</td>\n",
       "    </tr>\n",
       "    <tr>\n",
       "      <th>37</th>\n",
       "      <td>1818.950989</td>\n",
       "      <td>-22.150024</td>\n",
       "      <td>1819.160902</td>\n",
       "      <td>5.527506</td>\n",
       "      <td>54.445468</td>\n",
       "      <td>3.907562</td>\n",
       "      <td>38.585955</td>\n",
       "      <td>-94.472494</td>\n",
       "      <td>-145.729131</td>\n",
       "      <td>1.374155e+09</td>\n",
       "      <td>1</td>\n",
       "    </tr>\n",
       "  </tbody>\n",
       "</table>\n",
       "</div>"
      ],
      "text/plain": [
       "         sma_10     mom_10       wma_10       fastk      fastd      macd  \\\n",
       "33  1810.197998  46.069946  1817.122905  100.000000  97.787830  6.109130   \n",
       "34  1813.736999  35.390015  1823.694172   93.356634  97.030925  8.482505   \n",
       "35  1816.659998  29.229981  1828.427448   84.848543  92.735059  9.721222   \n",
       "36  1821.165991  45.059937  1830.960170   72.960356  83.721844  9.848631   \n",
       "37  1818.950989 -22.150024  1819.160902    5.527506  54.445468  3.907562   \n",
       "\n",
       "          rsi      willr         cci         adosc pct_change  \n",
       "33  65.730631  -0.000000  147.818665  2.972300e+09          1  \n",
       "34  67.399671  -6.643366  157.399472  3.264304e+09          0  \n",
       "35  64.325302 -15.151457  114.328567  3.103490e+09          0  \n",
       "36  60.193710 -27.039644   75.494978  2.596435e+09          0  \n",
       "37  38.585955 -94.472494 -145.729131  1.374155e+09          1  "
      ]
     },
     "execution_count": 23,
     "metadata": {},
     "output_type": "execute_result"
    }
   ],
   "source": [
    "indices_indicators['NDX'].head()"
   ]
  },
  {
   "cell_type": "code",
   "execution_count": 24,
   "metadata": {},
   "outputs": [
    {
     "data": {
      "text/plain": [
       "2735"
      ]
     },
     "execution_count": 24,
     "metadata": {},
     "output_type": "execute_result"
    }
   ],
   "source": [
    "len(stocks_indicators['AAPL'])"
   ]
  },
  {
   "cell_type": "markdown",
   "metadata": {},
   "source": [
    "## Calculation of weight table to depict increase and decrease in Stock Points "
   ]
  },
  {
   "cell_type": "code",
   "execution_count": 25,
   "metadata": {},
   "outputs": [],
   "source": [
    "def weighs_table(stocks, indices, period):\n",
    "    stocks_table = pd.DataFrame()\n",
    "    indices_table = pd.DataFrame()\n",
    "    for j in stocks:\n",
    "        weighs_1 = []\n",
    "        for i in range(1,period+1):\n",
    "            stocks_indicators = get_stocks_indicators(stocks, i)\n",
    "            weighs_1.append((len(stocks_indicators[j][stocks_indicators[j]['pct_change']=='1'])/\\\n",
    "                            float(len(stocks_indicators[j])))*100)\n",
    "        stocks_table = pd.concat([stocks_table, pd.DataFrame(weighs_1)], axis=1)\n",
    "    for j in indices:\n",
    "        weighs_1 = []\n",
    "        for i in range(1,period+1):\n",
    "            indices_indicators = get_indices_indicators(indices, i)\n",
    "            weighs_1.append((len(indices_indicators[j][indices_indicators[j]['pct_change']=='1'])/\\\n",
    "                            float(len(indices_indicators[j])))*100)\n",
    "        indices_table = pd.concat([indices_table, pd.DataFrame(weighs_1)], axis=1)\n",
    "    stocks_table.index = range(1,period+1)\n",
    "    stocks_table.columns = stocks.keys()\n",
    "    indices_table.index = range(1,period+1)\n",
    "    indices_table.columns = indices.keys()\n",
    "    return stocks_table, indices_table"
   ]
  },
  {
   "cell_type": "code",
   "execution_count": 26,
   "metadata": {},
   "outputs": [],
   "source": [
    "stocks_table, indices_table = weighs_table(stocks, indices, 20)"
   ]
  },
  {
   "cell_type": "code",
   "execution_count": 27,
   "metadata": {},
   "outputs": [
    {
     "data": {
      "text/plain": [
       "[<matplotlib.lines.Line2D at 0x7fa4a164b910>,\n",
       " <matplotlib.lines.Line2D at 0x7fa4a164b990>,\n",
       " <matplotlib.lines.Line2D at 0x7fa4a164ba50>]"
      ]
     },
     "execution_count": 27,
     "metadata": {},
     "output_type": "execute_result"
    },
    {
     "data": {
      "image/png": "[encoded data removed]",
      "text/plain": [
       "<Figure size 432x288 with 1 Axes>"
      ]
     },
     "metadata": {
      "needs_background": "light"
     },
     "output_type": "display_data"
    }
   ],
   "source": [
    "plt.plot(stocks_table)"
   ]
  },
  {
   "cell_type": "code",
   "execution_count": 28,
   "metadata": {},
   "outputs": [
    {
     "data": {
      "text/plain": [
       "[<matplotlib.lines.Line2D at 0x7fa49f579550>,\n",
       " <matplotlib.lines.Line2D at 0x7fa49f5795d0>,\n",
       " <matplotlib.lines.Line2D at 0x7fa49f579690>]"
      ]
     },
     "execution_count": 28,
     "metadata": {},
     "output_type": "execute_result"
    },
    {
     "data": {
      "image/png": "[encoded data removed]",
      "text/plain": [
       "<Figure size 432x288 with 1 Axes>"
      ]
     },
     "metadata": {
      "needs_background": "light"
     },
     "output_type": "display_data"
    }
   ],
   "source": [
    "plt.plot(indices_table)"
   ]
  },
  {
   "cell_type": "markdown",
   "metadata": {},
   "source": [
    "# Implementation of ANN Classifier Algorithm"
   ]
  },
  {
   "cell_type": "code",
   "execution_count": 29,
   "metadata": {},
   "outputs": [],
   "source": [
    "def avg_score(x_train, y_train,x_test,y_test):\n",
    "    accuracy = []\n",
    "    f1 = []\n",
    "    rf_model = MLPClassifier(hidden_layer_sizes=(50, 3), momentum=0.3, max_iter = 1000, learning_rate_init=0.1)\n",
    "    for i in range(5):\n",
    "        rf_model.fit(x_train,y_train)\n",
    "        accuracy.append(rf_model.score(x_test,y_test))\n",
    "        f1.append(f1_score(y_test,rf_model.predict(x_test), pos_label='1'))\n",
    "    avg_accuracy = sum(accuracy)/len(accuracy)\n",
    "    avg_f1 = sum(f1)/len(f1)\n",
    "    return avg_accuracy, avg_f1"
   ]
  },
  {
   "cell_type": "markdown",
   "metadata": {},
   "source": [
    "## Using ANN Algorithm for prediction of stock and stock price movement "
   ]
  },
  {
   "cell_type": "code",
   "execution_count": 30,
   "metadata": {},
   "outputs": [],
   "source": [
    "def stocks_accuracy(stocks, period):\n",
    "    table_accuracy = pd.DataFrame()\n",
    "    table_f1 = pd.DataFrame()\n",
    "    for j in stocks:\n",
    "        accuracy_values = []\n",
    "        f1_values = []\n",
    "        for i in range(1,period+1):\n",
    "            stocks_indicators = get_stocks_indicators(stocks, i)\n",
    "            train, test = train_test_split(stocks_indicators[j])\n",
    "            accuracy, f1 = avg_score(train.iloc[:,:-1],train.iloc[:,-1],test.iloc[:,:-1],test.iloc[:,-1])\n",
    "            accuracy_values.append(accuracy)\n",
    "            f1_values.append(f1)\n",
    "        table_accuracy = pd.concat([table_accuracy, pd.DataFrame({j : accuracy_values})], axis=1)\n",
    "        table_f1 = pd.concat([table_f1, pd.DataFrame({j : f1_values})], axis=1)\n",
    "    table_accuracy.index = range(1,period+1)\n",
    "    table_f1.index = range(1,period+1)\n",
    "    return table_accuracy, table_f1\n",
    "\n",
    "def indices_accuracy(indices, period):\n",
    "    table_accuracy = pd.DataFrame()\n",
    "    table_f1 = pd.DataFrame()\n",
    "    for j in indices:\n",
    "        accuracy_values = []\n",
    "        f1_values = []\n",
    "        for i in range(1,period+1):\n",
    "            indices_indicators = get_indices_indicators(indices, i)\n",
    "            train, test = train_test_split(indices_indicators[j])\n",
    "            accuracy, f1 = avg_score(train.iloc[:,:-1],train.iloc[:,-1],test.iloc[:,:-1],test.iloc[:,-1])\n",
    "            accuracy_values.append(accuracy)\n",
    "            f1_values.append(f1)\n",
    "        table_accuracy = pd.concat([table_accuracy, pd.DataFrame({j : accuracy_values})], axis=1)\n",
    "        table_f1 = pd.concat([table_f1, pd.DataFrame({j : f1_values})], axis=1)\n",
    "    table_accuracy.index = range(1,period+1)\n",
    "    table_f1.index = range(1,period+1)\n",
    "    return table_accuracy, table_f1"
   ]
  },
  {
   "cell_type": "code",
   "execution_count": 31,
   "metadata": {},
   "outputs": [],
   "source": [
    "stocks_accuracy_table, stocks_f1_table = stocks_accuracy(stocks, 20)"
   ]
  },
  {
   "cell_type": "code",
   "execution_count": 32,
   "metadata": {},
   "outputs": [],
   "source": [
    "indices_accuracy_table, indices_f1_table = indices_accuracy(indices, 20)"
   ]
  },
  {
   "cell_type": "markdown",
   "metadata": {},
   "source": [
    "## Graphical Representation of Accuracy and F1 scores of the used algorithm "
   ]
  },
  {
   "cell_type": "code",
   "execution_count": 33,
   "metadata": {},
   "outputs": [
    {
     "data": {
      "text/plain": [
       "<Figure size 432x288 with 0 Axes>"
      ]
     },
     "metadata": {},
     "output_type": "display_data"
    }
   ],
   "source": [
    "fig = plt.figure()"
   ]
  },
  {
   "cell_type": "code",
   "execution_count": 34,
   "metadata": {},
   "outputs": [
    {
     "data": {
      "text/plain": [
       "Text(0,0.5,'Average Score')"
      ]
     },
     "execution_count": 34,
     "metadata": {},
     "output_type": "execute_result"
    },
    {
     "data": {
      "image/png": "[encoded data removed]",
      "text/plain": [
       "<Figure size 432x288 with 1 Axes>"
      ]
     },
     "metadata": {
      "needs_background": "light"
     },
     "output_type": "display_data"
    }
   ],
   "source": [
    "plt.plot(stocks_accuracy_table)\n",
    "fig.suptitle('Accuracy Scores', fontsize=20)\n",
    "plt.xlabel('Days Ahead', fontsize=18)\n",
    "plt.ylabel('Average Score', fontsize=16)"
   ]
  },
  {
   "cell_type": "code",
   "execution_count": 35,
   "metadata": {},
   "outputs": [
    {
     "data": {
      "text/plain": [
       "Text(0,0.5,'Average Score')"
      ]
     },
     "execution_count": 35,
     "metadata": {},
     "output_type": "execute_result"
    },
    {
     "data": {
      "image/png": "[encoded data removed]",
      "text/plain": [
       "<Figure size 432x288 with 1 Axes>"
      ]
     },
     "metadata": {
      "needs_background": "light"
     },
     "output_type": "display_data"
    }
   ],
   "source": [
    "plt.plot(indices_accuracy_table)\n",
    "fig.suptitle('Accuracy Scores', fontsize=20)\n",
    "plt.xlabel('Days Ahead', fontsize=18)\n",
    "plt.ylabel('Average Score', fontsize=16)"
   ]
  },
  {
   "cell_type": "code",
   "execution_count": 36,
   "metadata": {},
   "outputs": [
    {
     "data": {
      "text/plain": [
       "Text(0,0.5,'Average Score')"
      ]
     },
     "execution_count": 36,
     "metadata": {},
     "output_type": "execute_result"
    },
    {
     "data": {
      "image/png": "[encoded data removed]",
      "text/plain": [
       "<Figure size 432x288 with 1 Axes>"
      ]
     },
     "metadata": {
      "needs_background": "light"
     },
     "output_type": "display_data"
    }
   ],
   "source": [
    "plt.plot(stocks_f1_table)\n",
    "fig.suptitle('Accuracy Scores', fontsize=20)\n",
    "plt.xlabel('Days Ahead', fontsize=18)\n",
    "plt.ylabel('Average Score', fontsize=16)"
   ]
  },
  {
   "cell_type": "code",
   "execution_count": 37,
   "metadata": {},
   "outputs": [
    {
     "data": {
      "text/plain": [
       "Text(0,0.5,'Average Score')"
      ]
     },
     "execution_count": 37,
     "metadata": {},
     "output_type": "execute_result"
    },
    {
     "data": {
      "image/png": "[encoded data removed]",
      "text/plain": [
       "<Figure size 432x288 with 1 Axes>"
      ]
     },
     "metadata": {
      "needs_background": "light"
     },
     "output_type": "display_data"
    }
   ],
   "source": [
    "plt.plot(indices_f1_table)\n",
    "fig.suptitle('Accuracy Scores', fontsize=20)\n",
    "plt.xlabel('Days Ahead', fontsize=18)\n",
    "plt.ylabel('Average Score', fontsize=16)"
   ]
  },
  {
   "cell_type": "code",
   "execution_count": 38,
   "metadata": {},
   "outputs": [],
   "source": [
    "def highlight_max(s):\n",
    "    '''\n",
    "    highlight the maximum in a Series yellow.\n",
    "    '''\n",
    "    is_max = s == s.max()\n",
    "    return ['background-color: yellow' if v else '' for v in is_max]"
   ]
  },
  {
   "cell_type": "markdown",
   "metadata": {},
   "source": [
    "## Tabular Representation of our final calculated results "
   ]
  },
  {
   "cell_type": "code",
   "execution_count": 39,
   "metadata": {},
   "outputs": [
    {
     "data": {
      "text/html": [
       "<style  type=\"text/css\" >\n",
       "    #T_1c8456c2_900c_11e9_8b4f_fcf8ae950b1erow16_col1 {\n",
       "            background-color:  yellow;\n",
       "        }    #T_1c8456c2_900c_11e9_8b4f_fcf8ae950b1erow18_col2 {\n",
       "            background-color:  yellow;\n",
       "        }    #T_1c8456c2_900c_11e9_8b4f_fcf8ae950b1erow19_col0 {\n",
       "            background-color:  yellow;\n",
       "        }</style><table id=\"T_1c8456c2_900c_11e9_8b4f_fcf8ae950b1e\" ><thead>    <tr>        <th class=\"blank level0\" ></th>        <th class=\"col_heading level0 col0\" >GOOG</th>        <th class=\"col_heading level0 col1\" >AAPL</th>        <th class=\"col_heading level0 col2\" >AMZN</th>    </tr></thead><tbody>\n",
       "                <tr>\n",
       "                        <th id=\"T_1c8456c2_900c_11e9_8b4f_fcf8ae950b1elevel0_row0\" class=\"row_heading level0 row0\" >1</th>\n",
       "                        <td id=\"T_1c8456c2_900c_11e9_8b4f_fcf8ae950b1erow0_col0\" class=\"data row0 col0\" >0.483918</td>\n",
       "                        <td id=\"T_1c8456c2_900c_11e9_8b4f_fcf8ae950b1erow0_col1\" class=\"data row0 col1\" >0.549708</td>\n",
       "                        <td id=\"T_1c8456c2_900c_11e9_8b4f_fcf8ae950b1erow0_col2\" class=\"data row0 col2\" >0.505848</td>\n",
       "            </tr>\n",
       "            <tr>\n",
       "                        <th id=\"T_1c8456c2_900c_11e9_8b4f_fcf8ae950b1elevel0_row1\" class=\"row_heading level0 row1\" >2</th>\n",
       "                        <td id=\"T_1c8456c2_900c_11e9_8b4f_fcf8ae950b1erow1_col0\" class=\"data row1 col0\" >0.54386</td>\n",
       "                        <td id=\"T_1c8456c2_900c_11e9_8b4f_fcf8ae950b1erow1_col1\" class=\"data row1 col1\" >0.517544</td>\n",
       "                        <td id=\"T_1c8456c2_900c_11e9_8b4f_fcf8ae950b1erow1_col2\" class=\"data row1 col2\" >0.52924</td>\n",
       "            </tr>\n",
       "            <tr>\n",
       "                        <th id=\"T_1c8456c2_900c_11e9_8b4f_fcf8ae950b1elevel0_row2\" class=\"row_heading level0 row2\" >3</th>\n",
       "                        <td id=\"T_1c8456c2_900c_11e9_8b4f_fcf8ae950b1erow2_col0\" class=\"data row2 col0\" >0.526316</td>\n",
       "                        <td id=\"T_1c8456c2_900c_11e9_8b4f_fcf8ae950b1erow2_col1\" class=\"data row2 col1\" >0.540936</td>\n",
       "                        <td id=\"T_1c8456c2_900c_11e9_8b4f_fcf8ae950b1erow2_col2\" class=\"data row2 col2\" >0.542398</td>\n",
       "            </tr>\n",
       "            <tr>\n",
       "                        <th id=\"T_1c8456c2_900c_11e9_8b4f_fcf8ae950b1elevel0_row3\" class=\"row_heading level0 row3\" >4</th>\n",
       "                        <td id=\"T_1c8456c2_900c_11e9_8b4f_fcf8ae950b1erow3_col0\" class=\"data row3 col0\" >0.544656</td>\n",
       "                        <td id=\"T_1c8456c2_900c_11e9_8b4f_fcf8ae950b1erow3_col1\" class=\"data row3 col1\" >0.543192</td>\n",
       "                        <td id=\"T_1c8456c2_900c_11e9_8b4f_fcf8ae950b1erow3_col2\" class=\"data row3 col2\" >0.524158</td>\n",
       "            </tr>\n",
       "            <tr>\n",
       "                        <th id=\"T_1c8456c2_900c_11e9_8b4f_fcf8ae950b1elevel0_row4\" class=\"row_heading level0 row4\" >5</th>\n",
       "                        <td id=\"T_1c8456c2_900c_11e9_8b4f_fcf8ae950b1erow4_col0\" class=\"data row4 col0\" >0.556369</td>\n",
       "                        <td id=\"T_1c8456c2_900c_11e9_8b4f_fcf8ae950b1erow4_col1\" class=\"data row4 col1\" >0.579795</td>\n",
       "                        <td id=\"T_1c8456c2_900c_11e9_8b4f_fcf8ae950b1erow4_col2\" class=\"data row4 col2\" >0.547584</td>\n",
       "            </tr>\n",
       "            <tr>\n",
       "                        <th id=\"T_1c8456c2_900c_11e9_8b4f_fcf8ae950b1elevel0_row5\" class=\"row_heading level0 row5\" >6</th>\n",
       "                        <td id=\"T_1c8456c2_900c_11e9_8b4f_fcf8ae950b1erow5_col0\" class=\"data row5 col0\" >0.554905</td>\n",
       "                        <td id=\"T_1c8456c2_900c_11e9_8b4f_fcf8ae950b1erow5_col1\" class=\"data row5 col1\" >0.556369</td>\n",
       "                        <td id=\"T_1c8456c2_900c_11e9_8b4f_fcf8ae950b1erow5_col2\" class=\"data row5 col2\" >0.610542</td>\n",
       "            </tr>\n",
       "            <tr>\n",
       "                        <th id=\"T_1c8456c2_900c_11e9_8b4f_fcf8ae950b1elevel0_row6\" class=\"row_heading level0 row6\" >7</th>\n",
       "                        <td id=\"T_1c8456c2_900c_11e9_8b4f_fcf8ae950b1erow6_col0\" class=\"data row6 col0\" >0.565154</td>\n",
       "                        <td id=\"T_1c8456c2_900c_11e9_8b4f_fcf8ae950b1erow6_col1\" class=\"data row6 col1\" >0.57101</td>\n",
       "                        <td id=\"T_1c8456c2_900c_11e9_8b4f_fcf8ae950b1erow6_col2\" class=\"data row6 col2\" >0.579795</td>\n",
       "            </tr>\n",
       "            <tr>\n",
       "                        <th id=\"T_1c8456c2_900c_11e9_8b4f_fcf8ae950b1elevel0_row7\" class=\"row_heading level0 row7\" >8</th>\n",
       "                        <td id=\"T_1c8456c2_900c_11e9_8b4f_fcf8ae950b1erow7_col0\" class=\"data row7 col0\" >0.552786</td>\n",
       "                        <td id=\"T_1c8456c2_900c_11e9_8b4f_fcf8ae950b1erow7_col1\" class=\"data row7 col1\" >0.593842</td>\n",
       "                        <td id=\"T_1c8456c2_900c_11e9_8b4f_fcf8ae950b1erow7_col2\" class=\"data row7 col2\" >0.593842</td>\n",
       "            </tr>\n",
       "            <tr>\n",
       "                        <th id=\"T_1c8456c2_900c_11e9_8b4f_fcf8ae950b1elevel0_row8\" class=\"row_heading level0 row8\" >9</th>\n",
       "                        <td id=\"T_1c8456c2_900c_11e9_8b4f_fcf8ae950b1erow8_col0\" class=\"data row8 col0\" >0.555718</td>\n",
       "                        <td id=\"T_1c8456c2_900c_11e9_8b4f_fcf8ae950b1erow8_col1\" class=\"data row8 col1\" >0.61437</td>\n",
       "                        <td id=\"T_1c8456c2_900c_11e9_8b4f_fcf8ae950b1erow8_col2\" class=\"data row8 col2\" >0.577713</td>\n",
       "            </tr>\n",
       "            <tr>\n",
       "                        <th id=\"T_1c8456c2_900c_11e9_8b4f_fcf8ae950b1elevel0_row9\" class=\"row_heading level0 row9\" >10</th>\n",
       "                        <td id=\"T_1c8456c2_900c_11e9_8b4f_fcf8ae950b1erow9_col0\" class=\"data row9 col0\" >0.554252</td>\n",
       "                        <td id=\"T_1c8456c2_900c_11e9_8b4f_fcf8ae950b1erow9_col1\" class=\"data row9 col1\" >0.592375</td>\n",
       "                        <td id=\"T_1c8456c2_900c_11e9_8b4f_fcf8ae950b1erow9_col2\" class=\"data row9 col2\" >0.608504</td>\n",
       "            </tr>\n",
       "            <tr>\n",
       "                        <th id=\"T_1c8456c2_900c_11e9_8b4f_fcf8ae950b1elevel0_row10\" class=\"row_heading level0 row10\" >11</th>\n",
       "                        <td id=\"T_1c8456c2_900c_11e9_8b4f_fcf8ae950b1erow10_col0\" class=\"data row10 col0\" >0.561584</td>\n",
       "                        <td id=\"T_1c8456c2_900c_11e9_8b4f_fcf8ae950b1erow10_col1\" class=\"data row10 col1\" >0.609971</td>\n",
       "                        <td id=\"T_1c8456c2_900c_11e9_8b4f_fcf8ae950b1erow10_col2\" class=\"data row10 col2\" >0.595308</td>\n",
       "            </tr>\n",
       "            <tr>\n",
       "                        <th id=\"T_1c8456c2_900c_11e9_8b4f_fcf8ae950b1elevel0_row11\" class=\"row_heading level0 row11\" >12</th>\n",
       "                        <td id=\"T_1c8456c2_900c_11e9_8b4f_fcf8ae950b1erow11_col0\" class=\"data row11 col0\" >0.575624</td>\n",
       "                        <td id=\"T_1c8456c2_900c_11e9_8b4f_fcf8ae950b1erow11_col1\" class=\"data row11 col1\" >0.624082</td>\n",
       "                        <td id=\"T_1c8456c2_900c_11e9_8b4f_fcf8ae950b1erow11_col2\" class=\"data row11 col2\" >0.60793</td>\n",
       "            </tr>\n",
       "            <tr>\n",
       "                        <th id=\"T_1c8456c2_900c_11e9_8b4f_fcf8ae950b1elevel0_row12\" class=\"row_heading level0 row12\" >13</th>\n",
       "                        <td id=\"T_1c8456c2_900c_11e9_8b4f_fcf8ae950b1erow12_col0\" class=\"data row12 col0\" >0.58884</td>\n",
       "                        <td id=\"T_1c8456c2_900c_11e9_8b4f_fcf8ae950b1erow12_col1\" class=\"data row12 col1\" >0.571219</td>\n",
       "                        <td id=\"T_1c8456c2_900c_11e9_8b4f_fcf8ae950b1erow12_col2\" class=\"data row12 col2\" >0.596182</td>\n",
       "            </tr>\n",
       "            <tr>\n",
       "                        <th id=\"T_1c8456c2_900c_11e9_8b4f_fcf8ae950b1elevel0_row13\" class=\"row_heading level0 row13\" >14</th>\n",
       "                        <td id=\"T_1c8456c2_900c_11e9_8b4f_fcf8ae950b1erow13_col0\" class=\"data row13 col0\" >0.584435</td>\n",
       "                        <td id=\"T_1c8456c2_900c_11e9_8b4f_fcf8ae950b1erow13_col1\" class=\"data row13 col1\" >0.615272</td>\n",
       "                        <td id=\"T_1c8456c2_900c_11e9_8b4f_fcf8ae950b1erow13_col2\" class=\"data row13 col2\" >0.591777</td>\n",
       "            </tr>\n",
       "            <tr>\n",
       "                        <th id=\"T_1c8456c2_900c_11e9_8b4f_fcf8ae950b1elevel0_row14\" class=\"row_heading level0 row14\" >15</th>\n",
       "                        <td id=\"T_1c8456c2_900c_11e9_8b4f_fcf8ae950b1erow14_col0\" class=\"data row14 col0\" >0.575624</td>\n",
       "                        <td id=\"T_1c8456c2_900c_11e9_8b4f_fcf8ae950b1erow14_col1\" class=\"data row14 col1\" >0.600587</td>\n",
       "                        <td id=\"T_1c8456c2_900c_11e9_8b4f_fcf8ae950b1erow14_col2\" class=\"data row14 col2\" >0.60793</td>\n",
       "            </tr>\n",
       "            <tr>\n",
       "                        <th id=\"T_1c8456c2_900c_11e9_8b4f_fcf8ae950b1elevel0_row15\" class=\"row_heading level0 row15\" >16</th>\n",
       "                        <td id=\"T_1c8456c2_900c_11e9_8b4f_fcf8ae950b1erow15_col0\" class=\"data row15 col0\" >0.563235</td>\n",
       "                        <td id=\"T_1c8456c2_900c_11e9_8b4f_fcf8ae950b1erow15_col1\" class=\"data row15 col1\" >0.602941</td>\n",
       "                        <td id=\"T_1c8456c2_900c_11e9_8b4f_fcf8ae950b1erow15_col2\" class=\"data row15 col2\" >0.573529</td>\n",
       "            </tr>\n",
       "            <tr>\n",
       "                        <th id=\"T_1c8456c2_900c_11e9_8b4f_fcf8ae950b1elevel0_row16\" class=\"row_heading level0 row16\" >17</th>\n",
       "                        <td id=\"T_1c8456c2_900c_11e9_8b4f_fcf8ae950b1erow16_col0\" class=\"data row16 col0\" >0.595588</td>\n",
       "                        <td id=\"T_1c8456c2_900c_11e9_8b4f_fcf8ae950b1erow16_col1\" class=\"data row16 col1\" >0.648529</td>\n",
       "                        <td id=\"T_1c8456c2_900c_11e9_8b4f_fcf8ae950b1erow16_col2\" class=\"data row16 col2\" >0.629412</td>\n",
       "            </tr>\n",
       "            <tr>\n",
       "                        <th id=\"T_1c8456c2_900c_11e9_8b4f_fcf8ae950b1elevel0_row17\" class=\"row_heading level0 row17\" >18</th>\n",
       "                        <td id=\"T_1c8456c2_900c_11e9_8b4f_fcf8ae950b1erow17_col0\" class=\"data row17 col0\" >0.602941</td>\n",
       "                        <td id=\"T_1c8456c2_900c_11e9_8b4f_fcf8ae950b1erow17_col1\" class=\"data row17 col1\" >0.6</td>\n",
       "                        <td id=\"T_1c8456c2_900c_11e9_8b4f_fcf8ae950b1erow17_col2\" class=\"data row17 col2\" >0.638235</td>\n",
       "            </tr>\n",
       "            <tr>\n",
       "                        <th id=\"T_1c8456c2_900c_11e9_8b4f_fcf8ae950b1elevel0_row18\" class=\"row_heading level0 row18\" >19</th>\n",
       "                        <td id=\"T_1c8456c2_900c_11e9_8b4f_fcf8ae950b1erow18_col0\" class=\"data row18 col0\" >0.569118</td>\n",
       "                        <td id=\"T_1c8456c2_900c_11e9_8b4f_fcf8ae950b1erow18_col1\" class=\"data row18 col1\" >0.605882</td>\n",
       "                        <td id=\"T_1c8456c2_900c_11e9_8b4f_fcf8ae950b1erow18_col2\" class=\"data row18 col2\" >0.645588</td>\n",
       "            </tr>\n",
       "            <tr>\n",
       "                        <th id=\"T_1c8456c2_900c_11e9_8b4f_fcf8ae950b1elevel0_row19\" class=\"row_heading level0 row19\" >20</th>\n",
       "                        <td id=\"T_1c8456c2_900c_11e9_8b4f_fcf8ae950b1erow19_col0\" class=\"data row19 col0\" >0.617084</td>\n",
       "                        <td id=\"T_1c8456c2_900c_11e9_8b4f_fcf8ae950b1erow19_col1\" class=\"data row19 col1\" >0.630339</td>\n",
       "                        <td id=\"T_1c8456c2_900c_11e9_8b4f_fcf8ae950b1erow19_col2\" class=\"data row19 col2\" >0.639175</td>\n",
       "            </tr>\n",
       "    </tbody></table>"
      ],
      "text/plain": [
       "<pandas.io.formats.style.Styler at 0x7fa49f30ca50>"
      ]
     },
     "execution_count": 39,
     "metadata": {},
     "output_type": "execute_result"
    }
   ],
   "source": [
    "stocks_accuracy_table.style.apply(highlight_max, axis=0)"
   ]
  },
  {
   "cell_type": "code",
   "execution_count": 40,
   "metadata": {},
   "outputs": [
    {
     "data": {
      "text/html": [
       "<style  type=\"text/css\" >\n",
       "    #T_1c8456c3_900c_11e9_8b4f_fcf8ae950b1erow14_col1 {\n",
       "            background-color:  yellow;\n",
       "        }    #T_1c8456c3_900c_11e9_8b4f_fcf8ae950b1erow16_col0 {\n",
       "            background-color:  yellow;\n",
       "        }    #T_1c8456c3_900c_11e9_8b4f_fcf8ae950b1erow18_col0 {\n",
       "            background-color:  yellow;\n",
       "        }    #T_1c8456c3_900c_11e9_8b4f_fcf8ae950b1erow19_col2 {\n",
       "            background-color:  yellow;\n",
       "        }</style><table id=\"T_1c8456c3_900c_11e9_8b4f_fcf8ae950b1e\" ><thead>    <tr>        <th class=\"blank level0\" ></th>        <th class=\"col_heading level0 col0\" >DJI</th>        <th class=\"col_heading level0 col1\" >GSPC</th>        <th class=\"col_heading level0 col2\" >NDX</th>    </tr></thead><tbody>\n",
       "                <tr>\n",
       "                        <th id=\"T_1c8456c3_900c_11e9_8b4f_fcf8ae950b1elevel0_row0\" class=\"row_heading level0 row0\" >1</th>\n",
       "                        <td id=\"T_1c8456c3_900c_11e9_8b4f_fcf8ae950b1erow0_col0\" class=\"data row0 col0\" >0.54386</td>\n",
       "                        <td id=\"T_1c8456c3_900c_11e9_8b4f_fcf8ae950b1erow0_col1\" class=\"data row0 col1\" >0.52924</td>\n",
       "                        <td id=\"T_1c8456c3_900c_11e9_8b4f_fcf8ae950b1erow0_col2\" class=\"data row0 col2\" >0.55848</td>\n",
       "            </tr>\n",
       "            <tr>\n",
       "                        <th id=\"T_1c8456c3_900c_11e9_8b4f_fcf8ae950b1elevel0_row1\" class=\"row_heading level0 row1\" >2</th>\n",
       "                        <td id=\"T_1c8456c3_900c_11e9_8b4f_fcf8ae950b1erow1_col0\" class=\"data row1 col0\" >0.577485</td>\n",
       "                        <td id=\"T_1c8456c3_900c_11e9_8b4f_fcf8ae950b1erow1_col1\" class=\"data row1 col1\" >0.554094</td>\n",
       "                        <td id=\"T_1c8456c3_900c_11e9_8b4f_fcf8ae950b1erow1_col2\" class=\"data row1 col2\" >0.530702</td>\n",
       "            </tr>\n",
       "            <tr>\n",
       "                        <th id=\"T_1c8456c3_900c_11e9_8b4f_fcf8ae950b1elevel0_row2\" class=\"row_heading level0 row2\" >3</th>\n",
       "                        <td id=\"T_1c8456c3_900c_11e9_8b4f_fcf8ae950b1erow2_col0\" class=\"data row2 col0\" >0.577485</td>\n",
       "                        <td id=\"T_1c8456c3_900c_11e9_8b4f_fcf8ae950b1erow2_col1\" class=\"data row2 col1\" >0.549708</td>\n",
       "                        <td id=\"T_1c8456c3_900c_11e9_8b4f_fcf8ae950b1erow2_col2\" class=\"data row2 col2\" >0.589181</td>\n",
       "            </tr>\n",
       "            <tr>\n",
       "                        <th id=\"T_1c8456c3_900c_11e9_8b4f_fcf8ae950b1elevel0_row3\" class=\"row_heading level0 row3\" >4</th>\n",
       "                        <td id=\"T_1c8456c3_900c_11e9_8b4f_fcf8ae950b1erow3_col0\" class=\"data row3 col0\" >0.560761</td>\n",
       "                        <td id=\"T_1c8456c3_900c_11e9_8b4f_fcf8ae950b1erow3_col1\" class=\"data row3 col1\" >0.560761</td>\n",
       "                        <td id=\"T_1c8456c3_900c_11e9_8b4f_fcf8ae950b1erow3_col2\" class=\"data row3 col2\" >0.557833</td>\n",
       "            </tr>\n",
       "            <tr>\n",
       "                        <th id=\"T_1c8456c3_900c_11e9_8b4f_fcf8ae950b1elevel0_row4\" class=\"row_heading level0 row4\" >5</th>\n",
       "                        <td id=\"T_1c8456c3_900c_11e9_8b4f_fcf8ae950b1erow4_col0\" class=\"data row4 col0\" >0.584187</td>\n",
       "                        <td id=\"T_1c8456c3_900c_11e9_8b4f_fcf8ae950b1erow4_col1\" class=\"data row4 col1\" >0.549048</td>\n",
       "                        <td id=\"T_1c8456c3_900c_11e9_8b4f_fcf8ae950b1erow4_col2\" class=\"data row4 col2\" >0.582723</td>\n",
       "            </tr>\n",
       "            <tr>\n",
       "                        <th id=\"T_1c8456c3_900c_11e9_8b4f_fcf8ae950b1elevel0_row5\" class=\"row_heading level0 row5\" >6</th>\n",
       "                        <td id=\"T_1c8456c3_900c_11e9_8b4f_fcf8ae950b1erow5_col0\" class=\"data row5 col0\" >0.530015</td>\n",
       "                        <td id=\"T_1c8456c3_900c_11e9_8b4f_fcf8ae950b1erow5_col1\" class=\"data row5 col1\" >0.565154</td>\n",
       "                        <td id=\"T_1c8456c3_900c_11e9_8b4f_fcf8ae950b1erow5_col2\" class=\"data row5 col2\" >0.592972</td>\n",
       "            </tr>\n",
       "            <tr>\n",
       "                        <th id=\"T_1c8456c3_900c_11e9_8b4f_fcf8ae950b1elevel0_row6\" class=\"row_heading level0 row6\" >7</th>\n",
       "                        <td id=\"T_1c8456c3_900c_11e9_8b4f_fcf8ae950b1erow6_col0\" class=\"data row6 col0\" >0.591508</td>\n",
       "                        <td id=\"T_1c8456c3_900c_11e9_8b4f_fcf8ae950b1erow6_col1\" class=\"data row6 col1\" >0.601757</td>\n",
       "                        <td id=\"T_1c8456c3_900c_11e9_8b4f_fcf8ae950b1erow6_col2\" class=\"data row6 col2\" >0.628111</td>\n",
       "            </tr>\n",
       "            <tr>\n",
       "                        <th id=\"T_1c8456c3_900c_11e9_8b4f_fcf8ae950b1elevel0_row7\" class=\"row_heading level0 row7\" >8</th>\n",
       "                        <td id=\"T_1c8456c3_900c_11e9_8b4f_fcf8ae950b1erow7_col0\" class=\"data row7 col0\" >0.602639</td>\n",
       "                        <td id=\"T_1c8456c3_900c_11e9_8b4f_fcf8ae950b1erow7_col1\" class=\"data row7 col1\" >0.615836</td>\n",
       "                        <td id=\"T_1c8456c3_900c_11e9_8b4f_fcf8ae950b1erow7_col2\" class=\"data row7 col2\" >0.605572</td>\n",
       "            </tr>\n",
       "            <tr>\n",
       "                        <th id=\"T_1c8456c3_900c_11e9_8b4f_fcf8ae950b1elevel0_row8\" class=\"row_heading level0 row8\" >9</th>\n",
       "                        <td id=\"T_1c8456c3_900c_11e9_8b4f_fcf8ae950b1erow8_col0\" class=\"data row8 col0\" >0.56305</td>\n",
       "                        <td id=\"T_1c8456c3_900c_11e9_8b4f_fcf8ae950b1erow8_col1\" class=\"data row8 col1\" >0.648094</td>\n",
       "                        <td id=\"T_1c8456c3_900c_11e9_8b4f_fcf8ae950b1erow8_col2\" class=\"data row8 col2\" >0.587977</td>\n",
       "            </tr>\n",
       "            <tr>\n",
       "                        <th id=\"T_1c8456c3_900c_11e9_8b4f_fcf8ae950b1elevel0_row9\" class=\"row_heading level0 row9\" >10</th>\n",
       "                        <td id=\"T_1c8456c3_900c_11e9_8b4f_fcf8ae950b1erow9_col0\" class=\"data row9 col0\" >0.615836</td>\n",
       "                        <td id=\"T_1c8456c3_900c_11e9_8b4f_fcf8ae950b1erow9_col1\" class=\"data row9 col1\" >0.615836</td>\n",
       "                        <td id=\"T_1c8456c3_900c_11e9_8b4f_fcf8ae950b1erow9_col2\" class=\"data row9 col2\" >0.607038</td>\n",
       "            </tr>\n",
       "            <tr>\n",
       "                        <th id=\"T_1c8456c3_900c_11e9_8b4f_fcf8ae950b1elevel0_row10\" class=\"row_heading level0 row10\" >11</th>\n",
       "                        <td id=\"T_1c8456c3_900c_11e9_8b4f_fcf8ae950b1erow10_col0\" class=\"data row10 col0\" >0.579179</td>\n",
       "                        <td id=\"T_1c8456c3_900c_11e9_8b4f_fcf8ae950b1erow10_col1\" class=\"data row10 col1\" >0.587977</td>\n",
       "                        <td id=\"T_1c8456c3_900c_11e9_8b4f_fcf8ae950b1erow10_col2\" class=\"data row10 col2\" >0.629032</td>\n",
       "            </tr>\n",
       "            <tr>\n",
       "                        <th id=\"T_1c8456c3_900c_11e9_8b4f_fcf8ae950b1elevel0_row11\" class=\"row_heading level0 row11\" >12</th>\n",
       "                        <td id=\"T_1c8456c3_900c_11e9_8b4f_fcf8ae950b1erow11_col0\" class=\"data row11 col0\" >0.627019</td>\n",
       "                        <td id=\"T_1c8456c3_900c_11e9_8b4f_fcf8ae950b1erow11_col1\" class=\"data row11 col1\" >0.58884</td>\n",
       "                        <td id=\"T_1c8456c3_900c_11e9_8b4f_fcf8ae950b1erow11_col2\" class=\"data row11 col2\" >0.622614</td>\n",
       "            </tr>\n",
       "            <tr>\n",
       "                        <th id=\"T_1c8456c3_900c_11e9_8b4f_fcf8ae950b1elevel0_row12\" class=\"row_heading level0 row12\" >13</th>\n",
       "                        <td id=\"T_1c8456c3_900c_11e9_8b4f_fcf8ae950b1erow12_col0\" class=\"data row12 col0\" >0.612335</td>\n",
       "                        <td id=\"T_1c8456c3_900c_11e9_8b4f_fcf8ae950b1erow12_col1\" class=\"data row12 col1\" >0.593245</td>\n",
       "                        <td id=\"T_1c8456c3_900c_11e9_8b4f_fcf8ae950b1erow12_col2\" class=\"data row12 col2\" >0.619677</td>\n",
       "            </tr>\n",
       "            <tr>\n",
       "                        <th id=\"T_1c8456c3_900c_11e9_8b4f_fcf8ae950b1elevel0_row13\" class=\"row_heading level0 row13\" >14</th>\n",
       "                        <td id=\"T_1c8456c3_900c_11e9_8b4f_fcf8ae950b1erow13_col0\" class=\"data row13 col0\" >0.610866</td>\n",
       "                        <td id=\"T_1c8456c3_900c_11e9_8b4f_fcf8ae950b1erow13_col1\" class=\"data row13 col1\" >0.634361</td>\n",
       "                        <td id=\"T_1c8456c3_900c_11e9_8b4f_fcf8ae950b1erow13_col2\" class=\"data row13 col2\" >0.637298</td>\n",
       "            </tr>\n",
       "            <tr>\n",
       "                        <th id=\"T_1c8456c3_900c_11e9_8b4f_fcf8ae950b1elevel0_row14\" class=\"row_heading level0 row14\" >15</th>\n",
       "                        <td id=\"T_1c8456c3_900c_11e9_8b4f_fcf8ae950b1erow14_col0\" class=\"data row14 col0\" >0.625551</td>\n",
       "                        <td id=\"T_1c8456c3_900c_11e9_8b4f_fcf8ae950b1erow14_col1\" class=\"data row14 col1\" >0.651982</td>\n",
       "                        <td id=\"T_1c8456c3_900c_11e9_8b4f_fcf8ae950b1erow14_col2\" class=\"data row14 col2\" >0.621145</td>\n",
       "            </tr>\n",
       "            <tr>\n",
       "                        <th id=\"T_1c8456c3_900c_11e9_8b4f_fcf8ae950b1elevel0_row15\" class=\"row_heading level0 row15\" >16</th>\n",
       "                        <td id=\"T_1c8456c3_900c_11e9_8b4f_fcf8ae950b1erow15_col0\" class=\"data row15 col0\" >0.638235</td>\n",
       "                        <td id=\"T_1c8456c3_900c_11e9_8b4f_fcf8ae950b1erow15_col1\" class=\"data row15 col1\" >0.619118</td>\n",
       "                        <td id=\"T_1c8456c3_900c_11e9_8b4f_fcf8ae950b1erow15_col2\" class=\"data row15 col2\" >0.639706</td>\n",
       "            </tr>\n",
       "            <tr>\n",
       "                        <th id=\"T_1c8456c3_900c_11e9_8b4f_fcf8ae950b1elevel0_row16\" class=\"row_heading level0 row16\" >17</th>\n",
       "                        <td id=\"T_1c8456c3_900c_11e9_8b4f_fcf8ae950b1erow16_col0\" class=\"data row16 col0\" >0.641176</td>\n",
       "                        <td id=\"T_1c8456c3_900c_11e9_8b4f_fcf8ae950b1erow16_col1\" class=\"data row16 col1\" >0.610294</td>\n",
       "                        <td id=\"T_1c8456c3_900c_11e9_8b4f_fcf8ae950b1erow16_col2\" class=\"data row16 col2\" >0.619118</td>\n",
       "            </tr>\n",
       "            <tr>\n",
       "                        <th id=\"T_1c8456c3_900c_11e9_8b4f_fcf8ae950b1elevel0_row17\" class=\"row_heading level0 row17\" >18</th>\n",
       "                        <td id=\"T_1c8456c3_900c_11e9_8b4f_fcf8ae950b1erow17_col0\" class=\"data row17 col0\" >0.636765</td>\n",
       "                        <td id=\"T_1c8456c3_900c_11e9_8b4f_fcf8ae950b1erow17_col1\" class=\"data row17 col1\" >0.65</td>\n",
       "                        <td id=\"T_1c8456c3_900c_11e9_8b4f_fcf8ae950b1erow17_col2\" class=\"data row17 col2\" >0.622059</td>\n",
       "            </tr>\n",
       "            <tr>\n",
       "                        <th id=\"T_1c8456c3_900c_11e9_8b4f_fcf8ae950b1elevel0_row18\" class=\"row_heading level0 row18\" >19</th>\n",
       "                        <td id=\"T_1c8456c3_900c_11e9_8b4f_fcf8ae950b1erow18_col0\" class=\"data row18 col0\" >0.641176</td>\n",
       "                        <td id=\"T_1c8456c3_900c_11e9_8b4f_fcf8ae950b1erow18_col1\" class=\"data row18 col1\" >0.589706</td>\n",
       "                        <td id=\"T_1c8456c3_900c_11e9_8b4f_fcf8ae950b1erow18_col2\" class=\"data row18 col2\" >0.675</td>\n",
       "            </tr>\n",
       "            <tr>\n",
       "                        <th id=\"T_1c8456c3_900c_11e9_8b4f_fcf8ae950b1elevel0_row19\" class=\"row_heading level0 row19\" >20</th>\n",
       "                        <td id=\"T_1c8456c3_900c_11e9_8b4f_fcf8ae950b1erow19_col0\" class=\"data row19 col0\" >0.634757</td>\n",
       "                        <td id=\"T_1c8456c3_900c_11e9_8b4f_fcf8ae950b1erow19_col1\" class=\"data row19 col1\" >0.643594</td>\n",
       "                        <td id=\"T_1c8456c3_900c_11e9_8b4f_fcf8ae950b1erow19_col2\" class=\"data row19 col2\" >0.675994</td>\n",
       "            </tr>\n",
       "    </tbody></table>"
      ],
      "text/plain": [
       "<pandas.io.formats.style.Styler at 0x7fa49edf6f10>"
      ]
     },
     "execution_count": 40,
     "metadata": {},
     "output_type": "execute_result"
    }
   ],
   "source": [
    "indices_accuracy_table.style.apply(highlight_max, axis=0)"
   ]
  },
  {
   "cell_type": "code",
   "execution_count": 41,
   "metadata": {},
   "outputs": [
    {
     "data": {
      "text/html": [
       "<style  type=\"text/css\" >\n",
       "    #T_1e04317a_900c_11e9_8b4f_fcf8ae950b1erow16_col1 {\n",
       "            background-color:  yellow;\n",
       "        }    #T_1e04317a_900c_11e9_8b4f_fcf8ae950b1erow18_col2 {\n",
       "            background-color:  yellow;\n",
       "        }    #T_1e04317a_900c_11e9_8b4f_fcf8ae950b1erow19_col0 {\n",
       "            background-color:  yellow;\n",
       "        }</style><table id=\"T_1e04317a_900c_11e9_8b4f_fcf8ae950b1e\" ><thead>    <tr>        <th class=\"blank level0\" ></th>        <th class=\"col_heading level0 col0\" >GOOG</th>        <th class=\"col_heading level0 col1\" >AAPL</th>        <th class=\"col_heading level0 col2\" >AMZN</th>    </tr></thead><tbody>\n",
       "                <tr>\n",
       "                        <th id=\"T_1e04317a_900c_11e9_8b4f_fcf8ae950b1elevel0_row0\" class=\"row_heading level0 row0\" >1</th>\n",
       "                        <td id=\"T_1e04317a_900c_11e9_8b4f_fcf8ae950b1erow0_col0\" class=\"data row0 col0\" >0.652217</td>\n",
       "                        <td id=\"T_1e04317a_900c_11e9_8b4f_fcf8ae950b1erow0_col1\" class=\"data row0 col1\" >0.709434</td>\n",
       "                        <td id=\"T_1e04317a_900c_11e9_8b4f_fcf8ae950b1erow0_col2\" class=\"data row0 col2\" >0.671845</td>\n",
       "            </tr>\n",
       "            <tr>\n",
       "                        <th id=\"T_1e04317a_900c_11e9_8b4f_fcf8ae950b1elevel0_row1\" class=\"row_heading level0 row1\" >2</th>\n",
       "                        <td id=\"T_1e04317a_900c_11e9_8b4f_fcf8ae950b1erow1_col0\" class=\"data row1 col0\" >0.704545</td>\n",
       "                        <td id=\"T_1e04317a_900c_11e9_8b4f_fcf8ae950b1erow1_col1\" class=\"data row1 col1\" >0.682081</td>\n",
       "                        <td id=\"T_1e04317a_900c_11e9_8b4f_fcf8ae950b1erow1_col2\" class=\"data row1 col2\" >0.692161</td>\n",
       "            </tr>\n",
       "            <tr>\n",
       "                        <th id=\"T_1e04317a_900c_11e9_8b4f_fcf8ae950b1elevel0_row2\" class=\"row_heading level0 row2\" >3</th>\n",
       "                        <td id=\"T_1e04317a_900c_11e9_8b4f_fcf8ae950b1erow2_col0\" class=\"data row2 col0\" >0.689655</td>\n",
       "                        <td id=\"T_1e04317a_900c_11e9_8b4f_fcf8ae950b1erow2_col1\" class=\"data row2 col1\" >0.702087</td>\n",
       "                        <td id=\"T_1e04317a_900c_11e9_8b4f_fcf8ae950b1erow2_col2\" class=\"data row2 col2\" >0.703318</td>\n",
       "            </tr>\n",
       "            <tr>\n",
       "                        <th id=\"T_1e04317a_900c_11e9_8b4f_fcf8ae950b1elevel0_row3\" class=\"row_heading level0 row3\" >4</th>\n",
       "                        <td id=\"T_1e04317a_900c_11e9_8b4f_fcf8ae950b1erow3_col0\" class=\"data row3 col0\" >0.705213</td>\n",
       "                        <td id=\"T_1e04317a_900c_11e9_8b4f_fcf8ae950b1erow3_col1\" class=\"data row3 col1\" >0.703985</td>\n",
       "                        <td id=\"T_1e04317a_900c_11e9_8b4f_fcf8ae950b1erow3_col2\" class=\"data row3 col2\" >0.6878</td>\n",
       "            </tr>\n",
       "            <tr>\n",
       "                        <th id=\"T_1e04317a_900c_11e9_8b4f_fcf8ae950b1elevel0_row4\" class=\"row_heading level0 row4\" >5</th>\n",
       "                        <td id=\"T_1e04317a_900c_11e9_8b4f_fcf8ae950b1erow4_col0\" class=\"data row4 col0\" >0.714958</td>\n",
       "                        <td id=\"T_1e04317a_900c_11e9_8b4f_fcf8ae950b1erow4_col1\" class=\"data row4 col1\" >0.734013</td>\n",
       "                        <td id=\"T_1e04317a_900c_11e9_8b4f_fcf8ae950b1erow4_col2\" class=\"data row4 col2\" >0.707663</td>\n",
       "            </tr>\n",
       "            <tr>\n",
       "                        <th id=\"T_1e04317a_900c_11e9_8b4f_fcf8ae950b1elevel0_row5\" class=\"row_heading level0 row5\" >6</th>\n",
       "                        <td id=\"T_1e04317a_900c_11e9_8b4f_fcf8ae950b1erow5_col0\" class=\"data row5 col0\" >0.713748</td>\n",
       "                        <td id=\"T_1e04317a_900c_11e9_8b4f_fcf8ae950b1erow5_col1\" class=\"data row5 col1\" >0.714958</td>\n",
       "                        <td id=\"T_1e04317a_900c_11e9_8b4f_fcf8ae950b1erow5_col2\" class=\"data row5 col2\" >0.758182</td>\n",
       "            </tr>\n",
       "            <tr>\n",
       "                        <th id=\"T_1e04317a_900c_11e9_8b4f_fcf8ae950b1elevel0_row6\" class=\"row_heading level0 row6\" >7</th>\n",
       "                        <td id=\"T_1e04317a_900c_11e9_8b4f_fcf8ae950b1erow6_col0\" class=\"data row6 col0\" >0.72217</td>\n",
       "                        <td id=\"T_1e04317a_900c_11e9_8b4f_fcf8ae950b1erow6_col1\" class=\"data row6 col1\" >0.726934</td>\n",
       "                        <td id=\"T_1e04317a_900c_11e9_8b4f_fcf8ae950b1erow6_col2\" class=\"data row6 col2\" >0.734013</td>\n",
       "            </tr>\n",
       "            <tr>\n",
       "                        <th id=\"T_1e04317a_900c_11e9_8b4f_fcf8ae950b1elevel0_row7\" class=\"row_heading level0 row7\" >8</th>\n",
       "                        <td id=\"T_1e04317a_900c_11e9_8b4f_fcf8ae950b1erow7_col0\" class=\"data row7 col0\" >0.711992</td>\n",
       "                        <td id=\"T_1e04317a_900c_11e9_8b4f_fcf8ae950b1erow7_col1\" class=\"data row7 col1\" >0.74517</td>\n",
       "                        <td id=\"T_1e04317a_900c_11e9_8b4f_fcf8ae950b1erow7_col2\" class=\"data row7 col2\" >0.74517</td>\n",
       "            </tr>\n",
       "            <tr>\n",
       "                        <th id=\"T_1e04317a_900c_11e9_8b4f_fcf8ae950b1elevel0_row8\" class=\"row_heading level0 row8\" >9</th>\n",
       "                        <td id=\"T_1e04317a_900c_11e9_8b4f_fcf8ae950b1erow8_col0\" class=\"data row8 col0\" >0.71442</td>\n",
       "                        <td id=\"T_1e04317a_900c_11e9_8b4f_fcf8ae950b1erow8_col1\" class=\"data row8 col1\" >0.761126</td>\n",
       "                        <td id=\"T_1e04317a_900c_11e9_8b4f_fcf8ae950b1erow8_col2\" class=\"data row8 col2\" >0.732342</td>\n",
       "            </tr>\n",
       "            <tr>\n",
       "                        <th id=\"T_1e04317a_900c_11e9_8b4f_fcf8ae950b1elevel0_row9\" class=\"row_heading level0 row9\" >10</th>\n",
       "                        <td id=\"T_1e04317a_900c_11e9_8b4f_fcf8ae950b1erow9_col0\" class=\"data row9 col0\" >0.713208</td>\n",
       "                        <td id=\"T_1e04317a_900c_11e9_8b4f_fcf8ae950b1erow9_col1\" class=\"data row9 col1\" >0.744015</td>\n",
       "                        <td id=\"T_1e04317a_900c_11e9_8b4f_fcf8ae950b1erow9_col2\" class=\"data row9 col2\" >0.756609</td>\n",
       "            </tr>\n",
       "            <tr>\n",
       "                        <th id=\"T_1e04317a_900c_11e9_8b4f_fcf8ae950b1elevel0_row10\" class=\"row_heading level0 row10\" >11</th>\n",
       "                        <td id=\"T_1e04317a_900c_11e9_8b4f_fcf8ae950b1erow10_col0\" class=\"data row10 col0\" >0.719249</td>\n",
       "                        <td id=\"T_1e04317a_900c_11e9_8b4f_fcf8ae950b1erow10_col1\" class=\"data row10 col1\" >0.757741</td>\n",
       "                        <td id=\"T_1e04317a_900c_11e9_8b4f_fcf8ae950b1erow10_col2\" class=\"data row10 col2\" >0.746324</td>\n",
       "            </tr>\n",
       "            <tr>\n",
       "                        <th id=\"T_1e04317a_900c_11e9_8b4f_fcf8ae950b1elevel0_row11\" class=\"row_heading level0 row11\" >12</th>\n",
       "                        <td id=\"T_1e04317a_900c_11e9_8b4f_fcf8ae950b1erow11_col0\" class=\"data row11 col0\" >0.730662</td>\n",
       "                        <td id=\"T_1e04317a_900c_11e9_8b4f_fcf8ae950b1erow11_col1\" class=\"data row11 col1\" >0.768535</td>\n",
       "                        <td id=\"T_1e04317a_900c_11e9_8b4f_fcf8ae950b1erow11_col2\" class=\"data row11 col2\" >0.756164</td>\n",
       "            </tr>\n",
       "            <tr>\n",
       "                        <th id=\"T_1e04317a_900c_11e9_8b4f_fcf8ae950b1elevel0_row12\" class=\"row_heading level0 row12\" >13</th>\n",
       "                        <td id=\"T_1e04317a_900c_11e9_8b4f_fcf8ae950b1erow12_col0\" class=\"data row12 col0\" >0.74122</td>\n",
       "                        <td id=\"T_1e04317a_900c_11e9_8b4f_fcf8ae950b1erow12_col1\" class=\"data row12 col1\" >0.727103</td>\n",
       "                        <td id=\"T_1e04317a_900c_11e9_8b4f_fcf8ae950b1erow12_col2\" class=\"data row12 col2\" >0.74701</td>\n",
       "            </tr>\n",
       "            <tr>\n",
       "                        <th id=\"T_1e04317a_900c_11e9_8b4f_fcf8ae950b1elevel0_row13\" class=\"row_heading level0 row13\" >14</th>\n",
       "                        <td id=\"T_1e04317a_900c_11e9_8b4f_fcf8ae950b1erow13_col0\" class=\"data row13 col0\" >0.73772</td>\n",
       "                        <td id=\"T_1e04317a_900c_11e9_8b4f_fcf8ae950b1erow13_col1\" class=\"data row13 col1\" >0.761818</td>\n",
       "                        <td id=\"T_1e04317a_900c_11e9_8b4f_fcf8ae950b1erow13_col2\" class=\"data row13 col2\" >0.743542</td>\n",
       "            </tr>\n",
       "            <tr>\n",
       "                        <th id=\"T_1e04317a_900c_11e9_8b4f_fcf8ae950b1elevel0_row14\" class=\"row_heading level0 row14\" >15</th>\n",
       "                        <td id=\"T_1e04317a_900c_11e9_8b4f_fcf8ae950b1erow14_col0\" class=\"data row14 col0\" >0.730662</td>\n",
       "                        <td id=\"T_1e04317a_900c_11e9_8b4f_fcf8ae950b1erow14_col1\" class=\"data row14 col1\" >0.750459</td>\n",
       "                        <td id=\"T_1e04317a_900c_11e9_8b4f_fcf8ae950b1erow14_col2\" class=\"data row14 col2\" >0.756164</td>\n",
       "            </tr>\n",
       "            <tr>\n",
       "                        <th id=\"T_1e04317a_900c_11e9_8b4f_fcf8ae950b1elevel0_row15\" class=\"row_heading level0 row15\" >16</th>\n",
       "                        <td id=\"T_1e04317a_900c_11e9_8b4f_fcf8ae950b1erow15_col0\" class=\"data row15 col0\" >0.720602</td>\n",
       "                        <td id=\"T_1e04317a_900c_11e9_8b4f_fcf8ae950b1erow15_col1\" class=\"data row15 col1\" >0.752294</td>\n",
       "                        <td id=\"T_1e04317a_900c_11e9_8b4f_fcf8ae950b1erow15_col2\" class=\"data row15 col2\" >0.728972</td>\n",
       "            </tr>\n",
       "            <tr>\n",
       "                        <th id=\"T_1e04317a_900c_11e9_8b4f_fcf8ae950b1elevel0_row16\" class=\"row_heading level0 row16\" >17</th>\n",
       "                        <td id=\"T_1e04317a_900c_11e9_8b4f_fcf8ae950b1erow16_col0\" class=\"data row16 col0\" >0.746544</td>\n",
       "                        <td id=\"T_1e04317a_900c_11e9_8b4f_fcf8ae950b1erow16_col1\" class=\"data row16 col1\" >0.786798</td>\n",
       "                        <td id=\"T_1e04317a_900c_11e9_8b4f_fcf8ae950b1erow16_col2\" class=\"data row16 col2\" >0.772563</td>\n",
       "            </tr>\n",
       "            <tr>\n",
       "                        <th id=\"T_1e04317a_900c_11e9_8b4f_fcf8ae950b1elevel0_row17\" class=\"row_heading level0 row17\" >18</th>\n",
       "                        <td id=\"T_1e04317a_900c_11e9_8b4f_fcf8ae950b1erow17_col0\" class=\"data row17 col0\" >0.752294</td>\n",
       "                        <td id=\"T_1e04317a_900c_11e9_8b4f_fcf8ae950b1erow17_col1\" class=\"data row17 col1\" >0.75</td>\n",
       "                        <td id=\"T_1e04317a_900c_11e9_8b4f_fcf8ae950b1erow17_col2\" class=\"data row17 col2\" >0.779174</td>\n",
       "            </tr>\n",
       "            <tr>\n",
       "                        <th id=\"T_1e04317a_900c_11e9_8b4f_fcf8ae950b1elevel0_row18\" class=\"row_heading level0 row18\" >19</th>\n",
       "                        <td id=\"T_1e04317a_900c_11e9_8b4f_fcf8ae950b1erow18_col0\" class=\"data row18 col0\" >0.725398</td>\n",
       "                        <td id=\"T_1e04317a_900c_11e9_8b4f_fcf8ae950b1erow18_col1\" class=\"data row18 col1\" >0.754579</td>\n",
       "                        <td id=\"T_1e04317a_900c_11e9_8b4f_fcf8ae950b1erow18_col2\" class=\"data row18 col2\" >0.784629</td>\n",
       "            </tr>\n",
       "            <tr>\n",
       "                        <th id=\"T_1e04317a_900c_11e9_8b4f_fcf8ae950b1elevel0_row19\" class=\"row_heading level0 row19\" >20</th>\n",
       "                        <td id=\"T_1e04317a_900c_11e9_8b4f_fcf8ae950b1erow19_col0\" class=\"data row19 col0\" >0.763206</td>\n",
       "                        <td id=\"T_1e04317a_900c_11e9_8b4f_fcf8ae950b1erow19_col1\" class=\"data row19 col1\" >0.773261</td>\n",
       "                        <td id=\"T_1e04317a_900c_11e9_8b4f_fcf8ae950b1erow19_col2\" class=\"data row19 col2\" >0.779874</td>\n",
       "            </tr>\n",
       "    </tbody></table>"
      ],
      "text/plain": [
       "<pandas.io.formats.style.Styler at 0x7fa49edf6790>"
      ]
     },
     "execution_count": 41,
     "metadata": {},
     "output_type": "execute_result"
    }
   ],
   "source": [
    "stocks_f1_table.style.apply(highlight_max, axis=0)"
   ]
  },
  {
   "cell_type": "code",
   "execution_count": 42,
   "metadata": {},
   "outputs": [
    {
     "data": {
      "text/html": [
       "<style  type=\"text/css\" >\n",
       "    #T_1f3c46ae_900c_11e9_8b4f_fcf8ae950b1erow14_col1 {\n",
       "            background-color:  yellow;\n",
       "        }    #T_1f3c46ae_900c_11e9_8b4f_fcf8ae950b1erow16_col0 {\n",
       "            background-color:  yellow;\n",
       "        }    #T_1f3c46ae_900c_11e9_8b4f_fcf8ae950b1erow18_col0 {\n",
       "            background-color:  yellow;\n",
       "        }    #T_1f3c46ae_900c_11e9_8b4f_fcf8ae950b1erow19_col2 {\n",
       "            background-color:  yellow;\n",
       "        }</style><table id=\"T_1f3c46ae_900c_11e9_8b4f_fcf8ae950b1e\" ><thead>    <tr>        <th class=\"blank level0\" ></th>        <th class=\"col_heading level0 col0\" >DJI</th>        <th class=\"col_heading level0 col1\" >GSPC</th>        <th class=\"col_heading level0 col2\" >NDX</th>    </tr></thead><tbody>\n",
       "                <tr>\n",
       "                        <th id=\"T_1f3c46ae_900c_11e9_8b4f_fcf8ae950b1elevel0_row0\" class=\"row_heading level0 row0\" >1</th>\n",
       "                        <td id=\"T_1f3c46ae_900c_11e9_8b4f_fcf8ae950b1erow0_col0\" class=\"data row0 col0\" >0.704545</td>\n",
       "                        <td id=\"T_1f3c46ae_900c_11e9_8b4f_fcf8ae950b1erow0_col1\" class=\"data row0 col1\" >0.692161</td>\n",
       "                        <td id=\"T_1f3c46ae_900c_11e9_8b4f_fcf8ae950b1erow0_col2\" class=\"data row0 col2\" >0.716698</td>\n",
       "            </tr>\n",
       "            <tr>\n",
       "                        <th id=\"T_1f3c46ae_900c_11e9_8b4f_fcf8ae950b1elevel0_row1\" class=\"row_heading level0 row1\" >2</th>\n",
       "                        <td id=\"T_1f3c46ae_900c_11e9_8b4f_fcf8ae950b1erow1_col0\" class=\"data row1 col0\" >0.732159</td>\n",
       "                        <td id=\"T_1f3c46ae_900c_11e9_8b4f_fcf8ae950b1erow1_col1\" class=\"data row1 col1\" >0.713076</td>\n",
       "                        <td id=\"T_1f3c46ae_900c_11e9_8b4f_fcf8ae950b1erow1_col2\" class=\"data row1 col2\" >0.69341</td>\n",
       "            </tr>\n",
       "            <tr>\n",
       "                        <th id=\"T_1f3c46ae_900c_11e9_8b4f_fcf8ae950b1elevel0_row2\" class=\"row_heading level0 row2\" >3</th>\n",
       "                        <td id=\"T_1f3c46ae_900c_11e9_8b4f_fcf8ae950b1erow2_col0\" class=\"data row2 col0\" >0.732159</td>\n",
       "                        <td id=\"T_1f3c46ae_900c_11e9_8b4f_fcf8ae950b1erow2_col1\" class=\"data row2 col1\" >0.709434</td>\n",
       "                        <td id=\"T_1f3c46ae_900c_11e9_8b4f_fcf8ae950b1erow2_col2\" class=\"data row2 col2\" >0.74149</td>\n",
       "            </tr>\n",
       "            <tr>\n",
       "                        <th id=\"T_1f3c46ae_900c_11e9_8b4f_fcf8ae950b1elevel0_row3\" class=\"row_heading level0 row3\" >4</th>\n",
       "                        <td id=\"T_1f3c46ae_900c_11e9_8b4f_fcf8ae950b1erow3_col0\" class=\"data row3 col0\" >0.718574</td>\n",
       "                        <td id=\"T_1f3c46ae_900c_11e9_8b4f_fcf8ae950b1erow3_col1\" class=\"data row3 col1\" >0.718574</td>\n",
       "                        <td id=\"T_1f3c46ae_900c_11e9_8b4f_fcf8ae950b1erow3_col2\" class=\"data row3 col2\" >0.716165</td>\n",
       "            </tr>\n",
       "            <tr>\n",
       "                        <th id=\"T_1f3c46ae_900c_11e9_8b4f_fcf8ae950b1elevel0_row4\" class=\"row_heading level0 row4\" >5</th>\n",
       "                        <td id=\"T_1f3c46ae_900c_11e9_8b4f_fcf8ae950b1erow4_col0\" class=\"data row4 col0\" >0.737523</td>\n",
       "                        <td id=\"T_1f3c46ae_900c_11e9_8b4f_fcf8ae950b1erow4_col1\" class=\"data row4 col1\" >0.708885</td>\n",
       "                        <td id=\"T_1f3c46ae_900c_11e9_8b4f_fcf8ae950b1erow4_col2\" class=\"data row4 col2\" >0.736355</td>\n",
       "            </tr>\n",
       "            <tr>\n",
       "                        <th id=\"T_1f3c46ae_900c_11e9_8b4f_fcf8ae950b1elevel0_row5\" class=\"row_heading level0 row5\" >6</th>\n",
       "                        <td id=\"T_1f3c46ae_900c_11e9_8b4f_fcf8ae950b1erow5_col0\" class=\"data row5 col0\" >0.692823</td>\n",
       "                        <td id=\"T_1f3c46ae_900c_11e9_8b4f_fcf8ae950b1erow5_col1\" class=\"data row5 col1\" >0.72217</td>\n",
       "                        <td id=\"T_1f3c46ae_900c_11e9_8b4f_fcf8ae950b1erow5_col2\" class=\"data row5 col2\" >0.744485</td>\n",
       "            </tr>\n",
       "            <tr>\n",
       "                        <th id=\"T_1f3c46ae_900c_11e9_8b4f_fcf8ae950b1elevel0_row6\" class=\"row_heading level0 row6\" >7</th>\n",
       "                        <td id=\"T_1f3c46ae_900c_11e9_8b4f_fcf8ae950b1erow6_col0\" class=\"data row6 col0\" >0.74333</td>\n",
       "                        <td id=\"T_1f3c46ae_900c_11e9_8b4f_fcf8ae950b1erow6_col1\" class=\"data row6 col1\" >0.751371</td>\n",
       "                        <td id=\"T_1f3c46ae_900c_11e9_8b4f_fcf8ae950b1erow6_col2\" class=\"data row6 col2\" >0.771583</td>\n",
       "            </tr>\n",
       "            <tr>\n",
       "                        <th id=\"T_1f3c46ae_900c_11e9_8b4f_fcf8ae950b1elevel0_row7\" class=\"row_heading level0 row7\" >8</th>\n",
       "                        <td id=\"T_1f3c46ae_900c_11e9_8b4f_fcf8ae950b1erow7_col0\" class=\"data row7 col0\" >0.752059</td>\n",
       "                        <td id=\"T_1f3c46ae_900c_11e9_8b4f_fcf8ae950b1erow7_col1\" class=\"data row7 col1\" >0.76225</td>\n",
       "                        <td id=\"T_1f3c46ae_900c_11e9_8b4f_fcf8ae950b1erow7_col2\" class=\"data row7 col2\" >0.754338</td>\n",
       "            </tr>\n",
       "            <tr>\n",
       "                        <th id=\"T_1f3c46ae_900c_11e9_8b4f_fcf8ae950b1elevel0_row8\" class=\"row_heading level0 row8\" >9</th>\n",
       "                        <td id=\"T_1f3c46ae_900c_11e9_8b4f_fcf8ae950b1erow8_col0\" class=\"data row8 col0\" >0.72045</td>\n",
       "                        <td id=\"T_1f3c46ae_900c_11e9_8b4f_fcf8ae950b1erow8_col1\" class=\"data row8 col1\" >0.786477</td>\n",
       "                        <td id=\"T_1f3c46ae_900c_11e9_8b4f_fcf8ae950b1erow8_col2\" class=\"data row8 col2\" >0.740536</td>\n",
       "            </tr>\n",
       "            <tr>\n",
       "                        <th id=\"T_1f3c46ae_900c_11e9_8b4f_fcf8ae950b1elevel0_row9\" class=\"row_heading level0 row9\" >10</th>\n",
       "                        <td id=\"T_1f3c46ae_900c_11e9_8b4f_fcf8ae950b1erow9_col0\" class=\"data row9 col0\" >0.76225</td>\n",
       "                        <td id=\"T_1f3c46ae_900c_11e9_8b4f_fcf8ae950b1erow9_col1\" class=\"data row9 col1\" >0.76225</td>\n",
       "                        <td id=\"T_1f3c46ae_900c_11e9_8b4f_fcf8ae950b1erow9_col2\" class=\"data row9 col2\" >0.755474</td>\n",
       "            </tr>\n",
       "            <tr>\n",
       "                        <th id=\"T_1f3c46ae_900c_11e9_8b4f_fcf8ae950b1elevel0_row10\" class=\"row_heading level0 row10\" >11</th>\n",
       "                        <td id=\"T_1f3c46ae_900c_11e9_8b4f_fcf8ae950b1erow10_col0\" class=\"data row10 col0\" >0.733519</td>\n",
       "                        <td id=\"T_1f3c46ae_900c_11e9_8b4f_fcf8ae950b1erow10_col1\" class=\"data row10 col1\" >0.740536</td>\n",
       "                        <td id=\"T_1f3c46ae_900c_11e9_8b4f_fcf8ae950b1erow10_col2\" class=\"data row10 col2\" >0.772277</td>\n",
       "            </tr>\n",
       "            <tr>\n",
       "                        <th id=\"T_1f3c46ae_900c_11e9_8b4f_fcf8ae950b1elevel0_row11\" class=\"row_heading level0 row11\" >12</th>\n",
       "                        <td id=\"T_1f3c46ae_900c_11e9_8b4f_fcf8ae950b1erow11_col0\" class=\"data row11 col0\" >0.770758</td>\n",
       "                        <td id=\"T_1f3c46ae_900c_11e9_8b4f_fcf8ae950b1erow11_col1\" class=\"data row11 col1\" >0.74122</td>\n",
       "                        <td id=\"T_1f3c46ae_900c_11e9_8b4f_fcf8ae950b1erow11_col2\" class=\"data row11 col2\" >0.767421</td>\n",
       "            </tr>\n",
       "            <tr>\n",
       "                        <th id=\"T_1f3c46ae_900c_11e9_8b4f_fcf8ae950b1elevel0_row12\" class=\"row_heading level0 row12\" >13</th>\n",
       "                        <td id=\"T_1f3c46ae_900c_11e9_8b4f_fcf8ae950b1erow12_col0\" class=\"data row12 col0\" >0.759563</td>\n",
       "                        <td id=\"T_1f3c46ae_900c_11e9_8b4f_fcf8ae950b1erow12_col1\" class=\"data row12 col1\" >0.7447</td>\n",
       "                        <td id=\"T_1f3c46ae_900c_11e9_8b4f_fcf8ae950b1erow12_col2\" class=\"data row12 col2\" >0.765186</td>\n",
       "            </tr>\n",
       "            <tr>\n",
       "                        <th id=\"T_1f3c46ae_900c_11e9_8b4f_fcf8ae950b1elevel0_row13\" class=\"row_heading level0 row13\" >14</th>\n",
       "                        <td id=\"T_1f3c46ae_900c_11e9_8b4f_fcf8ae950b1erow13_col0\" class=\"data row13 col0\" >0.758432</td>\n",
       "                        <td id=\"T_1f3c46ae_900c_11e9_8b4f_fcf8ae950b1erow13_col1\" class=\"data row13 col1\" >0.77628</td>\n",
       "                        <td id=\"T_1f3c46ae_900c_11e9_8b4f_fcf8ae950b1erow13_col2\" class=\"data row13 col2\" >0.778475</td>\n",
       "            </tr>\n",
       "            <tr>\n",
       "                        <th id=\"T_1f3c46ae_900c_11e9_8b4f_fcf8ae950b1elevel0_row14\" class=\"row_heading level0 row14\" >15</th>\n",
       "                        <td id=\"T_1f3c46ae_900c_11e9_8b4f_fcf8ae950b1erow14_col0\" class=\"data row14 col0\" >0.769648</td>\n",
       "                        <td id=\"T_1f3c46ae_900c_11e9_8b4f_fcf8ae950b1erow14_col1\" class=\"data row14 col1\" >0.789333</td>\n",
       "                        <td id=\"T_1f3c46ae_900c_11e9_8b4f_fcf8ae950b1erow14_col2\" class=\"data row14 col2\" >0.766304</td>\n",
       "            </tr>\n",
       "            <tr>\n",
       "                        <th id=\"T_1f3c46ae_900c_11e9_8b4f_fcf8ae950b1elevel0_row15\" class=\"row_heading level0 row15\" >16</th>\n",
       "                        <td id=\"T_1f3c46ae_900c_11e9_8b4f_fcf8ae950b1erow15_col0\" class=\"data row15 col0\" >0.779174</td>\n",
       "                        <td id=\"T_1f3c46ae_900c_11e9_8b4f_fcf8ae950b1erow15_col1\" class=\"data row15 col1\" >0.764759</td>\n",
       "                        <td id=\"T_1f3c46ae_900c_11e9_8b4f_fcf8ae950b1erow15_col2\" class=\"data row15 col2\" >0.780269</td>\n",
       "            </tr>\n",
       "            <tr>\n",
       "                        <th id=\"T_1f3c46ae_900c_11e9_8b4f_fcf8ae950b1elevel0_row16\" class=\"row_heading level0 row16\" >17</th>\n",
       "                        <td id=\"T_1f3c46ae_900c_11e9_8b4f_fcf8ae950b1erow16_col0\" class=\"data row16 col0\" >0.781362</td>\n",
       "                        <td id=\"T_1f3c46ae_900c_11e9_8b4f_fcf8ae950b1erow16_col1\" class=\"data row16 col1\" >0.757991</td>\n",
       "                        <td id=\"T_1f3c46ae_900c_11e9_8b4f_fcf8ae950b1erow16_col2\" class=\"data row16 col2\" >0.764759</td>\n",
       "            </tr>\n",
       "            <tr>\n",
       "                        <th id=\"T_1f3c46ae_900c_11e9_8b4f_fcf8ae950b1elevel0_row17\" class=\"row_heading level0 row17\" >18</th>\n",
       "                        <td id=\"T_1f3c46ae_900c_11e9_8b4f_fcf8ae950b1erow17_col0\" class=\"data row17 col0\" >0.778077</td>\n",
       "                        <td id=\"T_1f3c46ae_900c_11e9_8b4f_fcf8ae950b1erow17_col1\" class=\"data row17 col1\" >0.787879</td>\n",
       "                        <td id=\"T_1f3c46ae_900c_11e9_8b4f_fcf8ae950b1erow17_col2\" class=\"data row17 col2\" >0.766999</td>\n",
       "            </tr>\n",
       "            <tr>\n",
       "                        <th id=\"T_1f3c46ae_900c_11e9_8b4f_fcf8ae950b1elevel0_row18\" class=\"row_heading level0 row18\" >19</th>\n",
       "                        <td id=\"T_1f3c46ae_900c_11e9_8b4f_fcf8ae950b1erow18_col0\" class=\"data row18 col0\" >0.781362</td>\n",
       "                        <td id=\"T_1f3c46ae_900c_11e9_8b4f_fcf8ae950b1erow18_col1\" class=\"data row18 col1\" >0.741906</td>\n",
       "                        <td id=\"T_1f3c46ae_900c_11e9_8b4f_fcf8ae950b1erow18_col2\" class=\"data row18 col2\" >0.80597</td>\n",
       "            </tr>\n",
       "            <tr>\n",
       "                        <th id=\"T_1f3c46ae_900c_11e9_8b4f_fcf8ae950b1elevel0_row19\" class=\"row_heading level0 row19\" >20</th>\n",
       "                        <td id=\"T_1f3c46ae_900c_11e9_8b4f_fcf8ae950b1erow19_col0\" class=\"data row19 col0\" >0.776577</td>\n",
       "                        <td id=\"T_1f3c46ae_900c_11e9_8b4f_fcf8ae950b1erow19_col1\" class=\"data row19 col1\" >0.783154</td>\n",
       "                        <td id=\"T_1f3c46ae_900c_11e9_8b4f_fcf8ae950b1erow19_col2\" class=\"data row19 col2\" >0.806678</td>\n",
       "            </tr>\n",
       "    </tbody></table>"
      ],
      "text/plain": [
       "<pandas.io.formats.style.Styler at 0x7fa49edf6310>"
      ]
     },
     "execution_count": 42,
     "metadata": {},
     "output_type": "execute_result"
    }
   ],
   "source": [
    "indices_f1_table.style.apply(highlight_max, axis=0)"
   ]
  },
  {
   "cell_type": "code",
   "execution_count": null,
   "metadata": {},
   "outputs": [],
   "source": []
  },
  {
   "cell_type": "code",
   "execution_count": null,
   "metadata": {},
   "outputs": [],
   "source": []
  },
  {
   "cell_type": "code",
   "execution_count": null,
   "metadata": {},
   "outputs": [],
   "source": []
  }
 ],
 "metadata": {
  "kernelspec": {
   "display_name": "cv2",
   "language": "python",
   "name": "cv2"
  },
  "language_info": {
   "codemirror_mode": {
    "name": "ipython",
    "version": 2
   },
   "file_extension": ".py",
   "mimetype": "text/x-python",
   "name": "python",
   "nbconvert_exporter": "python",
   "pygments_lexer": "ipython2",
   "version": "2.7.12"
  }
 },
 "nbformat": 4,
 "nbformat_minor": 2
}
