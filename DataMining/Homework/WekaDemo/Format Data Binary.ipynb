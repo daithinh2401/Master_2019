{
 "cells": [
  {
   "cell_type": "code",
   "execution_count": 14,
   "metadata": {},
   "outputs": [],
   "source": [
    "data = open('plants.data', 'r', encoding=\"ISO-8859-1\")\n",
    "output = open('plants.csv', 'w')"
   ]
  },
  {
   "cell_type": "code",
   "execution_count": 15,
   "metadata": {},
   "outputs": [],
   "source": [
    "def load_stateabbr():\n",
    "    dict_state = {}\n",
    "    f = open('stateabbr.txt')\n",
    "    for line in f:\n",
    "        state = line.strip().split(\" \")[0]\n",
    "        dict_state[state] = \"n\"\n",
    "\n",
    "    f.close()\n",
    "    return dict_state"
   ]
  },
  {
   "cell_type": "code",
   "execution_count": 16,
   "metadata": {},
   "outputs": [],
   "source": [
    "states_origin = load_stateabbr()\n",
    "states = states_origin.copy()"
   ]
  },
  {
   "cell_type": "code",
   "execution_count": 17,
   "metadata": {},
   "outputs": [],
   "source": [
    "header = \"name\"\n",
    "for s in states:\n",
    "    header += \",\" + s\n",
    "output.write(header + \"\\n\")    \n",
    "for line in data:\n",
    "    plant = line.strip().split(\",\")\n",
    "    plant_name = plant[0]\n",
    "    new_line = plant_name\n",
    "\n",
    "    for i in range(1, len(plant)):\n",
    "        if plant[i] in states:\n",
    "            states[plant[i]] = \"y\"\n",
    "\n",
    "    for s in states:\n",
    "        new_line += \",\" + str(states[s])\n",
    "\n",
    "    output.write(new_line + \"\\n\")\n",
    "    states = states_origin.copy()\n",
    "data.close()\n",
    "output.close()"
   ]
  },
  {
   "cell_type": "code",
   "execution_count": null,
   "metadata": {},
   "outputs": [],
   "source": []
  }
 ],
 "metadata": {
  "kernelspec": {
   "display_name": "Python 3",
   "language": "python",
   "name": "python3"
  },
  "language_info": {
   "codemirror_mode": {
    "name": "ipython",
    "version": 3
   },
   "file_extension": ".py",
   "mimetype": "text/x-python",
   "name": "python",
   "nbconvert_exporter": "python",
   "pygments_lexer": "ipython3",
   "version": "3.7.3"
  }
 },
 "nbformat": 4,
 "nbformat_minor": 4
}
